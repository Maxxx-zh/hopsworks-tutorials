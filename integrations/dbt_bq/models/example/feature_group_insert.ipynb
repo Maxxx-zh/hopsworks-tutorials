{
 "cells": [
  {
   "cell_type": "markdown",
   "id": "d6fada07",
   "metadata": {},
   "source": [
    "## <span style=\"color:#ff5f27;\"> 🔮 Connecting to Hopsworks Feature Store </span>"
   ]
  },
  {
   "cell_type": "code",
   "execution_count": null,
   "id": "ef990eed",
   "metadata": {},
   "outputs": [],
   "source": [
    "import hsfs\n",
    "\n",
    "# Connect to the Hopsworks feature store\n",
    "hsfs_connection = hsfs.connection()\n",
    "\n",
    "# Retrieve the metadata handle\n",
    "feature_store = hsfs_connection.get_feature_store()\n",
    "\n",
    "# Retrieve storage connector\n",
    "connector = feature_store.get_storage_connector('{YOUR_BIGQUERY_STORAGE_CONNECTOR}')"
   ]
  },
  {
   "cell_type": "markdown",
   "id": "11818423",
   "metadata": {},
   "source": [
    "---\n",
    "## <span style='color:#ff5f27'> ⚙️ Retrieve Online External Feature Group</span>"
   ]
  },
  {
   "cell_type": "code",
   "execution_count": null,
   "id": "3080e677",
   "metadata": {},
   "outputs": [],
   "source": [
    "my_external_fg = feature_store.get_external_feature_group(\n",
    "    name=\"external_weather_fg\",\n",
    "    version=1\n",
    ")"
   ]
  },
  {
   "cell_type": "markdown",
   "id": "92f192b1",
   "metadata": {},
   "source": [
    "## <span style='color:#ff5f27'> ⬇️ Insert to online storage</span>"
   ]
  },
  {
   "cell_type": "code",
   "execution_count": null,
   "id": "7ad0278d",
   "metadata": {},
   "outputs": [],
   "source": [
    "df_example = my_external_fg.filter(my_external_fg['wind_speed'] <= 20).read()\n",
    "\n",
    "df_example.show(1)"
   ]
  },
  {
   "cell_type": "code",
   "execution_count": null,
   "id": "636f8056",
   "metadata": {},
   "outputs": [],
   "source": [
    "my_external_fg.insert(df_example)"
   ]
  },
  {
   "cell_type": "markdown",
   "id": "12cad12b",
   "metadata": {},
   "source": [
    "## <span style='color:#ff5f27'> ⚙️ Feature View Creation</span>"
   ]
  },
  {
   "cell_type": "code",
   "execution_count": null,
   "id": "1ca77e61",
   "metadata": {},
   "outputs": [],
   "source": [
    "query = my_external_fg.select_all()\n",
    "\n",
    "feature_view = feature_store.get_or_create_feature_view(\n",
    "    name='my_feature_view_name',\n",
    "    version=1,\n",
    "    query=query\n",
    ")"
   ]
  },
  {
   "cell_type": "markdown",
   "id": "85c027c7",
   "metadata": {},
   "source": [
    "## <span style='color:#ff5f27'> 🔮 Get Feature Vector</span>"
   ]
  },
  {
   "cell_type": "code",
   "execution_count": null,
   "id": "c9c46b3c",
   "metadata": {},
   "outputs": [],
   "source": [
    "vector = feature_view.get_feature_vector(\n",
    "    entry = {\n",
    "        'city_name': 'Los_Angeles',\n",
    "        'hour': 6\n",
    "    }\n",
    ")\n",
    "vector"
   ]
  },
  {
   "cell_type": "markdown",
   "id": "d90ad5e6",
   "metadata": {},
   "source": [
    "---"
   ]
  }
 ],
 "metadata": {
  "kernelspec": {
   "display_name": "Python 3 (ipykernel)",
   "language": "python",
   "name": "python3"
  },
  "language_info": {
   "codemirror_mode": {
    "name": "ipython",
    "version": 3
   },
   "file_extension": ".py",
   "mimetype": "text/x-python",
   "name": "python",
   "nbconvert_exporter": "python",
   "pygments_lexer": "ipython3",
   "version": "3.9.16"
  }
 },
 "nbformat": 4,
 "nbformat_minor": 5
}
