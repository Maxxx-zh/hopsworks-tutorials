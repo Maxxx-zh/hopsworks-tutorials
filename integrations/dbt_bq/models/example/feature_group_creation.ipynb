{
 "cells": [
  {
   "cell_type": "markdown",
   "id": "46d24b14",
   "metadata": {},
   "source": [
    "## <span style=\"color:#ff5f27;\"> 🔮 Connecting to Hopsworks Feature Store </span>\n",
    "\n",
    "Follow this [guide](https://docs.hopsworks.ai/3.0/user_guides/fs/storage_connector/creation/bigquery/) to set up a connection to BigQuery."
   ]
  },
  {
   "cell_type": "code",
   "execution_count": null,
   "id": "9ab3da5e",
   "metadata": {},
   "outputs": [],
   "source": [
    "import hsfs\n",
    "\n",
    "# Connect to the Hopsworks feature store\n",
    "hsfs_connection = hsfs.connection()\n",
    "\n",
    "# Retrieve the metadata handle\n",
    "feature_store = hsfs_connection.get_feature_store()\n",
    "\n",
    "# Retrieve storage connector\n",
    "connector = feature_store.get_storage_connector('{YOUR_BIGQUERY_STORAGE_CONNECTOR}')"
   ]
  },
  {
   "cell_type": "markdown",
   "id": "02a8e7f8",
   "metadata": {},
   "source": [
    "## <span style='color:#ff5f27'> 📝 Read Data </span>\n",
    "\n",
    "You can retrieve your data by passing a SQL query as a string into **query** parameter of the `.read()` method.\n",
    "\n",
    "To indicate what data you need, follow the next table format:\n",
    "\n",
    "`{dataset_name}.{table_name}`"
   ]
  },
  {
   "cell_type": "code",
   "execution_count": null,
   "id": "640d3c5b",
   "metadata": {},
   "outputs": [],
   "source": [
    "query_str = \"SELECT * FROM {dataset_name}.{table_name}\"\n",
    "\n",
    "# read results from a SQL \n",
    "df = connector.read(query=query_str)    "
   ]
  },
  {
   "cell_type": "markdown",
   "id": "2c3bcb83",
   "metadata": {},
   "source": [
    "---\n",
    "## <span style='color:#ff5f27'> ⚙️ Online Feature Group Creation</span>\n",
    "\n",
    "To create an **Online External Feature Group**, use `feature_store.create_external_feature_group()` method.\n",
    "\n",
    "Provide the parameters for your query and the BQ storage connector:\n",
    "- `query` - your SQL query string. \n",
    "- `storage_connector` - your **BigQuery Storage Connector**.\n",
    "- `online_enabled` - set to True."
   ]
  },
  {
   "cell_type": "code",
   "execution_count": null,
   "id": "a61afb6b",
   "metadata": {},
   "outputs": [],
   "source": [
    "my_external_fg = feature_store.create_external_feature_group(\n",
    "    name=\"external_weather_fg\",\n",
    "    version=1,\n",
    "    description=\"Description of the Online External Big Query Table\",\n",
    "    primary_key=['city_name', 'hour'],\n",
    "    event_time='base_time',\n",
    "    query=query_str,\n",
    "    storage_connector=connector,\n",
    "    online_enabled=True\n",
    ")"
   ]
  },
  {
   "cell_type": "markdown",
   "id": "7d91f8ce",
   "metadata": {},
   "source": [
    "Don't forget to register a feature group metadata object in Hopsworks!"
   ]
  },
  {
   "cell_type": "code",
   "execution_count": null,
   "id": "a92dc3cc",
   "metadata": {},
   "outputs": [],
   "source": [
    "my_external_fg.save()"
   ]
  },
  {
   "cell_type": "markdown",
   "id": "aefde6e1",
   "metadata": {},
   "source": [
    "---"
   ]
  }
 ],
 "metadata": {
  "kernelspec": {
   "display_name": "Python 3 (ipykernel)",
   "language": "python",
   "name": "python3"
  },
  "language_info": {
   "codemirror_mode": {
    "name": "ipython",
    "version": 3
   },
   "file_extension": ".py",
   "mimetype": "text/x-python",
   "name": "python",
   "nbconvert_exporter": "python",
   "pygments_lexer": "ipython3",
   "version": "3.9.16"
  }
 },
 "nbformat": 4,
 "nbformat_minor": 5
}
