{
 "cells": [
  {
   "cell_type": "markdown",
   "id": "0c382383",
   "metadata": {},
   "source": [
    "# <span style=\"color:#ff5f27\"> 👨🏻‍🏫 Custom Transformation Functions Registration</span>\n",
    "\n",
    "In this notebook you will see how **to write custom transformation functions for feature view** and how to **register and retrieve Keras model** using Hopsworks Model Registry, **and then use it for batch and serving feature vector prediction**."
   ]
  },
  {
   "cell_type": "markdown",
   "id": "3994e496",
   "metadata": {},
   "source": [
    "## <span style=\"color:#ff5f27\">🗄️ Table of Contents</span>\n",
    "- [📝 Imports](#1)\n",
    "- [💽 Loading Data](#2)\n",
    "- [🔮 Connecting to Hopsworks Feature Store](#3)\n",
    "- [🪄 Creating Feature Groups](#4)\n",
    "- [👩🏻‍🔬 Custom Transformation Functions](#12)\n",
    "- [✍🏻 Registering Custom Transformation Functions in Hopsworks](#5)\n",
    "- [🖍 Feature View Creation](#6)\n",
    "- [🧬 Modeling](#7)\n",
    "- [💾 Saving the Model in Model Registry](#8)\n",
    "- [📮 Retrieving the Model from Model Registry](#9)\n",
    "- [👨🏻‍⚖️ Batch Prediction](#10)\n",
    "- [👨🏻‍⚖️ Serving Feature Vector Prediction](#11)"
   ]
  },
  {
   "cell_type": "markdown",
   "id": "a8743b40",
   "metadata": {},
   "source": [
    "<a name='1'></a>\n",
    "## <span style='color:#ff5f27'> 📝 Imports </span>"
   ]
  },
  {
   "cell_type": "code",
   "execution_count": null,
   "id": "f10e0c78",
   "metadata": {},
   "outputs": [],
   "source": [
    "import pandas as pd\n",
    "import numpy as np\n",
    "import os\n",
    "import joblib\n",
    "\n",
    "import xgboost as xgb\n",
    "from sklearn.metrics import accuracy_score"
   ]
  },
  {
   "cell_type": "markdown",
   "id": "626ca429",
   "metadata": {},
   "source": [
    "<a name='2'></a>\n",
    "## <span style=\"color:#ff5f27;\"> 💽 Loading Data </span>"
   ]
  },
  {
   "cell_type": "code",
   "execution_count": null,
   "id": "ed7aaf97",
   "metadata": {},
   "outputs": [],
   "source": [
    "# Load the data\n",
    "df_original = pd.read_csv(\"https://repo.hops.works/dev/davit/air_quality/backfill_pm2_5_eu.csv\")\n",
    "# Generate a binary target column\n",
    "df_original['target'] = np.random.choice([0, 1], size=len(df_original))\n",
    "df_original.head(3)"
   ]
  },
  {
   "cell_type": "markdown",
   "id": "4bd983ab",
   "metadata": {},
   "source": [
    "<a name='3'></a>\n",
    "## <span style=\"color:#ff5f27;\"> 🔮 Connecting to Hopsworks Feature Store </span>"
   ]
  },
  {
   "cell_type": "code",
   "execution_count": null,
   "id": "4826fc0e",
   "metadata": {},
   "outputs": [],
   "source": [
    "import hopsworks\n",
    "\n",
    "project = hopsworks.login()\n",
    "\n",
    "fs = project.get_feature_store() "
   ]
  },
  {
   "cell_type": "markdown",
   "id": "55f77b7b",
   "metadata": {},
   "source": [
    "<a name='4'></a>\n",
    "## <span style=\"color:#ff5f27;\">🪄 Creating Feature Groups</span>"
   ]
  },
  {
   "cell_type": "code",
   "execution_count": null,
   "id": "ed3a1093",
   "metadata": {},
   "outputs": [],
   "source": [
    "feature_group = fs.get_or_create_feature_group(\n",
    "    name='feature_group_online',\n",
    "    description='Online Feature Group',\n",
    "    version=1,\n",
    "    primary_key=['city_name', 'date'],\n",
    "    online_enabled=True,\n",
    ")    \n",
    "feature_group.insert(df_original)"
   ]
  },
  {
   "cell_type": "markdown",
   "id": "f38330c2",
   "metadata": {},
   "source": [
    "<a name='12'></a>\n",
    "## <span style=\"color:#ff5f27;\">👩🏻‍🔬 Custom Transformation Functions</span>\n",
    "\n",
    "In the `transformations.py` file you can find the custom `encode_city_name` and `scale_pm2_5` transformation functions.\n",
    "\n",
    "Let's import them and see how they work."
   ]
  },
  {
   "cell_type": "code",
   "execution_count": null,
   "id": "7b67080b",
   "metadata": {},
   "outputs": [],
   "source": [
    "from transformations import encode_city_name, scale_pm2_5"
   ]
  },
  {
   "cell_type": "code",
   "execution_count": null,
   "id": "cbd50770",
   "metadata": {},
   "outputs": [],
   "source": [
    "city_name = 'Madrid'\n",
    "encoded_city_name = encode_city_name(city_name)\n",
    "print(\"⛳️ Encoded City Name:\", encoded_city_name)  # Output: Encoded City Name: 0"
   ]
  },
  {
   "cell_type": "code",
   "execution_count": null,
   "id": "3efc5c75",
   "metadata": {},
   "outputs": [],
   "source": [
    "pm2_5_value = 13.0\n",
    "scaled_pm2_5 = scale_pm2_5(pm2_5_value)\n",
    "print(\"⛳️ Scaled PM2.5 Value:\", scaled_pm2_5)  # Output: Scaled PM2.5 Value: 0.0"
   ]
  },
  {
   "cell_type": "markdown",
   "id": "66b79ff3",
   "metadata": {},
   "source": [
    "<a name='5'></a>\n",
    "## <span style=\"color:#ff5f27;\"> ✍🏻 Registering Custom Transformation Functions in Hopsworks</span>\n",
    "\n",
    "The next step is to **register custom transformation functions** in Hopsworks Feature Store. "
   ]
  },
  {
   "cell_type": "code",
   "execution_count": null,
   "id": "a1e9ba3e",
   "metadata": {},
   "outputs": [],
   "source": [
    "# Check existing transformation functions\n",
    "fns = [fn.name for fn in fs.get_transformation_functions()]\n",
    "fns"
   ]
  },
  {
   "cell_type": "code",
   "execution_count": null,
   "id": "875367b2",
   "metadata": {},
   "outputs": [],
   "source": [
    "# Register encode_city_name in Hopsworks\n",
    "if \"encode_city_name\" not in fns:\n",
    "    encoder = fs.create_transformation_function(\n",
    "        encode_city_name, \n",
    "        output_type=int,\n",
    "        version=1,\n",
    "    )\n",
    "    encoder.save()\n",
    "    \n",
    "# Register scale_pm2_5 in Hopsworks\n",
    "if \"scale_pm2_5\" not in fns:\n",
    "    scaler = fs.create_transformation_function(\n",
    "        scale_pm2_5, \n",
    "        output_type=float,\n",
    "        version=1,\n",
    "    )\n",
    "    scaler.save()"
   ]
  },
  {
   "cell_type": "code",
   "execution_count": null,
   "id": "b5a3b9ff",
   "metadata": {},
   "outputs": [],
   "source": [
    "# Check it your transformation functions are present in the feature store\n",
    "fns = [fn.name for fn in fs.get_transformation_functions()]\n",
    "fns"
   ]
  },
  {
   "cell_type": "markdown",
   "id": "6c6e3352",
   "metadata": {},
   "source": [
    "<a name='6'></a>\n",
    "## <span style=\"color:#ff5f27;\"> 🖍 Feature View Creation</span>"
   ]
  },
  {
   "cell_type": "code",
   "execution_count": null,
   "id": "f5dd6ce0",
   "metadata": {},
   "outputs": [],
   "source": [
    "# Retrieve encode_city_name transformation function\n",
    "encoder = fs.get_transformation_function(\n",
    "    name=\"encode_city_name\",\n",
    "    version=1\n",
    ")\n",
    "\n",
    "# Retrieve scale_pm2_5 transformation function\n",
    "scaler = fs.get_transformation_function(\n",
    "    name=\"scale_pm2_5\",\n",
    "    version=1\n",
    ")"
   ]
  },
  {
   "cell_type": "code",
   "execution_count": null,
   "id": "d1791335",
   "metadata": {},
   "outputs": [],
   "source": [
    "# Build a Query object\n",
    "query = feature_group.select_except(['date'])\n",
    "\n",
    "# Get or create a feature view\n",
    "feature_view = fs.get_or_create_feature_view(\n",
    "    name='serving_fv',\n",
    "    version=1,\n",
    "    query=query,\n",
    "    # Apply your custom transformation functions to necessary columns\n",
    "    transformation_functions={\n",
    "        \"city_name\": encoder,\n",
    "        \"pm2_5\": scaler,\n",
    "    },\n",
    "    labels=['target'],\n",
    ")"
   ]
  },
  {
   "cell_type": "markdown",
   "id": "f554ced8",
   "metadata": {},
   "source": [
    "## <span style=\"color:#ff5f27;\"> 🏋️ Training Dataset Creation</span>\n"
   ]
  },
  {
   "cell_type": "code",
   "execution_count": null,
   "id": "8eb20081",
   "metadata": {},
   "outputs": [],
   "source": [
    "# Create a train-test split dataset\n",
    "td_version, job = feature_view.create_train_test_split(\n",
    "    test_size=0.1,\n",
    "    description='Description of the dataset',\n",
    "    data_format='csv'\n",
    ")"
   ]
  },
  {
   "cell_type": "markdown",
   "id": "1502740c",
   "metadata": {},
   "source": [
    "### <span style=\"color:#ff5f27;\">🪝 Training Dataset Retrieval</span>"
   ]
  },
  {
   "cell_type": "code",
   "execution_count": null,
   "id": "5a938b46",
   "metadata": {},
   "outputs": [],
   "source": [
    "# Retrieve the train-test split\n",
    "X_train, X_test, y_train, y_test = feature_view.get_train_test_split(\n",
    "    training_dataset_version=td_version\n",
    ")"
   ]
  },
  {
   "cell_type": "code",
   "execution_count": null,
   "id": "4a830bca",
   "metadata": {},
   "outputs": [],
   "source": [
    "X_train.head(3)"
   ]
  },
  {
   "cell_type": "code",
   "execution_count": null,
   "id": "d8342245",
   "metadata": {},
   "outputs": [],
   "source": [
    "y_train.head(3)"
   ]
  },
  {
   "cell_type": "markdown",
   "id": "d09cf48d",
   "metadata": {},
   "source": [
    "<a name='7'></a>\n",
    "## <span style=\"color:#ff5f27;\">🧬 Modeling</span>\n",
    "The next step is to fit XGBClassifier."
   ]
  },
  {
   "cell_type": "code",
   "execution_count": null,
   "id": "ee5019a6",
   "metadata": {},
   "outputs": [],
   "source": [
    "# Initialize XGBClassifier\n",
    "xgb_classifier = xgb.XGBClassifier()\n",
    "\n",
    "# Fit the classifier\n",
    "xgb_classifier.fit(X_train, y_train)\n",
    "\n",
    "# Evaluate the model\n",
    "y_pred = xgb_classifier.predict(X_test)\n",
    "accuracy = accuracy_score(y_test, y_pred)\n",
    "print(\"👮🏻‍♂️ Accuracy:\", accuracy)"
   ]
  },
  {
   "cell_type": "markdown",
   "id": "49bedc3e",
   "metadata": {},
   "source": [
    "## <span style=\"color:#ff5f27;\">🗄 Model Registry</span>"
   ]
  },
  {
   "cell_type": "code",
   "execution_count": null,
   "id": "b7a73fe0",
   "metadata": {},
   "outputs": [],
   "source": [
    "mr = project.get_model_registry()"
   ]
  },
  {
   "cell_type": "markdown",
   "id": "6dbde875",
   "metadata": {},
   "source": [
    "### <span style=\"color:#ff5f27;\">⚙️ Model Schema</span>\n"
   ]
  },
  {
   "cell_type": "code",
   "execution_count": null,
   "id": "8c52621c",
   "metadata": {},
   "outputs": [],
   "source": [
    "from hsml.schema import Schema\n",
    "from hsml.model_schema import ModelSchema\n",
    "\n",
    "input_schema = Schema(X_train.values)\n",
    "output_schema = Schema(y_train)\n",
    "model_schema = ModelSchema(input_schema=input_schema, output_schema=output_schema)\n",
    "\n",
    "model_schema.to_dict()"
   ]
  },
  {
   "cell_type": "markdown",
   "id": "c1f6cb84",
   "metadata": {},
   "source": [
    "<a name='8'></a>\n",
    "### <span style=\"color:#ff5f27;\">💾 Saving the Model</span>"
   ]
  },
  {
   "cell_type": "code",
   "execution_count": null,
   "id": "e94a18cf",
   "metadata": {},
   "outputs": [],
   "source": [
    "model_dir = \"xgb_model\"\n",
    "\n",
    "if os.path.isdir(model_dir) == False:\n",
    "    os.mkdir(model_dir)\n",
    "\n",
    "# Save the model\n",
    "joblib.dump(xgb_classifier, model_dir + '/xgb_classifier.pkl')"
   ]
  },
  {
   "cell_type": "code",
   "execution_count": null,
   "id": "da7415dc",
   "metadata": {},
   "outputs": [],
   "source": [
    "# Create a model in the model registry\n",
    "model = mr.python.create_model(\n",
    "    name=\"xgb_model\",\n",
    "    metrics={\"Accuracy\": accuracy}, \n",
    "    description=\"XGB model\",\n",
    "    input_example=X_train.sample(),\n",
    "    model_schema=model_schema\n",
    ")\n",
    "\n",
    "model.save(model_dir)"
   ]
  },
  {
   "cell_type": "markdown",
   "id": "be4e238f",
   "metadata": {},
   "source": [
    "<a name='9'></a>\n",
    "## <span style=\"color:#ff5f27;\"> 📮 Retrieving the Model from Model Registry </span>"
   ]
  },
  {
   "cell_type": "code",
   "execution_count": null,
   "id": "2b287444",
   "metadata": {},
   "outputs": [],
   "source": [
    "# Retrieve your model from the model registry\n",
    "retrieved_model = mr.get_model(\n",
    "    name=\"xgb_model\",\n",
    "    version=1\n",
    ")\n",
    "saved_model_dir = retrieved_model.download()"
   ]
  },
  {
   "cell_type": "code",
   "execution_count": null,
   "id": "9854b853",
   "metadata": {},
   "outputs": [],
   "source": [
    "# Retrieve the XGB model\n",
    "retrieved_xgboost_model = joblib.load(saved_model_dir + \"/xgb_classifier.pkl\")\n",
    "retrieved_xgboost_model"
   ]
  },
  {
   "cell_type": "markdown",
   "id": "b8e2e23e",
   "metadata": {},
   "source": [
    "<a name='10'></a>\n",
    "## <span style=\"color:#ff5f27;\"> 👨🏻‍⚖️ Batch Prediction </span>"
   ]
  },
  {
   "cell_type": "code",
   "execution_count": null,
   "id": "94123860",
   "metadata": {},
   "outputs": [],
   "source": [
    "# Initialise feature view to retrieve batch data\n",
    "feature_view.init_batch_scoring(training_dataset_version=td_version)\n",
    "\n",
    "# Retrieve batch data\n",
    "batch_data = feature_view.get_batch_data()\n",
    "batch_data.head(3)"
   ]
  },
  {
   "cell_type": "code",
   "execution_count": null,
   "id": "9b96bb01",
   "metadata": {},
   "outputs": [],
   "source": [
    "# Predict batch data using retrieved model\n",
    "predictions_batch = retrieved_xgboost_model.predict(batch_data)\n",
    "predictions_batch[:10]"
   ]
  },
  {
   "cell_type": "markdown",
   "id": "eaf4631d",
   "metadata": {},
   "source": [
    "<a name='11'></a>\n",
    "## <span style=\"color:#ff5f27;\"> 👨🏻‍⚖️ Serving Feature Vector Prediction</span>\n",
    "\n",
    "Feature Vectors are retrieved from feature store as a Python list. So to make it suitable for model prediction let's write a `to_df` function will transform a feature vector(s) list into a pandas DataFrame."
   ]
  },
  {
   "cell_type": "code",
   "execution_count": null,
   "id": "2317eadf",
   "metadata": {},
   "outputs": [],
   "source": [
    "def to_df(feature_vector):\n",
    "    \"\"\"\n",
    "    Convert a feature vector or a list of feature vectors into a pandas DataFrame.\n",
    "\n",
    "    Parameters:\n",
    "        feature_vector (a list, or list of lists): \n",
    "            A feature vector or a list of feature vectors. A feature vector is \n",
    "            represented as a list containing two elements: the first \n",
    "            element corresponds to the city name (categorical feature), and the \n",
    "            second element corresponds to the PM2.5 value (numerical feature).\n",
    "\n",
    "    Returns:\n",
    "        pandas.DataFrame: A DataFrame representing the feature vector(s). \n",
    "        The DataFrame will have two columns: 'city_name' for the city names \n",
    "        and 'pm2_5' for the corresponding PM2.5 values.\n",
    "\n",
    "    Example:\n",
    "        >>> feature_vector = ['New York', 15.3]\n",
    "        >>> to_df(feature_vector)\n",
    "           city_name  pm2_5\n",
    "        0  New York   15.3\n",
    "\n",
    "        >>> multiple_vectors = [['New York', 15.3], ['Los Angeles', 10.7]]\n",
    "        >>> to_df(multiple_vectors)\n",
    "          city_name  pm2_5\n",
    "        0  New York   15.3\n",
    "        1  Los Angeles 10.7\n",
    "    \"\"\"\n",
    "    if isinstance(feature_vector[0], list): \n",
    "        city_names = [vector[0] for vector in feature_vector]\n",
    "        pm2_5_values = [vector[1] for vector in feature_vector]\n",
    "        data = pd.DataFrame(\n",
    "            {\n",
    "                'city_name': city_names,\n",
    "                'pm2_5': pm2_5_values,\n",
    "            }\n",
    "        )\n",
    "        return data\n",
    "\n",
    "    data = pd.DataFrame(\n",
    "            {\n",
    "                'city_name': [feature_vector[0]],\n",
    "                'pm2_5': [feature_vector[1]],\n",
    "            }\n",
    "        )\n",
    "    return data"
   ]
  },
  {
   "cell_type": "code",
   "execution_count": null,
   "id": "5cdb19e0",
   "metadata": {},
   "outputs": [],
   "source": [
    "# Initialise feature view to retrieve feature vector\n",
    "feature_view.init_serving(1)\n",
    "\n",
    "# Retrieve a feature vector\n",
    "feature_vector = feature_view.get_feature_vector(\n",
    "    entry = {\n",
    "        \"city_name\": 'Amsterdam',\n",
    "        \"date\": '2013-01-01',\n",
    "    }\n",
    ")\n",
    "feature_vector"
   ]
  },
  {
   "cell_type": "code",
   "execution_count": null,
   "id": "ac308069",
   "metadata": {},
   "outputs": [],
   "source": [
    "# Transform feature vector to pandas dataframe\n",
    "feature_vector_df = to_df(feature_vector)\n",
    "feature_vector_df"
   ]
  },
  {
   "cell_type": "code",
   "execution_count": null,
   "id": "91dfdbbc",
   "metadata": {},
   "outputs": [],
   "source": [
    "# Predict feature vector dataframe using retrieved model\n",
    "prediction_feature_vector = retrieved_xgboost_model.predict(feature_vector_df)\n",
    "prediction_feature_vector"
   ]
  },
  {
   "cell_type": "code",
   "execution_count": null,
   "id": "ac541e0b",
   "metadata": {},
   "outputs": [],
   "source": [
    "# Retrieve feature vectors from feature store\n",
    "feature_vectors = feature_view.get_feature_vectors(\n",
    "    entry = [\n",
    "        {\"city_name\": 'Amsterdam', \"date\": '2013-01-01'},\n",
    "        {\"city_name\": 'Amsterdam', \"date\": '2014-01-01'},\n",
    "    ]\n",
    ")\n",
    "feature_vectors"
   ]
  },
  {
   "cell_type": "code",
   "execution_count": null,
   "id": "6b07dec0",
   "metadata": {},
   "outputs": [],
   "source": [
    "# Convert feature vectors to pandas dataframe\n",
    "feature_vectors_df = to_df(feature_vectors)\n",
    "feature_vectors_df"
   ]
  },
  {
   "cell_type": "code",
   "execution_count": null,
   "id": "3ee7ffa0",
   "metadata": {},
   "outputs": [],
   "source": [
    "# Predict dataframe of feature vectors using retrieved model\n",
    "prediction_feature_vectors = retrieved_xgboost_model.predict(feature_vectors_df)\n",
    "prediction_feature_vectors"
   ]
  },
  {
   "cell_type": "markdown",
   "id": "0b1149b1",
   "metadata": {},
   "source": [
    "---"
   ]
  }
 ],
 "metadata": {
  "kernelspec": {
   "display_name": "Python 3 (ipykernel)",
   "language": "python",
   "name": "python3"
  },
  "language_info": {
   "codemirror_mode": {
    "name": "ipython",
    "version": 3
   },
   "file_extension": ".py",
   "mimetype": "text/x-python",
   "name": "python",
   "nbconvert_exporter": "python",
   "pygments_lexer": "ipython3",
   "version": "3.9.13"
  }
 },
 "nbformat": 4,
 "nbformat_minor": 5
}
