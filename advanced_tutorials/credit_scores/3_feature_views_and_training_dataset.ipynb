{
 "cells": [
  {
   "cell_type": "markdown",
   "id": "ec1fb5d4",
   "metadata": {},
   "source": [
    "# <span style=\"font-width:bold; font-size: 3rem; color:#1EB182;\"><img src=\"../../images/icon102.png\" width=\"38px\"></img> **Hopsworks Feature Store** </span><span style=\"font-width:bold; font-size: 3rem; color:#333;\">- Part 03: Training Data & Feature views</span>\n",
    "\n",
    "[![Open In Colab](https://colab.research.google.com/assets/colab-badge.svg)](https://colab.research.google.com/github/logicalclocks/hopsworks-tutorials/blob/master/advanced_tutorials/{project_name}/{notebook_name}.ipynb)\n",
    "\n",
    "<span style=\"font-width:bold; font-size: 1.4rem;\">This notebook explains how to read from a feature group, create training dataset within the feature store, train a model and save it to model registry.</span>\n",
    "\n",
    "## 🗒️ This notebook is divided into the following sections:\n",
    "\n",
    "1. Fetch Feature Groups.\n",
    "2. Define Transformation functions.\n",
    "3. Create Feature Views.\n",
    "4. Create Training Dataset with training, validation and test splits.\n",
    "5. Train the model.\n",
    "6. Register model in Hopsworks model registry.\n",
    "7. Load batch data.\n",
    "8. Predict using model from Model Registry.\n",
    "\n",
    "![part2](../../images/02_training-dataset.png) "
   ]
  },
  {
   "cell_type": "code",
   "execution_count": 1,
   "id": "6a6e4839",
   "metadata": {},
   "outputs": [],
   "source": [
    "#ignore warnings\n",
    "import warnings\n",
    "warnings.filterwarnings('ignore')"
   ]
  },
  {
   "cell_type": "markdown",
   "id": "63e78e5c",
   "metadata": {},
   "source": [
    "## <span style=\"color:#ff5f27;\"> 🔮 Connecting to Hopsworks Feature Store </span>"
   ]
  },
  {
   "cell_type": "code",
   "execution_count": 2,
   "id": "8e230c78",
   "metadata": {},
   "outputs": [
    {
     "name": "stdout",
     "output_type": "stream",
     "text": [
      "Connected. Call `.close()` to terminate connection gracefully.\n",
      "\n",
      "Logged in to project, explore it here https://5c1f4710-7cb2-11ed-aab3-0135b8658ce3.cloud.hopsworks.ai/p/123\n",
      "Connected. Call `.close()` to terminate connection gracefully.\n"
     ]
    }
   ],
   "source": [
    "import hopsworks\n",
    "\n",
    "project = hopsworks.login()\n",
    "\n",
    "fs = project.get_feature_store() "
   ]
  },
  {
   "cell_type": "markdown",
   "id": "d3b486e2",
   "metadata": {},
   "source": [
    "## <span style=\"color:#ff5f27;\">🪄 Retrieving Feature Groups</span>"
   ]
  },
  {
   "cell_type": "code",
   "execution_count": 3,
   "id": "6ef0178b",
   "metadata": {},
   "outputs": [],
   "source": [
    "application_train_fg = fs.get_or_create_feature_group(\n",
    "    name = 'application_train',\n",
    "    version = 1\n",
    ")\n",
    "\n",
    "bureau_balance_fg = fs.get_or_create_feature_group(\n",
    "    name = 'bureau_balance',\n",
    "    version = 1\n",
    ")\n",
    "\n",
    "bureau_fg = fs.get_or_create_feature_group(\n",
    "    name = 'bureau',\n",
    "    version = 1\n",
    ")\n",
    "\n",
    "previous_application_fg = fs.get_or_create_feature_group(\n",
    "    name = 'previous_application',\n",
    "    version = 1\n",
    ")\n",
    "\n",
    "pos_cash_balance_fg = fs.get_or_create_feature_group(\n",
    "    name = 'pos_cash_balance',\n",
    "    version = 1\n",
    ")\n",
    "\n",
    "installments_payments_fg = fs.get_or_create_feature_group(\n",
    "    name = 'installments_payments',\n",
    "    version = 1\n",
    ")\n",
    "\n",
    "credit_card_balance_fg = fs.get_or_create_feature_group(\n",
    "    name = 'credit_card_balance',\n",
    "    version = 1\n",
    ")\n",
    "\n",
    "previous_loan_counts_fg = fs.get_or_create_feature_group(\n",
    "    name = 'previous_loan_counts',\n",
    "    version = 1\n",
    ")"
   ]
  },
  {
   "cell_type": "markdown",
   "id": "af7bc837",
   "metadata": {},
   "source": [
    "---\n",
    "\n",
    "## <span style=\"color:#ff5f27;\">🕵🏻‍♂️ Feature Groups Investigation</span>\n",
    "\n",
    "We can use `FeatureGroup.show()` method to select top n rows. \n",
    "\n",
    "Also we use method `FeatureGroup.read()` in order **to aggregate queries**, which are the output of next methods:\n",
    "\n",
    "- `FeatureGroup.get_feture()` to get specific feature from our Feature Group.\n",
    "\n",
    "- `FeatureGroup.select()` to get a few features from our Feature Group.\n",
    "\n",
    "- `FeatureGroup.select_all()` to get all features from our Feature Group.\n",
    "\n",
    "- `FeatureGroup.select_except()` to get all features except a few from our Feature Group.\n",
    "\n",
    "- `FeatureGroup.filter()` in order to apply specific filter to the feature group."
   ]
  },
  {
   "cell_type": "code",
   "execution_count": 4,
   "id": "78225ce5",
   "metadata": {},
   "outputs": [
    {
     "data": {
      "text/plain": [
       "<hsfs.feature_group.FeatureGroup at 0x7f3403d34070>"
      ]
     },
     "execution_count": 4,
     "metadata": {},
     "output_type": "execute_result"
    }
   ],
   "source": [
    "application_train_fg"
   ]
  },
  {
   "cell_type": "code",
   "execution_count": 5,
   "id": "629d2672",
   "metadata": {},
   "outputs": [
    {
     "data": {
      "text/plain": [
       "<hsfs.constructor.query.Query at 0x7f33cd3a15b0>"
      ]
     },
     "execution_count": 5,
     "metadata": {},
     "output_type": "execute_result"
    }
   ],
   "source": [
    "application_train_fg.select_all()"
   ]
  },
  {
   "cell_type": "code",
   "execution_count": 6,
   "id": "0db3a1d3",
   "metadata": {},
   "outputs": [
    {
     "name": "stdout",
     "output_type": "stream",
     "text": [
      "2022-12-19 16:46:41,718 INFO: USE `credit_scores_featurestore`\n",
      "2022-12-19 16:46:41,902 INFO: SELECT `fg0`.`sk_id_curr` `sk_id_curr`, `fg0`.`target` `target`, `fg0`.`name_contract_type` `name_contract_type`, `fg0`.`code_gender` `code_gender`, `fg0`.`flag_own_car` `flag_own_car`, `fg0`.`flag_own_realty` `flag_own_realty`, `fg0`.`cnt_children` `cnt_children`, `fg0`.`amt_income_total` `amt_income_total`, `fg0`.`amt_credit` `amt_credit`, `fg0`.`amt_annuity` `amt_annuity`, `fg0`.`amt_goods_price` `amt_goods_price`, `fg0`.`name_type_suite` `name_type_suite`, `fg0`.`name_income_type` `name_income_type`, `fg0`.`name_education_type` `name_education_type`, `fg0`.`name_family_status` `name_family_status`, `fg0`.`name_housing_type` `name_housing_type`, `fg0`.`region_population_relative` `region_population_relative`, `fg0`.`days_birth` `days_birth`, `fg0`.`days_employed` `days_employed`, `fg0`.`days_registration` `days_registration`, `fg0`.`days_id_publish` `days_id_publish`, `fg0`.`flag_mobil` `flag_mobil`, `fg0`.`flag_emp_phone` `flag_emp_phone`, `fg0`.`flag_work_phone` `flag_work_phone`, `fg0`.`flag_cont_mobile` `flag_cont_mobile`, `fg0`.`flag_phone` `flag_phone`, `fg0`.`flag_email` `flag_email`, `fg0`.`cnt_fam_members` `cnt_fam_members`, `fg0`.`region_rating_client` `region_rating_client`, `fg0`.`region_rating_client_w_city` `region_rating_client_w_city`, `fg0`.`weekday_appr_process_start` `weekday_appr_process_start`, `fg0`.`hour_appr_process_start` `hour_appr_process_start`, `fg0`.`reg_region_not_live_region` `reg_region_not_live_region`, `fg0`.`reg_region_not_work_region` `reg_region_not_work_region`, `fg0`.`live_region_not_work_region` `live_region_not_work_region`, `fg0`.`reg_city_not_live_city` `reg_city_not_live_city`, `fg0`.`reg_city_not_work_city` `reg_city_not_work_city`, `fg0`.`live_city_not_work_city` `live_city_not_work_city`, `fg0`.`organization_type` `organization_type`, `fg0`.`ext_source_2` `ext_source_2`, `fg0`.`ext_source_3` `ext_source_3`, `fg0`.`obs_30_cnt_social_circle` `obs_30_cnt_social_circle`, `fg0`.`def_30_cnt_social_circle` `def_30_cnt_social_circle`, `fg0`.`obs_60_cnt_social_circle` `obs_60_cnt_social_circle`, `fg0`.`def_60_cnt_social_circle` `def_60_cnt_social_circle`, `fg0`.`days_last_phone_change` `days_last_phone_change`, `fg0`.`flag_document_2` `flag_document_2`, `fg0`.`flag_document_3` `flag_document_3`, `fg0`.`flag_document_4` `flag_document_4`, `fg0`.`flag_document_5` `flag_document_5`, `fg0`.`flag_document_6` `flag_document_6`, `fg0`.`flag_document_7` `flag_document_7`, `fg0`.`flag_document_8` `flag_document_8`, `fg0`.`flag_document_9` `flag_document_9`, `fg0`.`flag_document_10` `flag_document_10`, `fg0`.`flag_document_11` `flag_document_11`, `fg0`.`flag_document_12` `flag_document_12`, `fg0`.`flag_document_13` `flag_document_13`, `fg0`.`flag_document_14` `flag_document_14`, `fg0`.`flag_document_15` `flag_document_15`, `fg0`.`flag_document_16` `flag_document_16`, `fg0`.`flag_document_17` `flag_document_17`, `fg0`.`flag_document_18` `flag_document_18`, `fg0`.`flag_document_19` `flag_document_19`, `fg0`.`flag_document_20` `flag_document_20`, `fg0`.`flag_document_21` `flag_document_21`, `fg0`.`amt_req_credit_bureau_hour` `amt_req_credit_bureau_hour`, `fg0`.`amt_req_credit_bureau_day` `amt_req_credit_bureau_day`, `fg0`.`amt_req_credit_bureau_week` `amt_req_credit_bureau_week`, `fg0`.`amt_req_credit_bureau_mon` `amt_req_credit_bureau_mon`, `fg0`.`amt_req_credit_bureau_qrt` `amt_req_credit_bureau_qrt`, `fg0`.`amt_req_credit_bureau_year` `amt_req_credit_bureau_year`\n",
      "FROM `credit_scores_featurestore`.`application_train_1` `fg0`\n"
     ]
    },
    {
     "data": {
      "text/html": [
       "<div>\n",
       "<style scoped>\n",
       "    .dataframe tbody tr th:only-of-type {\n",
       "        vertical-align: middle;\n",
       "    }\n",
       "\n",
       "    .dataframe tbody tr th {\n",
       "        vertical-align: top;\n",
       "    }\n",
       "\n",
       "    .dataframe thead th {\n",
       "        text-align: right;\n",
       "    }\n",
       "</style>\n",
       "<table border=\"1\" class=\"dataframe\">\n",
       "  <thead>\n",
       "    <tr style=\"text-align: right;\">\n",
       "      <th></th>\n",
       "      <th>sk_id_curr</th>\n",
       "      <th>target</th>\n",
       "      <th>name_contract_type</th>\n",
       "      <th>code_gender</th>\n",
       "      <th>flag_own_car</th>\n",
       "      <th>flag_own_realty</th>\n",
       "      <th>cnt_children</th>\n",
       "      <th>amt_income_total</th>\n",
       "      <th>amt_credit</th>\n",
       "      <th>amt_annuity</th>\n",
       "      <th>...</th>\n",
       "      <th>flag_document_18</th>\n",
       "      <th>flag_document_19</th>\n",
       "      <th>flag_document_20</th>\n",
       "      <th>flag_document_21</th>\n",
       "      <th>amt_req_credit_bureau_hour</th>\n",
       "      <th>amt_req_credit_bureau_day</th>\n",
       "      <th>amt_req_credit_bureau_week</th>\n",
       "      <th>amt_req_credit_bureau_mon</th>\n",
       "      <th>amt_req_credit_bureau_qrt</th>\n",
       "      <th>amt_req_credit_bureau_year</th>\n",
       "    </tr>\n",
       "  </thead>\n",
       "  <tbody>\n",
       "    <tr>\n",
       "      <th>0</th>\n",
       "      <td>201573</td>\n",
       "      <td>0</td>\n",
       "      <td>Cash loans</td>\n",
       "      <td>M</td>\n",
       "      <td>Y</td>\n",
       "      <td>N</td>\n",
       "      <td>2</td>\n",
       "      <td>157500.0</td>\n",
       "      <td>447768.0</td>\n",
       "      <td>48352.5</td>\n",
       "      <td>...</td>\n",
       "      <td>0</td>\n",
       "      <td>0</td>\n",
       "      <td>0</td>\n",
       "      <td>0</td>\n",
       "      <td>0.0</td>\n",
       "      <td>0.0</td>\n",
       "      <td>0.0</td>\n",
       "      <td>0.0</td>\n",
       "      <td>0.0</td>\n",
       "      <td>8.0</td>\n",
       "    </tr>\n",
       "    <tr>\n",
       "      <th>1</th>\n",
       "      <td>168624</td>\n",
       "      <td>0</td>\n",
       "      <td>Cash loans</td>\n",
       "      <td>F</td>\n",
       "      <td>N</td>\n",
       "      <td>Y</td>\n",
       "      <td>1</td>\n",
       "      <td>72000.0</td>\n",
       "      <td>297130.5</td>\n",
       "      <td>15556.5</td>\n",
       "      <td>...</td>\n",
       "      <td>0</td>\n",
       "      <td>0</td>\n",
       "      <td>0</td>\n",
       "      <td>0</td>\n",
       "      <td>0.0</td>\n",
       "      <td>0.0</td>\n",
       "      <td>0.0</td>\n",
       "      <td>0.0</td>\n",
       "      <td>0.0</td>\n",
       "      <td>0.0</td>\n",
       "    </tr>\n",
       "    <tr>\n",
       "      <th>2</th>\n",
       "      <td>377844</td>\n",
       "      <td>1</td>\n",
       "      <td>Cash loans</td>\n",
       "      <td>M</td>\n",
       "      <td>N</td>\n",
       "      <td>Y</td>\n",
       "      <td>0</td>\n",
       "      <td>157500.0</td>\n",
       "      <td>393543.0</td>\n",
       "      <td>21478.5</td>\n",
       "      <td>...</td>\n",
       "      <td>0</td>\n",
       "      <td>0</td>\n",
       "      <td>0</td>\n",
       "      <td>0</td>\n",
       "      <td>0.0</td>\n",
       "      <td>0.0</td>\n",
       "      <td>0.0</td>\n",
       "      <td>0.0</td>\n",
       "      <td>0.0</td>\n",
       "      <td>2.0</td>\n",
       "    </tr>\n",
       "    <tr>\n",
       "      <th>3</th>\n",
       "      <td>300127</td>\n",
       "      <td>0</td>\n",
       "      <td>Cash loans</td>\n",
       "      <td>F</td>\n",
       "      <td>N</td>\n",
       "      <td>Y</td>\n",
       "      <td>0</td>\n",
       "      <td>90000.0</td>\n",
       "      <td>193572.0</td>\n",
       "      <td>13063.5</td>\n",
       "      <td>...</td>\n",
       "      <td>0</td>\n",
       "      <td>0</td>\n",
       "      <td>0</td>\n",
       "      <td>0</td>\n",
       "      <td>0.0</td>\n",
       "      <td>0.0</td>\n",
       "      <td>0.0</td>\n",
       "      <td>0.0</td>\n",
       "      <td>0.0</td>\n",
       "      <td>1.0</td>\n",
       "    </tr>\n",
       "    <tr>\n",
       "      <th>4</th>\n",
       "      <td>444083</td>\n",
       "      <td>0</td>\n",
       "      <td>Cash loans</td>\n",
       "      <td>F</td>\n",
       "      <td>N</td>\n",
       "      <td>Y</td>\n",
       "      <td>0</td>\n",
       "      <td>112500.0</td>\n",
       "      <td>227520.0</td>\n",
       "      <td>18103.5</td>\n",
       "      <td>...</td>\n",
       "      <td>0</td>\n",
       "      <td>0</td>\n",
       "      <td>0</td>\n",
       "      <td>0</td>\n",
       "      <td>0.0</td>\n",
       "      <td>0.0</td>\n",
       "      <td>0.0</td>\n",
       "      <td>0.0</td>\n",
       "      <td>0.0</td>\n",
       "      <td>0.0</td>\n",
       "    </tr>\n",
       "  </tbody>\n",
       "</table>\n",
       "<p>5 rows × 72 columns</p>\n",
       "</div>"
      ],
      "text/plain": [
       "   sk_id_curr  target name_contract_type code_gender flag_own_car  \\\n",
       "0      201573       0         Cash loans           M            Y   \n",
       "1      168624       0         Cash loans           F            N   \n",
       "2      377844       1         Cash loans           M            N   \n",
       "3      300127       0         Cash loans           F            N   \n",
       "4      444083       0         Cash loans           F            N   \n",
       "\n",
       "  flag_own_realty  cnt_children  amt_income_total  amt_credit  amt_annuity  \\\n",
       "0               N             2          157500.0    447768.0      48352.5   \n",
       "1               Y             1           72000.0    297130.5      15556.5   \n",
       "2               Y             0          157500.0    393543.0      21478.5   \n",
       "3               Y             0           90000.0    193572.0      13063.5   \n",
       "4               Y             0          112500.0    227520.0      18103.5   \n",
       "\n",
       "   ...  flag_document_18 flag_document_19 flag_document_20 flag_document_21  \\\n",
       "0  ...                 0                0                0                0   \n",
       "1  ...                 0                0                0                0   \n",
       "2  ...                 0                0                0                0   \n",
       "3  ...                 0                0                0                0   \n",
       "4  ...                 0                0                0                0   \n",
       "\n",
       "  amt_req_credit_bureau_hour amt_req_credit_bureau_day  \\\n",
       "0                        0.0                       0.0   \n",
       "1                        0.0                       0.0   \n",
       "2                        0.0                       0.0   \n",
       "3                        0.0                       0.0   \n",
       "4                        0.0                       0.0   \n",
       "\n",
       "   amt_req_credit_bureau_week  amt_req_credit_bureau_mon  \\\n",
       "0                         0.0                        0.0   \n",
       "1                         0.0                        0.0   \n",
       "2                         0.0                        0.0   \n",
       "3                         0.0                        0.0   \n",
       "4                         0.0                        0.0   \n",
       "\n",
       "   amt_req_credit_bureau_qrt  amt_req_credit_bureau_year  \n",
       "0                        0.0                         8.0  \n",
       "1                        0.0                         0.0  \n",
       "2                        0.0                         2.0  \n",
       "3                        0.0                         1.0  \n",
       "4                        0.0                         0.0  \n",
       "\n",
       "[5 rows x 72 columns]"
      ]
     },
     "execution_count": 6,
     "metadata": {},
     "output_type": "execute_result"
    }
   ],
   "source": [
    "application_train_fg.read().head()"
   ]
  },
  {
   "cell_type": "markdown",
   "id": "41890ff4",
   "metadata": {},
   "source": [
    "---\n",
    "\n",
    "## <span style=\"color:#ff5f27;\"> 💼 Query Preparation</span>"
   ]
  },
  {
   "cell_type": "code",
   "execution_count": 7,
   "id": "41c4be37",
   "metadata": {},
   "outputs": [
    {
     "name": "stdout",
     "output_type": "stream",
     "text": [
      "2022-12-19 16:46:49,628 INFO: USE `credit_scores_featurestore`\n",
      "2022-12-19 16:46:49,813 INFO: SELECT `fg7`.`credit_active` `credit_active`, `fg7`.`credit_currency` `credit_currency`, `fg7`.`days_credit` `days_credit`, `fg7`.`credit_day_overdue` `credit_day_overdue`, `fg7`.`days_credit_enddate` `days_credit_enddate`, `fg7`.`cnt_credit_prolong` `cnt_credit_prolong`, `fg7`.`amt_credit_sum` `amt_credit_sum`, `fg7`.`amt_credit_sum_debt` `amt_credit_sum_debt`, `fg7`.`amt_credit_sum_overdue` `amt_credit_sum_overdue`, `fg7`.`credit_type` `credit_type`, `fg7`.`days_credit_update` `days_credit_update`, `fg0`.`target` `target`, `fg0`.`name_contract_type` `name_contract_type`, `fg0`.`code_gender` `code_gender`, `fg0`.`flag_own_car` `flag_own_car`, `fg0`.`flag_own_realty` `flag_own_realty`, `fg0`.`cnt_children` `cnt_children`, `fg0`.`amt_income_total` `amt_income_total`, `fg0`.`amt_annuity` `amt_annuity`, `fg0`.`amt_goods_price` `amt_goods_price`, `fg0`.`name_type_suite` `name_type_suite`, `fg0`.`name_income_type` `name_income_type`, `fg0`.`name_education_type` `name_education_type`, `fg0`.`name_family_status` `name_family_status`, `fg0`.`name_housing_type` `name_housing_type`, `fg0`.`region_population_relative` `region_population_relative`, `fg0`.`days_birth` `days_birth`, `fg0`.`days_employed` `days_employed`, `fg0`.`days_registration` `days_registration`, `fg0`.`days_id_publish` `days_id_publish`, `fg0`.`flag_emp_phone` `flag_emp_phone`, `fg0`.`flag_work_phone` `flag_work_phone`, `fg0`.`flag_cont_mobile` `flag_cont_mobile`, `fg0`.`flag_phone` `flag_phone`, `fg0`.`flag_email` `flag_email`, `fg0`.`cnt_fam_members` `cnt_fam_members`, `fg0`.`region_rating_client` `region_rating_client`, `fg0`.`region_rating_client_w_city` `region_rating_client_w_city`, `fg0`.`reg_region_not_live_region` `reg_region_not_live_region`, `fg0`.`reg_region_not_work_region` `reg_region_not_work_region`, `fg0`.`live_region_not_work_region` `live_region_not_work_region`, `fg0`.`reg_city_not_live_city` `reg_city_not_live_city`, `fg0`.`reg_city_not_work_city` `reg_city_not_work_city`, `fg0`.`live_city_not_work_city` `live_city_not_work_city`, `fg0`.`organization_type` `organization_type`, `fg0`.`ext_source_2` `ext_source_2`, `fg0`.`ext_source_3` `ext_source_3`, `fg0`.`obs_30_cnt_social_circle` `obs_30_cnt_social_circle`, `fg0`.`def_30_cnt_social_circle` `def_30_cnt_social_circle`, `fg0`.`obs_60_cnt_social_circle` `obs_60_cnt_social_circle`, `fg0`.`def_60_cnt_social_circle` `def_60_cnt_social_circle`, `fg0`.`days_last_phone_change` `days_last_phone_change`, `fg0`.`flag_document_3` `flag_document_3`, `fg0`.`flag_document_5` `flag_document_5`, `fg0`.`flag_document_6` `flag_document_6`, `fg0`.`flag_document_8` `flag_document_8`, `fg0`.`flag_document_9` `flag_document_9`, `fg0`.`flag_document_11` `flag_document_11`, `fg0`.`flag_document_13` `flag_document_13`, `fg0`.`flag_document_15` `flag_document_15`, `fg0`.`flag_document_16` `flag_document_16`, `fg0`.`flag_document_18` `flag_document_18`, `fg0`.`amt_req_credit_bureau_hour` `amt_req_credit_bureau_hour`, `fg0`.`amt_req_credit_bureau_day` `amt_req_credit_bureau_day`, `fg0`.`amt_req_credit_bureau_week` `amt_req_credit_bureau_week`, `fg0`.`amt_req_credit_bureau_mon` `amt_req_credit_bureau_mon`, `fg0`.`amt_req_credit_bureau_qrt` `amt_req_credit_bureau_qrt`, `fg0`.`amt_req_credit_bureau_year` `amt_req_credit_bureau_year`, `fg1`.`status` `status`, `fg2`.`amt_application` `amt_application`, `fg2`.`amt_credit` `amt_credit`, `fg2`.`weekday_appr_process_start` `weekday_appr_process_start`, `fg2`.`hour_appr_process_start` `hour_appr_process_start`, `fg2`.`flag_last_appl_per_contract` `flag_last_appl_per_contract`, `fg2`.`nflag_last_appl_in_day` `nflag_last_appl_in_day`, `fg2`.`name_cash_loan_purpose` `name_cash_loan_purpose`, `fg2`.`days_decision` `days_decision`, `fg2`.`name_payment_type` `name_payment_type`, `fg2`.`code_reject_reason` `code_reject_reason`, `fg2`.`name_client_type` `name_client_type`, `fg2`.`name_goods_category` `name_goods_category`, `fg2`.`name_portfolio` `name_portfolio`, `fg2`.`name_product_type` `name_product_type`, `fg2`.`channel_type` `channel_type`, `fg2`.`sellerplace_area` `sellerplace_area`, `fg2`.`name_seller_industry` `name_seller_industry`, `fg2`.`name_yield_group` `name_yield_group`, `fg2`.`product_combination` `product_combination`, `fg3`.`cnt_instalment` `cnt_instalment`, `fg3`.`cnt_instalment_future` `cnt_instalment_future`, `fg4`.`num_instalment_version` `num_instalment_version`, `fg4`.`num_instalment_number` `num_instalment_number`, `fg4`.`days_instalment` `days_instalment`, `fg4`.`days_entry_payment` `days_entry_payment`, `fg4`.`amt_instalment` `amt_instalment`, `fg4`.`amt_payment` `amt_payment`, `fg5`.`months_balance` `months_balance`, `fg5`.`amt_balance` `amt_balance`, `fg5`.`amt_credit_limit_actual` `amt_credit_limit_actual`, `fg5`.`amt_drawings_atm_current` `amt_drawings_atm_current`, `fg5`.`amt_drawings_current` `amt_drawings_current`, `fg5`.`amt_drawings_other_current` `amt_drawings_other_current`, `fg5`.`amt_drawings_pos_current` `amt_drawings_pos_current`, `fg5`.`amt_inst_min_regularity` `amt_inst_min_regularity`, `fg5`.`amt_payment_current` `amt_payment_current`, `fg5`.`amt_payment_total_current` `amt_payment_total_current`, `fg5`.`amt_receivable_principal` `amt_receivable_principal`, `fg5`.`amt_recivable` `amt_recivable`, `fg5`.`amt_total_receivable` `amt_total_receivable`, `fg5`.`cnt_drawings_atm_current` `cnt_drawings_atm_current`, `fg5`.`cnt_drawings_current` `cnt_drawings_current`, `fg5`.`cnt_drawings_other_current` `cnt_drawings_other_current`, `fg5`.`cnt_drawings_pos_current` `cnt_drawings_pos_current`, `fg5`.`cnt_instalment_mature_cum` `cnt_instalment_mature_cum`, `fg5`.`name_contract_status` `name_contract_status`, `fg5`.`sk_dpd` `sk_dpd`, `fg5`.`sk_dpd_def` `sk_dpd_def`, `fg6`.`sk_id_curr` `sk_id_curr`, `fg6`.`previous_loan_counts` `previous_loan_counts`\n",
      "FROM `credit_scores_featurestore`.`bureau_1` `fg7`\n",
      "INNER JOIN `credit_scores_featurestore`.`application_train_1` `fg0` ON `fg7`.`sk_id_curr` = `fg0`.`sk_id_curr`\n",
      "INNER JOIN `credit_scores_featurestore`.`bureau_balance_1` `fg1` ON `fg7`.`sk_id_bureau` = `fg1`.`sk_id_bureau`\n",
      "INNER JOIN `credit_scores_featurestore`.`previous_application_1` `fg2` ON `fg7`.`sk_id_curr` = `fg2`.`sk_id_curr`\n",
      "INNER JOIN `credit_scores_featurestore`.`pos_cash_balance_1` `fg3` ON `fg7`.`sk_id_curr` = `fg3`.`sk_id_curr`\n",
      "INNER JOIN `credit_scores_featurestore`.`installments_payments_1` `fg4` ON `fg7`.`sk_id_curr` = `fg4`.`sk_id_curr`\n",
      "INNER JOIN `credit_scores_featurestore`.`credit_card_balance_1` `fg5` ON `fg7`.`sk_id_curr` = `fg5`.`sk_id_curr`\n",
      "INNER JOIN `credit_scores_featurestore`.`previous_loan_counts_1` `fg6` ON `fg7`.`sk_id_curr` = `fg6`.`sk_id_curr`\n"
     ]
    },
    {
     "data": {
      "text/html": [
       "<div>\n",
       "<style scoped>\n",
       "    .dataframe tbody tr th:only-of-type {\n",
       "        vertical-align: middle;\n",
       "    }\n",
       "\n",
       "    .dataframe tbody tr th {\n",
       "        vertical-align: top;\n",
       "    }\n",
       "\n",
       "    .dataframe thead th {\n",
       "        text-align: right;\n",
       "    }\n",
       "</style>\n",
       "<table border=\"1\" class=\"dataframe\">\n",
       "  <thead>\n",
       "    <tr style=\"text-align: right;\">\n",
       "      <th></th>\n",
       "      <th>credit_active</th>\n",
       "      <th>credit_currency</th>\n",
       "      <th>days_credit</th>\n",
       "      <th>credit_day_overdue</th>\n",
       "      <th>days_credit_enddate</th>\n",
       "      <th>cnt_credit_prolong</th>\n",
       "      <th>amt_credit_sum</th>\n",
       "      <th>amt_credit_sum_debt</th>\n",
       "      <th>amt_credit_sum_overdue</th>\n",
       "      <th>credit_type</th>\n",
       "      <th>...</th>\n",
       "      <th>cnt_drawings_atm_current</th>\n",
       "      <th>cnt_drawings_current</th>\n",
       "      <th>cnt_drawings_other_current</th>\n",
       "      <th>cnt_drawings_pos_current</th>\n",
       "      <th>cnt_instalment_mature_cum</th>\n",
       "      <th>name_contract_status</th>\n",
       "      <th>sk_dpd</th>\n",
       "      <th>sk_dpd_def</th>\n",
       "      <th>sk_id_curr</th>\n",
       "      <th>previous_loan_counts</th>\n",
       "    </tr>\n",
       "  </thead>\n",
       "  <tbody>\n",
       "    <tr>\n",
       "      <th>0</th>\n",
       "      <td>Closed</td>\n",
       "      <td>currency 1</td>\n",
       "      <td>-904</td>\n",
       "      <td>0</td>\n",
       "      <td>435.0</td>\n",
       "      <td>0</td>\n",
       "      <td>175500.0</td>\n",
       "      <td>0.0</td>\n",
       "      <td>0.0</td>\n",
       "      <td>Consumer credit</td>\n",
       "      <td>...</td>\n",
       "      <td>0.0</td>\n",
       "      <td>0</td>\n",
       "      <td>0.0</td>\n",
       "      <td>0.0</td>\n",
       "      <td>36.0</td>\n",
       "      <td>Active</td>\n",
       "      <td>0</td>\n",
       "      <td>0</td>\n",
       "      <td>356203</td>\n",
       "      <td>2</td>\n",
       "    </tr>\n",
       "    <tr>\n",
       "      <th>1</th>\n",
       "      <td>Closed</td>\n",
       "      <td>currency 1</td>\n",
       "      <td>-904</td>\n",
       "      <td>0</td>\n",
       "      <td>435.0</td>\n",
       "      <td>0</td>\n",
       "      <td>175500.0</td>\n",
       "      <td>0.0</td>\n",
       "      <td>0.0</td>\n",
       "      <td>Consumer credit</td>\n",
       "      <td>...</td>\n",
       "      <td>0.0</td>\n",
       "      <td>0</td>\n",
       "      <td>0.0</td>\n",
       "      <td>0.0</td>\n",
       "      <td>36.0</td>\n",
       "      <td>Active</td>\n",
       "      <td>0</td>\n",
       "      <td>0</td>\n",
       "      <td>356203</td>\n",
       "      <td>2</td>\n",
       "    </tr>\n",
       "    <tr>\n",
       "      <th>2</th>\n",
       "      <td>Closed</td>\n",
       "      <td>currency 1</td>\n",
       "      <td>-904</td>\n",
       "      <td>0</td>\n",
       "      <td>435.0</td>\n",
       "      <td>0</td>\n",
       "      <td>175500.0</td>\n",
       "      <td>0.0</td>\n",
       "      <td>0.0</td>\n",
       "      <td>Consumer credit</td>\n",
       "      <td>...</td>\n",
       "      <td>0.0</td>\n",
       "      <td>0</td>\n",
       "      <td>0.0</td>\n",
       "      <td>0.0</td>\n",
       "      <td>36.0</td>\n",
       "      <td>Active</td>\n",
       "      <td>0</td>\n",
       "      <td>0</td>\n",
       "      <td>356203</td>\n",
       "      <td>2</td>\n",
       "    </tr>\n",
       "    <tr>\n",
       "      <th>3</th>\n",
       "      <td>Closed</td>\n",
       "      <td>currency 1</td>\n",
       "      <td>-904</td>\n",
       "      <td>0</td>\n",
       "      <td>435.0</td>\n",
       "      <td>0</td>\n",
       "      <td>175500.0</td>\n",
       "      <td>0.0</td>\n",
       "      <td>0.0</td>\n",
       "      <td>Consumer credit</td>\n",
       "      <td>...</td>\n",
       "      <td>0.0</td>\n",
       "      <td>0</td>\n",
       "      <td>0.0</td>\n",
       "      <td>0.0</td>\n",
       "      <td>36.0</td>\n",
       "      <td>Active</td>\n",
       "      <td>0</td>\n",
       "      <td>0</td>\n",
       "      <td>356203</td>\n",
       "      <td>2</td>\n",
       "    </tr>\n",
       "    <tr>\n",
       "      <th>4</th>\n",
       "      <td>Closed</td>\n",
       "      <td>currency 1</td>\n",
       "      <td>-904</td>\n",
       "      <td>0</td>\n",
       "      <td>435.0</td>\n",
       "      <td>0</td>\n",
       "      <td>175500.0</td>\n",
       "      <td>0.0</td>\n",
       "      <td>0.0</td>\n",
       "      <td>Consumer credit</td>\n",
       "      <td>...</td>\n",
       "      <td>0.0</td>\n",
       "      <td>0</td>\n",
       "      <td>0.0</td>\n",
       "      <td>0.0</td>\n",
       "      <td>36.0</td>\n",
       "      <td>Active</td>\n",
       "      <td>0</td>\n",
       "      <td>0</td>\n",
       "      <td>356203</td>\n",
       "      <td>2</td>\n",
       "    </tr>\n",
       "  </tbody>\n",
       "</table>\n",
       "<p>5 rows × 119 columns</p>\n",
       "</div>"
      ],
      "text/plain": [
       "  credit_active credit_currency  days_credit  credit_day_overdue  \\\n",
       "0        Closed      currency 1         -904                   0   \n",
       "1        Closed      currency 1         -904                   0   \n",
       "2        Closed      currency 1         -904                   0   \n",
       "3        Closed      currency 1         -904                   0   \n",
       "4        Closed      currency 1         -904                   0   \n",
       "\n",
       "   days_credit_enddate  cnt_credit_prolong  amt_credit_sum  \\\n",
       "0                435.0                   0        175500.0   \n",
       "1                435.0                   0        175500.0   \n",
       "2                435.0                   0        175500.0   \n",
       "3                435.0                   0        175500.0   \n",
       "4                435.0                   0        175500.0   \n",
       "\n",
       "   amt_credit_sum_debt  amt_credit_sum_overdue      credit_type  ...  \\\n",
       "0                  0.0                     0.0  Consumer credit  ...   \n",
       "1                  0.0                     0.0  Consumer credit  ...   \n",
       "2                  0.0                     0.0  Consumer credit  ...   \n",
       "3                  0.0                     0.0  Consumer credit  ...   \n",
       "4                  0.0                     0.0  Consumer credit  ...   \n",
       "\n",
       "   cnt_drawings_atm_current  cnt_drawings_current cnt_drawings_other_current  \\\n",
       "0                       0.0                     0                        0.0   \n",
       "1                       0.0                     0                        0.0   \n",
       "2                       0.0                     0                        0.0   \n",
       "3                       0.0                     0                        0.0   \n",
       "4                       0.0                     0                        0.0   \n",
       "\n",
       "  cnt_drawings_pos_current cnt_instalment_mature_cum name_contract_status  \\\n",
       "0                      0.0                      36.0               Active   \n",
       "1                      0.0                      36.0               Active   \n",
       "2                      0.0                      36.0               Active   \n",
       "3                      0.0                      36.0               Active   \n",
       "4                      0.0                      36.0               Active   \n",
       "\n",
       "   sk_dpd  sk_dpd_def  sk_id_curr  previous_loan_counts  \n",
       "0       0           0      356203                     2  \n",
       "1       0           0      356203                     2  \n",
       "2       0           0      356203                     2  \n",
       "3       0           0      356203                     2  \n",
       "4       0           0      356203                     2  \n",
       "\n",
       "[5 rows x 119 columns]"
      ]
     },
     "execution_count": 7,
     "metadata": {},
     "output_type": "execute_result"
    }
   ],
   "source": [
    "fg_query = bureau_fg.select_except(['sk_id_curr','sk_id_bureau'])\\\n",
    "                    .join(application_train_fg.select_except(['sk_id_curr','flag_mobil',*[f'flag_document_{num}' for num in [2,4,7,10,12,14,17,19,20,21]],'amt_credit', 'weekday_appr_process_start', 'hour_appr_process_start']))\\\n",
    "                    .join(bureau_balance_fg.select_except(['sk_id_bureau','months_balance']))\\\n",
    "                    .join(previous_application_fg.select_except(['sk_id_prev','sk_id_curr','name_contract_type','name_contract_status']))\\\n",
    "                    .join(pos_cash_balance_fg.select_except(['sk_id_prev','sk_id_curr','months_balance', 'name_contract_status', 'sk_dpd', 'sk_dpd_def']))\\\n",
    "                    .join(installments_payments_fg.select_except(['sk_id_prev','sk_id_curr']))\\\n",
    "                    .join(credit_card_balance_fg.select_except(['sk_id_prev','sk_id_curr']))\\\n",
    "                    .join(previous_loan_counts_fg.select_except('sk_id_curr'))\n",
    "\n",
    "fg_query_show5 = fg_query.show(5)\n",
    "fg_query_show5"
   ]
  },
  {
   "cell_type": "markdown",
   "id": "258201a7",
   "metadata": {},
   "source": [
    "---\n",
    "\n",
    "## <span style=\"color:#ff5f27;\">🤖 Transformation functions</span>\n",
    "\n",
    "Hopsworks Feature Store provides functionality to attach transformation functions to training datasets.\n",
    "\n",
    "Hopsworks Feature Store also comes with built-in transformation functions such as `min_max_scaler`, `standard_scaler`, `robust_scaler` and `label_encoder`."
   ]
  },
  {
   "cell_type": "code",
   "execution_count": 8,
   "id": "3f4173f3",
   "metadata": {},
   "outputs": [
    {
     "data": {
      "text/plain": [
       "['robust_scaler', 'standard_scaler', 'min_max_scaler', 'label_encoder']"
      ]
     },
     "execution_count": 8,
     "metadata": {},
     "output_type": "execute_result"
    }
   ],
   "source": [
    "[t_func.name for t_func in fs.get_transformation_functions()]"
   ]
  },
  {
   "cell_type": "markdown",
   "id": "1e20134b",
   "metadata": {},
   "source": [
    "We can retrieve transformation function we need .\n",
    "\n",
    "To attach transformation function to training dataset provide transformation functions as dict, where key is feature name and value is online transformation function name.\n",
    "\n",
    "Also training dataset must be created from the Query object. Once attached transformation function will be applied on whenever save, insert and get_serving_vector methods are called on training dataset object."
   ]
  },
  {
   "cell_type": "code",
   "execution_count": 9,
   "id": "8a41e840",
   "metadata": {},
   "outputs": [],
   "source": [
    "cat_cols = fg_query_show5.dtypes[fg_query_show5.dtypes == 'object'].index\n",
    "num_cols = fg_query_show5.dtypes[fg_query_show5.dtypes != 'object'].index\n",
    "\n",
    "mapping_transformer = {col:fs.get_transformation_function(name='label_encoder') for col in cat_cols}\n",
    "mapping_transformer.update({col:fs.get_transformation_function(name='standard_scaler') for col in num_cols if col !='target'})"
   ]
  },
  {
   "cell_type": "markdown",
   "id": "5a161181",
   "metadata": {},
   "source": [
    "---\n",
    "\n",
    "## <span style=\"color:#ff5f27;\"> ⚙️ Feature View Creation </span>\n",
    "\n",
    "`Feature Views` stands between **Feature Groups** and **Training Dataset**. Сombining **Feature Groups** we can create **Feature Views** which store a metadata of our data. Having **Feature Views** we can create **Training Dataset**.\n",
    "\n",
    "The Feature Views allows schema in form of a query with filters, define a model target feature/label and additional transformation functions.\n",
    "\n",
    "In order to create Feature View we can use `FeatureStore.get_or_create_feature_view()` method.\n",
    "\n",
    "We can specify next parameters:\n",
    "\n",
    "- `name` - name of a feature group.\n",
    "\n",
    "- `version` - version of a feature group.\n",
    "\n",
    "- `labels`- out target variable.\n",
    "\n",
    "- `transformation_functions` - functions to transform our features.\n",
    "\n",
    "- `query` - query object with data."
   ]
  },
  {
   "cell_type": "code",
   "execution_count": 10,
   "id": "0eddfb1d",
   "metadata": {},
   "outputs": [
    {
     "name": "stdout",
     "output_type": "stream",
     "text": [
      "Feature view created successfully, explore it at \n",
      "https://5c1f4710-7cb2-11ed-aab3-0135b8658ce3.cloud.hopsworks.ai/p/123/fs/71/fv/credit_scores/version/1\n"
     ]
    }
   ],
   "source": [
    "feature_view = fs.get_or_create_feature_view(\n",
    "    name = 'credit_scores',\n",
    "    version = 1,\n",
    "    labels = ['target'],\n",
    "    transformation_functions = mapping_transformer,\n",
    "    query = fg_query\n",
    ")"
   ]
  },
  {
   "cell_type": "markdown",
   "id": "5d957dae",
   "metadata": {},
   "source": [
    "---\n",
    "\n",
    "## <span style=\"color:#ff5f27;\"> 🏋️ Training Dataset Creation</span>\n",
    "\n",
    "In Hopsworks training data is a query where the projection (set of features) is determined by the parent **FeatureView** with an optional snapshot on disk of the data returned by the query.\n",
    "\n",
    "**Training Dataset  may contain splits such as:** \n",
    "* Training set - the subset of training data used to train a model.\n",
    "* Validation set - the subset of training data used to evaluate hparams when training a model\n",
    "* Test set - the holdout subset of training data used to evaluate a mode\n",
    "\n",
    "Here are some importand things:\n",
    "\n",
    "- It will inherit the name of FeatureView.\n",
    "\n",
    "- The feature store currently supports the following data formats for\n",
    "training datasets: **tfrecord, csv, tsv, parquet, avro, orc**.\n",
    "\n",
    "- We can choose necessary format using **data_format** parameter.\n",
    "\n",
    "- **start_time** and **end_time** in order to filter dataset in specific time range."
   ]
  },
  {
   "cell_type": "code",
   "execution_count": 11,
   "id": "b30b61c3",
   "metadata": {},
   "outputs": [
    {
     "name": "stdout",
     "output_type": "stream",
     "text": [
      "Training dataset job started successfully, you can follow the progress at \n",
      "https://5c1f4710-7cb2-11ed-aab3-0135b8658ce3.cloud.hopsworks.ai/p/123/jobs/named/credit_scores_1_create_fv_td_19122022164931/executions\n"
     ]
    },
    {
     "name": "stderr",
     "output_type": "stream",
     "text": [
      "VersionWarning: Incremented version to `1`.\n"
     ]
    }
   ],
   "source": [
    "td_version, td_job = feature_view.create_train_test_split(\n",
    "    test_size = 0.2\n",
    ")"
   ]
  },
  {
   "cell_type": "markdown",
   "id": "28684172",
   "metadata": {},
   "source": [
    "---\n",
    "## <span style=\"color:#ff5f27;\"> ✨ Load Training Data </span>\n",
    "\n",
    "First, we'll need to fetch the training dataset.\n",
    "\n",
    "You can use **Feature View** in order to retrieve **training dataset** using `FeatureView.get_train_test_split()` method."
   ]
  },
  {
   "cell_type": "code",
   "execution_count": 12,
   "id": "490a1c2b",
   "metadata": {},
   "outputs": [],
   "source": [
    "X_train, X_test, y_train, y_test = feature_view.get_train_test_split(\n",
    "    training_dataset_version = td_version\n",
    ")"
   ]
  },
  {
   "cell_type": "markdown",
   "id": "a6d47d29",
   "metadata": {},
   "source": [
    "---\n",
    "## <span style=\"color:#ff5f27;\"> 🧬 Modeling</span>"
   ]
  },
  {
   "cell_type": "code",
   "execution_count": 14,
   "id": "e0902530",
   "metadata": {},
   "outputs": [
    {
     "data": {
      "text/html": [
       "<style>#sk-container-id-2 {color: black;background-color: white;}#sk-container-id-2 pre{padding: 0;}#sk-container-id-2 div.sk-toggleable {background-color: white;}#sk-container-id-2 label.sk-toggleable__label {cursor: pointer;display: block;width: 100%;margin-bottom: 0;padding: 0.3em;box-sizing: border-box;text-align: center;}#sk-container-id-2 label.sk-toggleable__label-arrow:before {content: \"▸\";float: left;margin-right: 0.25em;color: #696969;}#sk-container-id-2 label.sk-toggleable__label-arrow:hover:before {color: black;}#sk-container-id-2 div.sk-estimator:hover label.sk-toggleable__label-arrow:before {color: black;}#sk-container-id-2 div.sk-toggleable__content {max-height: 0;max-width: 0;overflow: hidden;text-align: left;background-color: #f0f8ff;}#sk-container-id-2 div.sk-toggleable__content pre {margin: 0.2em;color: black;border-radius: 0.25em;background-color: #f0f8ff;}#sk-container-id-2 input.sk-toggleable__control:checked~div.sk-toggleable__content {max-height: 200px;max-width: 100%;overflow: auto;}#sk-container-id-2 input.sk-toggleable__control:checked~label.sk-toggleable__label-arrow:before {content: \"▾\";}#sk-container-id-2 div.sk-estimator input.sk-toggleable__control:checked~label.sk-toggleable__label {background-color: #d4ebff;}#sk-container-id-2 div.sk-label input.sk-toggleable__control:checked~label.sk-toggleable__label {background-color: #d4ebff;}#sk-container-id-2 input.sk-hidden--visually {border: 0;clip: rect(1px 1px 1px 1px);clip: rect(1px, 1px, 1px, 1px);height: 1px;margin: -1px;overflow: hidden;padding: 0;position: absolute;width: 1px;}#sk-container-id-2 div.sk-estimator {font-family: monospace;background-color: #f0f8ff;border: 1px dotted black;border-radius: 0.25em;box-sizing: border-box;margin-bottom: 0.5em;}#sk-container-id-2 div.sk-estimator:hover {background-color: #d4ebff;}#sk-container-id-2 div.sk-parallel-item::after {content: \"\";width: 100%;border-bottom: 1px solid gray;flex-grow: 1;}#sk-container-id-2 div.sk-label:hover label.sk-toggleable__label {background-color: #d4ebff;}#sk-container-id-2 div.sk-serial::before {content: \"\";position: absolute;border-left: 1px solid gray;box-sizing: border-box;top: 0;bottom: 0;left: 50%;z-index: 0;}#sk-container-id-2 div.sk-serial {display: flex;flex-direction: column;align-items: center;background-color: white;padding-right: 0.2em;padding-left: 0.2em;position: relative;}#sk-container-id-2 div.sk-item {position: relative;z-index: 1;}#sk-container-id-2 div.sk-parallel {display: flex;align-items: stretch;justify-content: center;background-color: white;position: relative;}#sk-container-id-2 div.sk-item::before, #sk-container-id-2 div.sk-parallel-item::before {content: \"\";position: absolute;border-left: 1px solid gray;box-sizing: border-box;top: 0;bottom: 0;left: 50%;z-index: -1;}#sk-container-id-2 div.sk-parallel-item {display: flex;flex-direction: column;z-index: 1;position: relative;background-color: white;}#sk-container-id-2 div.sk-parallel-item:first-child::after {align-self: flex-end;width: 50%;}#sk-container-id-2 div.sk-parallel-item:last-child::after {align-self: flex-start;width: 50%;}#sk-container-id-2 div.sk-parallel-item:only-child::after {width: 0;}#sk-container-id-2 div.sk-dashed-wrapped {border: 1px dashed gray;margin: 0 0.4em 0.5em 0.4em;box-sizing: border-box;padding-bottom: 0.4em;background-color: white;}#sk-container-id-2 div.sk-label label {font-family: monospace;font-weight: bold;display: inline-block;line-height: 1.2em;}#sk-container-id-2 div.sk-label-container {text-align: center;}#sk-container-id-2 div.sk-container {/* jupyter's `normalize.less` sets `[hidden] { display: none; }` but bootstrap.min.css set `[hidden] { display: none !important; }` so we also need the `!important` here to be able to override the default hidden behavior on the sphinx rendered scikit-learn.org. See: https://github.com/scikit-learn/scikit-learn/issues/21755 */display: inline-block !important;position: relative;}#sk-container-id-2 div.sk-text-repr-fallback {display: none;}</style><div id=\"sk-container-id-2\" class=\"sk-top-container\"><div class=\"sk-text-repr-fallback\"><pre>XGBClassifier(base_score=0.5, booster=&#x27;gbtree&#x27;, callbacks=None,\n",
       "              colsample_bylevel=1, colsample_bynode=1, colsample_bytree=1,\n",
       "              early_stopping_rounds=None, enable_categorical=False,\n",
       "              eval_metric=None, gamma=0, gpu_id=-1, grow_policy=&#x27;depthwise&#x27;,\n",
       "              importance_type=None, interaction_constraints=&#x27;&#x27;,\n",
       "              learning_rate=0.300000012, max_bin=256, max_cat_to_onehot=4,\n",
       "              max_delta_step=0, max_depth=6, max_leaves=0, min_child_weight=1,\n",
       "              missing=nan, monotone_constraints=&#x27;()&#x27;, n_estimators=100,\n",
       "              n_jobs=0, num_parallel_tree=1, predictor=&#x27;auto&#x27;, random_state=0,\n",
       "              reg_alpha=0, reg_lambda=1, ...)</pre><b>In a Jupyter environment, please rerun this cell to show the HTML representation or trust the notebook. <br />On GitHub, the HTML representation is unable to render, please try loading this page with nbviewer.org.</b></div><div class=\"sk-container\" hidden><div class=\"sk-item\"><div class=\"sk-estimator sk-toggleable\"><input class=\"sk-toggleable__control sk-hidden--visually\" id=\"sk-estimator-id-2\" type=\"checkbox\" checked><label for=\"sk-estimator-id-2\" class=\"sk-toggleable__label sk-toggleable__label-arrow\">XGBClassifier</label><div class=\"sk-toggleable__content\"><pre>XGBClassifier(base_score=0.5, booster=&#x27;gbtree&#x27;, callbacks=None,\n",
       "              colsample_bylevel=1, colsample_bynode=1, colsample_bytree=1,\n",
       "              early_stopping_rounds=None, enable_categorical=False,\n",
       "              eval_metric=None, gamma=0, gpu_id=-1, grow_policy=&#x27;depthwise&#x27;,\n",
       "              importance_type=None, interaction_constraints=&#x27;&#x27;,\n",
       "              learning_rate=0.300000012, max_bin=256, max_cat_to_onehot=4,\n",
       "              max_delta_step=0, max_depth=6, max_leaves=0, min_child_weight=1,\n",
       "              missing=nan, monotone_constraints=&#x27;()&#x27;, n_estimators=100,\n",
       "              n_jobs=0, num_parallel_tree=1, predictor=&#x27;auto&#x27;, random_state=0,\n",
       "              reg_alpha=0, reg_lambda=1, ...)</pre></div></div></div></div></div>"
      ],
      "text/plain": [
       "XGBClassifier(base_score=0.5, booster='gbtree', callbacks=None,\n",
       "              colsample_bylevel=1, colsample_bynode=1, colsample_bytree=1,\n",
       "              early_stopping_rounds=None, enable_categorical=False,\n",
       "              eval_metric=None, gamma=0, gpu_id=-1, grow_policy='depthwise',\n",
       "              importance_type=None, interaction_constraints='',\n",
       "              learning_rate=0.300000012, max_bin=256, max_cat_to_onehot=4,\n",
       "              max_delta_step=0, max_depth=6, max_leaves=0, min_child_weight=1,\n",
       "              missing=nan, monotone_constraints='()', n_estimators=100,\n",
       "              n_jobs=0, num_parallel_tree=1, predictor='auto', random_state=0,\n",
       "              reg_alpha=0, reg_lambda=1, ...)"
      ]
     },
     "execution_count": 14,
     "metadata": {},
     "output_type": "execute_result"
    }
   ],
   "source": [
    "import xgboost as xgb\n",
    "\n",
    "model = xgb.XGBClassifier()\n",
    "\n",
    "model.fit(X_train, y_train)"
   ]
  },
  {
   "cell_type": "markdown",
   "id": "69c7eff1",
   "metadata": {},
   "source": [
    "---\n",
    "## <span style=\"color:#ff5f27;\"> 👨🏻‍⚖️ Model Evaluation</span>"
   ]
  },
  {
   "cell_type": "markdown",
   "id": "77509b99",
   "metadata": {},
   "source": [
    "### <span style=\"color:#ff5f27;\"> 📝 Imports</span>"
   ]
  },
  {
   "cell_type": "code",
   "execution_count": 20,
   "id": "c482b4c7",
   "metadata": {},
   "outputs": [],
   "source": [
    "import matplotlib.pyplot as plt\n",
    "import seaborn as sns\n",
    "from PIL import Image\n",
    "\n",
    "from sklearn.metrics import confusion_matrix\n",
    "from xgboost import plot_importance\n",
    "from sklearn.metrics import f1_score\n",
    "\n",
    "import os"
   ]
  },
  {
   "cell_type": "code",
   "execution_count": 24,
   "id": "393ec28c",
   "metadata": {},
   "outputs": [
    {
     "name": "stdout",
     "output_type": "stream",
     "text": [
      "⛳️ F1 score: 1.0\n"
     ]
    }
   ],
   "source": [
    "score = f1_score(y_test, model.predict(X_test), average=\"macro\")\n",
    "\n",
    "print(f'⛳️ F1 score: {score}')"
   ]
  },
  {
   "cell_type": "code",
   "execution_count": 17,
   "id": "896802e7",
   "metadata": {},
   "outputs": [
    {
     "name": "stderr",
     "output_type": "stream",
     "text": [
      "DeprecationWarning: `np.bool` is a deprecated alias for the builtin `bool`. To silence this warning, use `bool` by itself. Doing this will not modify any behavior and is safe. If you specifically wanted the numpy scalar type, use `np.bool_` here.\n",
      "Deprecated in NumPy 1.20; for more details and guidance: https://numpy.org/devdocs/release/1.20.0-notes.html#deprecations\n",
      "DeprecationWarning: `np.bool` is a deprecated alias for the builtin `bool`. To silence this warning, use `bool` by itself. Doing this will not modify any behavior and is safe. If you specifically wanted the numpy scalar type, use `np.bool_` here.\n",
      "Deprecated in NumPy 1.20; for more details and guidance: https://numpy.org/devdocs/release/1.20.0-notes.html#deprecations\n"
     ]
    },
    {
     "data": {
      "image/png": "[encoded data removed]",
      "text/plain": [
       "<Figure size 1000x700 with 2 Axes>"
      ]
     },
     "metadata": {},
     "output_type": "display_data"
    }
   ],
   "source": [
    "conf_matrix = confusion_matrix(y_test, model.predict(X_test)).astype(int)\n",
    "\n",
    "figure_cm = plt.figure(figsize = (10,7))\n",
    "figure_cm = sns.heatmap(conf_matrix, annot=True, annot_kws={\"size\": 14}, fmt='.10g')\n",
    "\n",
    "plt.title('Confusion Matrix',fontsize=17)\n",
    "plt.show()"
   ]
  },
  {
   "cell_type": "code",
   "execution_count": 18,
   "id": "38891567",
   "metadata": {},
   "outputs": [
    {
     "data": {
      "image/png": "[encoded data removed]",
      "text/plain": [
       "<Figure size 640x480 with 1 Axes>"
      ]
     },
     "metadata": {},
     "output_type": "display_data"
    }
   ],
   "source": [
    "figure_imp = plot_importance(model, max_num_features=10, importance_type='weight')\n",
    "plt.show()"
   ]
  },
  {
   "cell_type": "markdown",
   "id": "35b96af4",
   "metadata": {},
   "source": [
    "### <span style=\"color:#ff5f27;\"> 💽 Save plots to model registry</span>"
   ]
  },
  {
   "cell_type": "code",
   "execution_count": 27,
   "id": "2aa3214e",
   "metadata": {},
   "outputs": [],
   "source": [
    "model_dir=\"assets\"\n",
    "\n",
    "if os.path.isdir(model_dir) == False:\n",
    "    os.mkdir(model_dir)\n",
    "    \n",
    "figure_cm.figure.savefig(model_dir + 'confusion_matrix.png')\n",
    "figure_imp.figure.savefig(model_dir + 'feature_importance.png')"
   ]
  },
  {
   "cell_type": "markdown",
   "id": "e47d1c94",
   "metadata": {},
   "source": [
    "### <span style=\"color:#ff5f27;\"> 📤 Retrieve plots from model registry</span>"
   ]
  },
  {
   "cell_type": "code",
   "execution_count": 29,
   "id": "a10c8062",
   "metadata": {},
   "outputs": [
    {
     "data": {
      "image/png": "[encoded data removed]",
      "text/plain": [
       "<PIL.PngImagePlugin.PngImageFile image mode=RGBA size=640x480>"
      ]
     },
     "metadata": {},
     "output_type": "display_data"
    }
   ],
   "source": [
    "feature_imp = Image.open(model_dir + 'feature_importance.png')\n",
    "\n",
    "feature_imp.show()"
   ]
  },
  {
   "cell_type": "markdown",
   "id": "668f2efb",
   "metadata": {},
   "source": [
    "---\n",
    "## <span style=\"color:#ff5f27;\">🗄 Model Registry</span>\n",
    "\n",
    "One of the features in Hopsworks is the model registry. This is where you can store different versions of models and compare their performance."
   ]
  },
  {
   "cell_type": "code",
   "execution_count": null,
   "id": "fd5ec387",
   "metadata": {},
   "outputs": [],
   "source": [
    "mr = project.get_model_registry()"
   ]
  },
  {
   "cell_type": "markdown",
   "id": "30b0c2a7",
   "metadata": {},
   "source": [
    "### <span style=\"color:#ff5f27;\">⚙️ Model Schema</span>\n",
    "\n",
    "The model needs to be set up with a [Model Schema](https://docs.hopsworks.ai/machine-learning-api/latest/generated/model_schema/), which describes the inputs and outputs for a model.\n",
    "\n",
    "A Model Schema can be automatically generated from training examples, as shown below."
   ]
  },
  {
   "cell_type": "code",
   "execution_count": 28,
   "id": "c671699c",
   "metadata": {},
   "outputs": [
    {
     "data": {
      "text/plain": [
       "{'input_schema': {'tensor_schema': {'shape': '(247322, 118)',\n",
       "   'type': 'float64'}},\n",
       " 'output_schema': {'columnar_schema': [{'name': 'target', 'type': 'int64'}]}}"
      ]
     },
     "execution_count": 28,
     "metadata": {},
     "output_type": "execute_result"
    }
   ],
   "source": [
    "from hsml.schema import Schema\n",
    "from hsml.model_schema import ModelSchema\n",
    "\n",
    "input_schema = Schema(X_train.values)\n",
    "output_schema = Schema(y_train)\n",
    "model_schema = ModelSchema(input_schema=input_schema, output_schema=output_schema)\n",
    "\n",
    "model_schema.to_dict()"
   ]
  },
  {
   "cell_type": "markdown",
   "id": "2489db15",
   "metadata": {},
   "source": [
    "### <span style=\"color:#ff5f27;\">💽 Save a model</span>"
   ]
  },
  {
   "cell_type": "code",
   "execution_count": 31,
   "id": "ce5af23f",
   "metadata": {},
   "outputs": [
    {
     "ename": "NameError",
     "evalue": "name 'mr' is not defined",
     "output_type": "error",
     "traceback": [
      "\u001b[0;31m---------------------------------------------------------------------------\u001b[0m",
      "\u001b[0;31mNameError\u001b[0m                                 Traceback (most recent call last)",
      "\u001b[0;32m<ipython-input-31-02df05cae720>\u001b[0m in \u001b[0;36m<module>\u001b[0;34m\u001b[0m\n\u001b[1;32m      3\u001b[0m \u001b[0mjoblib\u001b[0m\u001b[0;34m.\u001b[0m\u001b[0mdump\u001b[0m\u001b[0;34m(\u001b[0m\u001b[0mmodel\u001b[0m\u001b[0;34m,\u001b[0m\u001b[0;34m'credit_scores_model.pkl'\u001b[0m\u001b[0;34m)\u001b[0m\u001b[0;34m\u001b[0m\u001b[0;34m\u001b[0m\u001b[0m\n\u001b[1;32m      4\u001b[0m \u001b[0;34m\u001b[0m\u001b[0m\n\u001b[0;32m----> 5\u001b[0;31m model = mr.python.create_model(\n\u001b[0m\u001b[1;32m      6\u001b[0m     \u001b[0mname\u001b[0m\u001b[0;34m=\u001b[0m\u001b[0;34m\"credit_scores_model\"\u001b[0m\u001b[0;34m,\u001b[0m\u001b[0;34m\u001b[0m\u001b[0;34m\u001b[0m\u001b[0m\n\u001b[1;32m      7\u001b[0m     \u001b[0mmetrics\u001b[0m\u001b[0;34m=\u001b[0m\u001b[0;34m{\u001b[0m\u001b[0;34m\"f1\"\u001b[0m\u001b[0;34m:\u001b[0m \u001b[0;34m\"0.5\"\u001b[0m\u001b[0;34m}\u001b[0m\u001b[0;34m,\u001b[0m\u001b[0;34m\u001b[0m\u001b[0;34m\u001b[0m\u001b[0m\n",
      "\u001b[0;31mNameError\u001b[0m: name 'mr' is not defined"
     ]
    }
   ],
   "source": [
    "import joblib\n",
    "\n",
    "model_dir=\"credit_scores_model\"\n",
    "\n",
    "if os.path.isdir(model_dir) == False:\n",
    "    os.mkdir(model_dir)\n",
    "\n",
    "model_path = model_dir + 'credit_scores_model.pkl'\n",
    "\n",
    "joblib.dump(model, model_path)\n",
    "\n",
    "model = mr.python.create_model(\n",
    "    name=\"credit_scores_model\",\n",
    "    metrics={\"f1\": \"0.5\"},\n",
    "    description=\"XGB for Credit Scores Project\",\n",
    "    input_example=X_train.sample(),\n",
    "    model_schema=model_schema\n",
    ")\n",
    "\n",
    "model.save(model_path)"
   ]
  },
  {
   "cell_type": "markdown",
   "id": "b6b6864f",
   "metadata": {},
   "source": [
    "---\n",
    "## <span style=\"color:#ff5f27;\"> ✨ Loading Batch Data </span>"
   ]
  },
  {
   "cell_type": "code",
   "execution_count": null,
   "id": "4bd64535",
   "metadata": {},
   "outputs": [],
   "source": [
    "feature_view.init_batch_scoring(\n",
    "    training_dataset_version=td_version\n",
    ")\n",
    "\n",
    "df = feature_view.get_batch_data()\n",
    "df.head()"
   ]
  },
  {
   "cell_type": "markdown",
   "id": "ba94ed5b",
   "metadata": {},
   "source": [
    "## <span style=\"color:#ff5f27;\"> 🗄 Retrieving model from Model Registry </span>"
   ]
  },
  {
   "cell_type": "code",
   "execution_count": null,
   "id": "b547c721",
   "metadata": {},
   "outputs": [],
   "source": [
    "model = mr.get_model(\n",
    "    name=\"credit_scores_model\",\n",
    "    version=1\n",
    ")\n",
    "model_dir = model.download()\n",
    "model = joblib.load(model_dir + \"/credit_scores_model.pkl\")\n",
    "model"
   ]
  },
  {
   "cell_type": "markdown",
   "id": "93142cb8",
   "metadata": {},
   "source": [
    "## <span style=\"color:#ff5f27;\"> 🤖 Making the predictions </span>"
   ]
  },
  {
   "cell_type": "code",
   "execution_count": null,
   "id": "20cc048f",
   "metadata": {},
   "outputs": [],
   "source": [
    "predictions = model.predict(df)\n",
    "predictions[:10]"
   ]
  },
  {
   "cell_type": "markdown",
   "id": "676ea53b",
   "metadata": {},
   "source": [
    "---\n",
    "\n",
    "### <span style=\"color:#ff5f27;\">🥳 <b> Next Steps  </b> </span>\n",
    "Congratulations you've now completed the churn risk prediction tutorial for Managed Hopsworks.\n",
    "\n",
    "Check out our other tutorials on ➡ https://github.com/logicalclocks/hopsworks-tutorials\n",
    "\n",
    "Or documentation at ➡ https://docs.hopsworks.ai\n",
    "\n",
    "[![Open In Colab](https://colab.research.google.com/assets/colab-badge.svg)](https://colab.research.google.com/github/logicalclocks/hopsworks-tutorials/blob/master/advanced_tutorials/{project_name}/{notebook_name}.ipynb)"
   ]
  }
 ],
 "metadata": {
  "kernelspec": {
   "display_name": "Python",
   "language": "python",
   "name": "python3"
  },
  "language_info": {
   "codemirror_mode": {
    "name": "ipython",
    "version": 3
   },
   "file_extension": ".py",
   "mimetype": "text/x-python",
   "name": "python",
   "nbconvert_exporter": "python",
   "pygments_lexer": "ipython3",
   "version": "3.8.11"
  }
 },
 "nbformat": 4,
 "nbformat_minor": 5
}