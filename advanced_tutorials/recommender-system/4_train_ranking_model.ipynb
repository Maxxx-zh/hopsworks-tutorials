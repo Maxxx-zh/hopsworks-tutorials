{
 "cells": [
  {
   "cell_type": "markdown",
   "metadata": {},
   "source": [
    "## <span style=\"color:#ff5f27\">👨🏻‍🏫 Train Ranking Model </span>\n",
    "\n",
    "In this notebook, you will train a ranking model using gradient boosted trees. "
   ]
  },
  {
   "cell_type": "code",
   "execution_count": 1,
   "metadata": {},
   "outputs": [],
   "source": [
    "import time\n",
    "\n",
    "# Start the timer\n",
    "notebook_start_time = time.time()"
   ]
  },
  {
   "cell_type": "markdown",
   "metadata": {},
   "source": [
    "## <span style=\"color:#ff5f27\">📝 Imports </span>"
   ]
  },
  {
   "cell_type": "code",
   "execution_count": null,
   "metadata": {},
   "outputs": [],
   "source": [
    "!pip install -r requirements.txt"
   ]
  },
  {
   "cell_type": "code",
   "execution_count": 2,
   "metadata": {},
   "outputs": [],
   "source": [
    "import pandas as pd\n",
    "from catboost import CatBoostClassifier, Pool\n",
    "from sklearn.metrics import classification_report, precision_recall_fscore_support\n",
    "import joblib"
   ]
  },
  {
   "cell_type": "markdown",
   "metadata": {},
   "source": [
    "## <span style=\"color:#ff5f27\">🔮 Connect to Hopsworks Feature Store </span>"
   ]
  },
  {
   "cell_type": "code",
   "execution_count": 3,
   "metadata": {},
   "outputs": [
    {
     "name": "stdout",
     "output_type": "stream",
     "text": [
      "Connected. Call `.close()` to terminate connection gracefully.\n",
      "\n",
      "Logged in to project, explore it here https://snurran.hops.works/p/17527\n",
      "Connected. Call `.close()` to terminate connection gracefully.\n"
     ]
    }
   ],
   "source": [
    "import hopsworks\n",
    "\n",
    "project = hopsworks.login()\n",
    "\n",
    "fs = project.get_feature_store()"
   ]
  },
  {
   "cell_type": "code",
   "execution_count": 4,
   "metadata": {},
   "outputs": [],
   "source": [
    "customers_fg = fs.get_feature_group(\n",
    "    name=\"customers\",\n",
    "    version=1,\n",
    ")\n",
    "\n",
    "articles_fg = fs.get_feature_group(\n",
    "    name=\"articles\",\n",
    "    version=2,\n",
    ")\n",
    "\n",
    "trans_fg = fs.get_feature_group(\n",
    "    name=\"transactions\",\n",
    "    version=1,\n",
    ")\n",
    "\n",
    "rank_fg = fs.get_feature_group(\n",
    "    name=\"ranking\",\n",
    "    version=1,\n",
    ")"
   ]
  },
  {
   "cell_type": "markdown",
   "metadata": {},
   "source": [
    "## <span style=\"color:#ff5f27\">⚙️ Feature View Creation </span>"
   ]
  },
  {
   "cell_type": "code",
   "execution_count": 5,
   "metadata": {},
   "outputs": [
    {
     "name": "stdout",
     "output_type": "stream",
     "text": [
      "Feature view created successfully, explore it at \n",
      "https://snurran.hops.works/p/17527/fs/17475/fv/customers/version/1\n"
     ]
    },
    {
     "data": {
      "text/plain": [
       "<hsfs.feature_view.FeatureView at 0x7fd0040d5900>"
      ]
     },
     "execution_count": 5,
     "metadata": {},
     "output_type": "execute_result"
    }
   ],
   "source": [
    "# Select features\n",
    "selected_features_customers = customers_fg.select_all()\n",
    "\n",
    "fs.get_or_create_feature_view( \n",
    "    name='customers',\n",
    "    query=selected_features_customers,\n",
    "    version=1,\n",
    ")"
   ]
  },
  {
   "cell_type": "code",
   "execution_count": 6,
   "metadata": {},
   "outputs": [
    {
     "name": "stdout",
     "output_type": "stream",
     "text": [
      "Feature view created successfully, explore it at \n",
      "https://snurran.hops.works/p/17527/fs/17475/fv/articles/version/1\n"
     ]
    },
    {
     "data": {
      "text/plain": [
       "<hsfs.feature_view.FeatureView at 0x7fcf20294310>"
      ]
     },
     "execution_count": 6,
     "metadata": {},
     "output_type": "execute_result"
    }
   ],
   "source": [
    "# Select features\n",
    "selected_features_articles = articles_fg.select_except(['embeddings']) \n",
    "\n",
    "fs.get_or_create_feature_view(\n",
    "    name='articles',\n",
    "    query=selected_features_articles,\n",
    "    version=1,\n",
    ")"
   ]
  },
  {
   "cell_type": "code",
   "execution_count": 7,
   "metadata": {},
   "outputs": [
    {
     "name": "stdout",
     "output_type": "stream",
     "text": [
      "Feature view created successfully, explore it at \n",
      "https://snurran.hops.works/p/17527/fs/17475/fv/ranking/version/1\n"
     ]
    }
   ],
   "source": [
    "# Select features\n",
    "selected_features_ranking = rank_fg.select_except([\"customer_id\", \"article_id\"])\n",
    "\n",
    "feature_view_ranking = fs.get_or_create_feature_view(\n",
    "    name='ranking',\n",
    "    query=selected_features_ranking,\n",
    "    labels=[\"label\"],\n",
    "    version=1,\n",
    ")"
   ]
  },
  {
   "cell_type": "markdown",
   "metadata": {},
   "source": [
    "## <span style=\"color:#ff5f27\">🗄️ Train Data loading </span>"
   ]
  },
  {
   "cell_type": "code",
   "execution_count": 8,
   "metadata": {},
   "outputs": [
    {
     "name": "stdout",
     "output_type": "stream",
     "text": [
      "Finished: Reading data from Hopsworks, using ArrowFlight (61.49s) \n"
     ]
    },
    {
     "name": "stderr",
     "output_type": "stream",
     "text": [
      "VersionWarning: Incremented version to `1`.\n"
     ]
    },
    {
     "data": {
      "text/html": [
       "<div>\n",
       "<style scoped>\n",
       "    .dataframe tbody tr th:only-of-type {\n",
       "        vertical-align: middle;\n",
       "    }\n",
       "\n",
       "    .dataframe tbody tr th {\n",
       "        vertical-align: top;\n",
       "    }\n",
       "\n",
       "    .dataframe thead th {\n",
       "        text-align: right;\n",
       "    }\n",
       "</style>\n",
       "<table border=\"1\" class=\"dataframe\">\n",
       "  <thead>\n",
       "    <tr style=\"text-align: right;\">\n",
       "      <th></th>\n",
       "      <th>age</th>\n",
       "      <th>month_sin</th>\n",
       "      <th>month_cos</th>\n",
       "      <th>product_type_name</th>\n",
       "      <th>product_group_name</th>\n",
       "      <th>graphical_appearance_name</th>\n",
       "      <th>colour_group_name</th>\n",
       "      <th>perceived_colour_value_name</th>\n",
       "      <th>perceived_colour_master_name</th>\n",
       "      <th>department_name</th>\n",
       "      <th>index_name</th>\n",
       "      <th>index_group_name</th>\n",
       "      <th>section_name</th>\n",
       "      <th>garment_group_name</th>\n",
       "    </tr>\n",
       "  </thead>\n",
       "  <tbody>\n",
       "    <tr>\n",
       "      <th>0</th>\n",
       "      <td>30.0</td>\n",
       "      <td>0.500000</td>\n",
       "      <td>-8.660254e-01</td>\n",
       "      <td>Sweater</td>\n",
       "      <td>Garment Upper body</td>\n",
       "      <td>Solid</td>\n",
       "      <td>Dark Turquoise</td>\n",
       "      <td>Dark</td>\n",
       "      <td>Turquoise</td>\n",
       "      <td>Knitwear</td>\n",
       "      <td>Ladieswear</td>\n",
       "      <td>Ladieswear</td>\n",
       "      <td>Womens Tailoring</td>\n",
       "      <td>Knitwear</td>\n",
       "    </tr>\n",
       "    <tr>\n",
       "      <th>1</th>\n",
       "      <td>22.0</td>\n",
       "      <td>-1.000000</td>\n",
       "      <td>-1.836970e-16</td>\n",
       "      <td>Vest top</td>\n",
       "      <td>Garment Upper body</td>\n",
       "      <td>Solid</td>\n",
       "      <td>Light Red</td>\n",
       "      <td>Medium</td>\n",
       "      <td>Red</td>\n",
       "      <td>Jersey fancy</td>\n",
       "      <td>Ladieswear</td>\n",
       "      <td>Ladieswear</td>\n",
       "      <td>Womens Everyday Collection</td>\n",
       "      <td>Jersey Fancy</td>\n",
       "    </tr>\n",
       "    <tr>\n",
       "      <th>2</th>\n",
       "      <td>23.0</td>\n",
       "      <td>-0.866025</td>\n",
       "      <td>5.000000e-01</td>\n",
       "      <td>Trousers</td>\n",
       "      <td>Garment Lower body</td>\n",
       "      <td>Denim</td>\n",
       "      <td>Blue</td>\n",
       "      <td>Light</td>\n",
       "      <td>Blue</td>\n",
       "      <td>Denim Trousers</td>\n",
       "      <td>Divided</td>\n",
       "      <td>Divided</td>\n",
       "      <td>Ladies Denim</td>\n",
       "      <td>Trousers Denim</td>\n",
       "    </tr>\n",
       "  </tbody>\n",
       "</table>\n",
       "</div>"
      ],
      "text/plain": [
       "    age  month_sin     month_cos product_type_name  product_group_name  \\\n",
       "0  30.0   0.500000 -8.660254e-01           Sweater  Garment Upper body   \n",
       "1  22.0  -1.000000 -1.836970e-16          Vest top  Garment Upper body   \n",
       "2  23.0  -0.866025  5.000000e-01          Trousers  Garment Lower body   \n",
       "\n",
       "  graphical_appearance_name colour_group_name perceived_colour_value_name  \\\n",
       "0                     Solid    Dark Turquoise                        Dark   \n",
       "1                     Solid         Light Red                      Medium   \n",
       "2                     Denim              Blue                       Light   \n",
       "\n",
       "  perceived_colour_master_name department_name  index_name index_group_name  \\\n",
       "0                    Turquoise        Knitwear  Ladieswear       Ladieswear   \n",
       "1                          Red    Jersey fancy  Ladieswear       Ladieswear   \n",
       "2                         Blue  Denim Trousers     Divided          Divided   \n",
       "\n",
       "                 section_name garment_group_name  \n",
       "0            Womens Tailoring           Knitwear  \n",
       "1  Womens Everyday Collection       Jersey Fancy  \n",
       "2                Ladies Denim     Trousers Denim  "
      ]
     },
     "execution_count": 8,
     "metadata": {},
     "output_type": "execute_result"
    }
   ],
   "source": [
    "X_train, X_val, y_train, y_val = feature_view_ranking.train_test_split(\n",
    "    test_size=0.1,\n",
    "    description='Ranking training dataset',\n",
    ")\n",
    "\n",
    "X_train.head(3)"
   ]
  },
  {
   "cell_type": "code",
   "execution_count": 9,
   "metadata": {},
   "outputs": [
    {
     "data": {
      "text/html": [
       "<div>\n",
       "<style scoped>\n",
       "    .dataframe tbody tr th:only-of-type {\n",
       "        vertical-align: middle;\n",
       "    }\n",
       "\n",
       "    .dataframe tbody tr th {\n",
       "        vertical-align: top;\n",
       "    }\n",
       "\n",
       "    .dataframe thead th {\n",
       "        text-align: right;\n",
       "    }\n",
       "</style>\n",
       "<table border=\"1\" class=\"dataframe\">\n",
       "  <thead>\n",
       "    <tr style=\"text-align: right;\">\n",
       "      <th></th>\n",
       "      <th>label</th>\n",
       "    </tr>\n",
       "  </thead>\n",
       "  <tbody>\n",
       "    <tr>\n",
       "      <th>0</th>\n",
       "      <td>0</td>\n",
       "    </tr>\n",
       "    <tr>\n",
       "      <th>1</th>\n",
       "      <td>0</td>\n",
       "    </tr>\n",
       "    <tr>\n",
       "      <th>2</th>\n",
       "      <td>1</td>\n",
       "    </tr>\n",
       "  </tbody>\n",
       "</table>\n",
       "</div>"
      ],
      "text/plain": [
       "   label\n",
       "0      0\n",
       "1      0\n",
       "2      1"
      ]
     },
     "execution_count": 9,
     "metadata": {},
     "output_type": "execute_result"
    }
   ],
   "source": [
    "y_train.head(3)"
   ]
  },
  {
   "cell_type": "markdown",
   "metadata": {},
   "source": [
    "## <span style=\"color:#ff5f27\">🏃🏻‍♂️ Model Training </span>\n",
    "\n",
    "Let's train a model."
   ]
  },
  {
   "cell_type": "code",
   "execution_count": 10,
   "metadata": {
    "tags": []
   },
   "outputs": [
    {
     "name": "stdout",
     "output_type": "stream",
     "text": [
      "0:\tlearn: 0.6685178\ttest: 0.6684138\tbest: 0.6684138 (0)\ttotal: 7.68s\tremaining: 12m 40s\n",
      "1:\tlearn: 0.6458337\ttest: 0.6458419\tbest: 0.6458419 (1)\ttotal: 13.4s\tremaining: 10m 55s\n",
      "2:\tlearn: 0.6309779\ttest: 0.6311238\tbest: 0.6311238 (2)\ttotal: 19.8s\tremaining: 10m 39s\n",
      "3:\tlearn: 0.6201642\ttest: 0.6203815\tbest: 0.6203815 (3)\ttotal: 25.3s\tremaining: 10m 6s\n",
      "4:\tlearn: 0.6114273\ttest: 0.6117170\tbest: 0.6117170 (4)\ttotal: 31.5s\tremaining: 9m 58s\n",
      "5:\tlearn: 0.6052160\ttest: 0.6055633\tbest: 0.6055633 (5)\ttotal: 36.9s\tremaining: 9m 37s\n",
      "6:\tlearn: 0.5999197\ttest: 0.6002212\tbest: 0.6002212 (6)\ttotal: 42.5s\tremaining: 9m 24s\n",
      "7:\tlearn: 0.5952303\ttest: 0.5956808\tbest: 0.5956808 (7)\ttotal: 47.8s\tremaining: 9m 9s\n",
      "8:\tlearn: 0.5917079\ttest: 0.5922496\tbest: 0.5922496 (8)\ttotal: 53s\tremaining: 8m 55s\n",
      "9:\tlearn: 0.5871315\ttest: 0.5875103\tbest: 0.5875103 (9)\ttotal: 58.5s\tremaining: 8m 46s\n",
      "10:\tlearn: 0.5851834\ttest: 0.5854168\tbest: 0.5854168 (10)\ttotal: 1m 3s\tremaining: 8m 37s\n",
      "11:\tlearn: 0.5823804\ttest: 0.5825627\tbest: 0.5825627 (11)\ttotal: 1m 9s\tremaining: 8m 31s\n",
      "12:\tlearn: 0.5791529\ttest: 0.5793255\tbest: 0.5793255 (12)\ttotal: 1m 15s\tremaining: 8m 23s\n",
      "13:\tlearn: 0.5772601\ttest: 0.5774076\tbest: 0.5774076 (13)\ttotal: 1m 20s\tremaining: 8m 14s\n",
      "14:\tlearn: 0.5755027\ttest: 0.5757017\tbest: 0.5757017 (14)\ttotal: 1m 25s\tremaining: 8m 6s\n",
      "15:\tlearn: 0.5744423\ttest: 0.5746025\tbest: 0.5746025 (15)\ttotal: 1m 31s\tremaining: 7m 58s\n",
      "16:\tlearn: 0.5731212\ttest: 0.5732943\tbest: 0.5732943 (16)\ttotal: 1m 36s\tremaining: 7m 51s\n",
      "17:\tlearn: 0.5723775\ttest: 0.5725992\tbest: 0.5725992 (17)\ttotal: 1m 41s\tremaining: 7m 44s\n",
      "18:\tlearn: 0.5716540\ttest: 0.5718896\tbest: 0.5718896 (18)\ttotal: 1m 47s\tremaining: 7m 38s\n",
      "19:\tlearn: 0.5705101\ttest: 0.5707650\tbest: 0.5707650 (19)\ttotal: 1m 52s\tremaining: 7m 31s\n",
      "20:\tlearn: 0.5698057\ttest: 0.5700306\tbest: 0.5700306 (20)\ttotal: 1m 58s\tremaining: 7m 24s\n",
      "21:\tlearn: 0.5691264\ttest: 0.5694384\tbest: 0.5694384 (21)\ttotal: 2m 3s\tremaining: 7m 18s\n",
      "22:\tlearn: 0.5683992\ttest: 0.5687408\tbest: 0.5687408 (22)\ttotal: 2m 8s\tremaining: 7m 11s\n",
      "23:\tlearn: 0.5675040\ttest: 0.5678349\tbest: 0.5678349 (23)\ttotal: 2m 14s\tremaining: 7m 4s\n",
      "24:\tlearn: 0.5667997\ttest: 0.5671684\tbest: 0.5671684 (24)\ttotal: 2m 19s\tremaining: 6m 58s\n",
      "25:\tlearn: 0.5655996\ttest: 0.5660258\tbest: 0.5660258 (25)\ttotal: 2m 24s\tremaining: 6m 51s\n",
      "26:\tlearn: 0.5643625\ttest: 0.5648528\tbest: 0.5648528 (26)\ttotal: 2m 29s\tremaining: 6m 45s\n",
      "27:\tlearn: 0.5635051\ttest: 0.5640053\tbest: 0.5640053 (27)\ttotal: 2m 35s\tremaining: 6m 38s\n",
      "28:\tlearn: 0.5628982\ttest: 0.5633789\tbest: 0.5633789 (28)\ttotal: 2m 40s\tremaining: 6m 33s\n",
      "29:\tlearn: 0.5623278\ttest: 0.5628177\tbest: 0.5628177 (29)\ttotal: 2m 46s\tremaining: 6m 27s\n",
      "30:\tlearn: 0.5618939\ttest: 0.5624699\tbest: 0.5624699 (30)\ttotal: 2m 51s\tremaining: 6m 21s\n",
      "31:\tlearn: 0.5615912\ttest: 0.5621688\tbest: 0.5621688 (31)\ttotal: 2m 57s\tremaining: 6m 16s\n",
      "32:\tlearn: 0.5606253\ttest: 0.5612466\tbest: 0.5612466 (32)\ttotal: 3m 2s\tremaining: 6m 10s\n",
      "33:\tlearn: 0.5599650\ttest: 0.5606373\tbest: 0.5606373 (33)\ttotal: 3m 7s\tremaining: 6m 4s\n",
      "34:\tlearn: 0.5594664\ttest: 0.5601516\tbest: 0.5601516 (34)\ttotal: 3m 12s\tremaining: 5m 58s\n",
      "35:\tlearn: 0.5588386\ttest: 0.5595792\tbest: 0.5595792 (35)\ttotal: 3m 18s\tremaining: 5m 52s\n",
      "36:\tlearn: 0.5585789\ttest: 0.5593329\tbest: 0.5593329 (36)\ttotal: 3m 23s\tremaining: 5m 46s\n",
      "37:\tlearn: 0.5581860\ttest: 0.5589905\tbest: 0.5589905 (37)\ttotal: 3m 29s\tremaining: 5m 41s\n",
      "38:\tlearn: 0.5579281\ttest: 0.5587334\tbest: 0.5587334 (38)\ttotal: 3m 34s\tremaining: 5m 36s\n",
      "39:\tlearn: 0.5573842\ttest: 0.5581922\tbest: 0.5581922 (39)\ttotal: 3m 40s\tremaining: 5m 30s\n",
      "40:\tlearn: 0.5566594\ttest: 0.5575167\tbest: 0.5575167 (40)\ttotal: 3m 45s\tremaining: 5m 24s\n",
      "41:\tlearn: 0.5560785\ttest: 0.5569333\tbest: 0.5569333 (41)\ttotal: 3m 51s\tremaining: 5m 19s\n",
      "42:\tlearn: 0.5557034\ttest: 0.5566169\tbest: 0.5566169 (42)\ttotal: 3m 56s\tremaining: 5m 13s\n",
      "43:\tlearn: 0.5552554\ttest: 0.5562184\tbest: 0.5562184 (43)\ttotal: 4m 2s\tremaining: 5m 8s\n",
      "44:\tlearn: 0.5548212\ttest: 0.5558123\tbest: 0.5558123 (44)\ttotal: 4m 7s\tremaining: 5m 2s\n",
      "45:\tlearn: 0.5546195\ttest: 0.5556307\tbest: 0.5556307 (45)\ttotal: 4m 12s\tremaining: 4m 56s\n",
      "46:\tlearn: 0.5544013\ttest: 0.5554448\tbest: 0.5554448 (46)\ttotal: 4m 18s\tremaining: 4m 51s\n",
      "47:\tlearn: 0.5541021\ttest: 0.5551769\tbest: 0.5551769 (47)\ttotal: 4m 23s\tremaining: 4m 45s\n",
      "48:\tlearn: 0.5537739\ttest: 0.5548711\tbest: 0.5548711 (48)\ttotal: 4m 28s\tremaining: 4m 39s\n",
      "49:\tlearn: 0.5533210\ttest: 0.5544318\tbest: 0.5544318 (49)\ttotal: 4m 34s\tremaining: 4m 34s\n",
      "50:\tlearn: 0.5529120\ttest: 0.5540664\tbest: 0.5540664 (50)\ttotal: 4m 39s\tremaining: 4m 28s\n",
      "51:\tlearn: 0.5526766\ttest: 0.5538786\tbest: 0.5538786 (51)\ttotal: 4m 44s\tremaining: 4m 22s\n",
      "52:\tlearn: 0.5524210\ttest: 0.5536599\tbest: 0.5536599 (52)\ttotal: 4m 49s\tremaining: 4m 17s\n",
      "53:\tlearn: 0.5521238\ttest: 0.5533994\tbest: 0.5533994 (53)\ttotal: 4m 55s\tremaining: 4m 11s\n",
      "54:\tlearn: 0.5518735\ttest: 0.5532027\tbest: 0.5532027 (54)\ttotal: 5m\tremaining: 4m 5s\n",
      "55:\tlearn: 0.5513888\ttest: 0.5527465\tbest: 0.5527465 (55)\ttotal: 5m 5s\tremaining: 4m\n",
      "56:\tlearn: 0.5511942\ttest: 0.5525739\tbest: 0.5525739 (56)\ttotal: 5m 11s\tremaining: 3m 54s\n",
      "57:\tlearn: 0.5506689\ttest: 0.5520546\tbest: 0.5520546 (57)\ttotal: 5m 16s\tremaining: 3m 49s\n",
      "58:\tlearn: 0.5504248\ttest: 0.5518411\tbest: 0.5518411 (58)\ttotal: 5m 21s\tremaining: 3m 43s\n",
      "59:\tlearn: 0.5501875\ttest: 0.5516219\tbest: 0.5516219 (59)\ttotal: 5m 26s\tremaining: 3m 37s\n",
      "60:\tlearn: 0.5494281\ttest: 0.5509055\tbest: 0.5509055 (60)\ttotal: 5m 31s\tremaining: 3m 32s\n",
      "61:\tlearn: 0.5490703\ttest: 0.5505578\tbest: 0.5505578 (61)\ttotal: 5m 37s\tremaining: 3m 26s\n",
      "62:\tlearn: 0.5488808\ttest: 0.5503999\tbest: 0.5503999 (62)\ttotal: 5m 42s\tremaining: 3m 21s\n",
      "63:\tlearn: 0.5487282\ttest: 0.5502569\tbest: 0.5502569 (63)\ttotal: 5m 47s\tremaining: 3m 15s\n",
      "64:\tlearn: 0.5484808\ttest: 0.5500362\tbest: 0.5500362 (64)\ttotal: 5m 52s\tremaining: 3m 9s\n",
      "65:\tlearn: 0.5481083\ttest: 0.5497423\tbest: 0.5497423 (65)\ttotal: 5m 57s\tremaining: 3m 4s\n",
      "66:\tlearn: 0.5478930\ttest: 0.5495522\tbest: 0.5495522 (66)\ttotal: 6m 3s\tremaining: 2m 58s\n",
      "67:\tlearn: 0.5477903\ttest: 0.5494623\tbest: 0.5494623 (67)\ttotal: 6m 8s\tremaining: 2m 53s\n",
      "68:\tlearn: 0.5476259\ttest: 0.5493340\tbest: 0.5493340 (68)\ttotal: 6m 13s\tremaining: 2m 48s\n",
      "69:\tlearn: 0.5474915\ttest: 0.5492307\tbest: 0.5492307 (69)\ttotal: 6m 19s\tremaining: 2m 42s\n",
      "70:\tlearn: 0.5471137\ttest: 0.5488848\tbest: 0.5488848 (70)\ttotal: 6m 24s\tremaining: 2m 36s\n",
      "71:\tlearn: 0.5466326\ttest: 0.5484191\tbest: 0.5484191 (71)\ttotal: 6m 29s\tremaining: 2m 31s\n",
      "72:\tlearn: 0.5463375\ttest: 0.5481574\tbest: 0.5481574 (72)\ttotal: 6m 34s\tremaining: 2m 26s\n",
      "73:\tlearn: 0.5461050\ttest: 0.5479359\tbest: 0.5479359 (73)\ttotal: 6m 40s\tremaining: 2m 20s\n",
      "74:\tlearn: 0.5457666\ttest: 0.5476128\tbest: 0.5476128 (74)\ttotal: 6m 45s\tremaining: 2m 15s\n",
      "75:\tlearn: 0.5454750\ttest: 0.5473929\tbest: 0.5473929 (75)\ttotal: 6m 51s\tremaining: 2m 9s\n",
      "76:\tlearn: 0.5453510\ttest: 0.5472964\tbest: 0.5472964 (76)\ttotal: 6m 56s\tremaining: 2m 4s\n",
      "77:\tlearn: 0.5451704\ttest: 0.5471285\tbest: 0.5471285 (77)\ttotal: 7m 1s\tremaining: 1m 58s\n",
      "78:\tlearn: 0.5448646\ttest: 0.5468811\tbest: 0.5468811 (78)\ttotal: 7m 6s\tremaining: 1m 53s\n",
      "79:\tlearn: 0.5446668\ttest: 0.5467128\tbest: 0.5467128 (79)\ttotal: 7m 12s\tremaining: 1m 48s\n",
      "80:\tlearn: 0.5443560\ttest: 0.5464016\tbest: 0.5464016 (80)\ttotal: 7m 17s\tremaining: 1m 42s\n",
      "81:\tlearn: 0.5441408\ttest: 0.5462217\tbest: 0.5462217 (81)\ttotal: 7m 22s\tremaining: 1m 37s\n",
      "82:\tlearn: 0.5437987\ttest: 0.5459249\tbest: 0.5459249 (82)\ttotal: 7m 28s\tremaining: 1m 31s\n",
      "83:\tlearn: 0.5436422\ttest: 0.5457945\tbest: 0.5457945 (83)\ttotal: 7m 33s\tremaining: 1m 26s\n",
      "84:\tlearn: 0.5432784\ttest: 0.5454851\tbest: 0.5454851 (84)\ttotal: 7m 38s\tremaining: 1m 20s\n",
      "85:\tlearn: 0.5430626\ttest: 0.5453053\tbest: 0.5453053 (85)\ttotal: 7m 44s\tremaining: 1m 15s\n",
      "86:\tlearn: 0.5429192\ttest: 0.5451627\tbest: 0.5451627 (86)\ttotal: 7m 49s\tremaining: 1m 10s\n",
      "87:\tlearn: 0.5426972\ttest: 0.5449750\tbest: 0.5449750 (87)\ttotal: 7m 54s\tremaining: 1m 4s\n",
      "88:\tlearn: 0.5424299\ttest: 0.5447572\tbest: 0.5447572 (88)\ttotal: 7m 59s\tremaining: 59.3s\n",
      "89:\tlearn: 0.5420802\ttest: 0.5444318\tbest: 0.5444318 (89)\ttotal: 8m 5s\tremaining: 53.9s\n",
      "90:\tlearn: 0.5418527\ttest: 0.5442505\tbest: 0.5442505 (90)\ttotal: 8m 10s\tremaining: 48.5s\n",
      "91:\tlearn: 0.5417031\ttest: 0.5441381\tbest: 0.5441381 (91)\ttotal: 8m 15s\tremaining: 43.1s\n",
      "92:\tlearn: 0.5416638\ttest: 0.5440948\tbest: 0.5440948 (92)\ttotal: 8m 21s\tremaining: 37.7s\n",
      "93:\tlearn: 0.5415660\ttest: 0.5440269\tbest: 0.5440269 (93)\ttotal: 8m 26s\tremaining: 32.3s\n",
      "94:\tlearn: 0.5413318\ttest: 0.5438489\tbest: 0.5438489 (94)\ttotal: 8m 31s\tremaining: 26.9s\n",
      "95:\tlearn: 0.5411407\ttest: 0.5436924\tbest: 0.5436924 (95)\ttotal: 8m 36s\tremaining: 21.5s\n",
      "96:\tlearn: 0.5408178\ttest: 0.5434007\tbest: 0.5434007 (96)\ttotal: 8m 42s\tremaining: 16.2s\n",
      "97:\tlearn: 0.5406877\ttest: 0.5433044\tbest: 0.5433044 (97)\ttotal: 8m 47s\tremaining: 10.8s\n",
      "98:\tlearn: 0.5404129\ttest: 0.5430469\tbest: 0.5430469 (98)\ttotal: 8m 53s\tremaining: 5.38s\n",
      "99:\tlearn: 0.5402885\ttest: 0.5429730\tbest: 0.5429730 (99)\ttotal: 8m 58s\tremaining: 0us\n",
      "\n",
      "bestTest = 0.5429730119\n",
      "bestIteration = 99\n",
      "\n"
     ]
    },
    {
     "data": {
      "text/plain": [
       "<catboost.core.CatBoostClassifier at 0x7fcf20375f00>"
      ]
     },
     "execution_count": 10,
     "metadata": {},
     "output_type": "execute_result"
    }
   ],
   "source": [
    "cat_features = list(\n",
    "    X_train.select_dtypes(include=['string', 'object']).columns\n",
    ")\n",
    "\n",
    "pool_train = Pool(X_train, y_train, cat_features=cat_features)\n",
    "pool_val = Pool(X_val, y_val, cat_features=cat_features)\n",
    "\n",
    "model = CatBoostClassifier(\n",
    "    learning_rate=0.2,\n",
    "    iterations=100,\n",
    "    depth=10,\n",
    "    scale_pos_weight=10,\n",
    "    early_stopping_rounds=5,\n",
    "    use_best_model=True,\n",
    ")\n",
    "\n",
    "model.fit(\n",
    "    pool_train, \n",
    "    eval_set=pool_val,\n",
    ")"
   ]
  },
  {
   "cell_type": "markdown",
   "metadata": {},
   "source": [
    "## <span style=\"color:#ff5f27\">👮🏻‍♂️ Model Validation </span>\n",
    "\n",
    "Next, you'll evaluate how well the model performs on the validation data."
   ]
  },
  {
   "cell_type": "code",
   "execution_count": 11,
   "metadata": {},
   "outputs": [
    {
     "name": "stdout",
     "output_type": "stream",
     "text": [
      "              precision    recall  f1-score   support\n",
      "\n",
      "           0       0.96      0.40      0.56    414936\n",
      "           1       0.22      0.91      0.36     78185\n",
      "\n",
      "    accuracy                           0.48    493121\n",
      "   macro avg       0.59      0.65      0.46    493121\n",
      "weighted avg       0.84      0.48      0.53    493121\n",
      "\n"
     ]
    }
   ],
   "source": [
    "preds = model.predict(pool_val)\n",
    "\n",
    "precision, recall, fscore, _ = precision_recall_fscore_support(y_val, preds, average=\"binary\")\n",
    "\n",
    "metrics = {\n",
    "    \"precision\" : precision,\n",
    "    \"recall\" : recall,\n",
    "    \"fscore\" : fscore,\n",
    "}\n",
    "print(classification_report(y_val, preds))"
   ]
  },
  {
   "cell_type": "markdown",
   "metadata": {},
   "source": [
    "It can be seen that the model has a low F1-score on the positive class (higher is better). The performance could potentially be improved by adding more features to the dataset, e.g. image embeddings.\n",
    "\n",
    "Let's see which features your model considers important."
   ]
  },
  {
   "cell_type": "code",
   "execution_count": 12,
   "metadata": {},
   "outputs": [
    {
     "data": {
      "text/plain": [
       "{'month_cos': 14.391052030455674,\n",
       " 'section_name': 13.211122380694814,\n",
       " 'product_group_name': 9.980529675176275,\n",
       " 'product_type_name': 9.774257346430925,\n",
       " 'department_name': 7.572276640117973,\n",
       " 'garment_group_name': 6.135883120695915,\n",
       " 'perceived_colour_master_name': 5.920165680532657,\n",
       " 'graphical_appearance_name': 5.60679440979916,\n",
       " 'index_name': 5.593757313769614,\n",
       " 'age': 5.270226238463603,\n",
       " 'perceived_colour_value_name': 4.678572330787849,\n",
       " 'index_group_name': 4.17635691864563,\n",
       " 'month_sin': 3.9868909337016087,\n",
       " 'colour_group_name': 3.7021149807283167}"
      ]
     },
     "execution_count": 12,
     "metadata": {},
     "output_type": "execute_result"
    }
   ],
   "source": [
    "feat_to_score = {\n",
    "    feature: score \n",
    "    for feature, score \n",
    "    in zip(\n",
    "        X_train.columns, \n",
    "        model.feature_importances_,\n",
    "    )\n",
    "}\n",
    "\n",
    "feat_to_score = dict(\n",
    "    sorted(\n",
    "        feat_to_score.items(),\n",
    "        key=lambda item: item[1],\n",
    "        reverse=True,\n",
    "    )\n",
    ")\n",
    "feat_to_score"
   ]
  },
  {
   "cell_type": "markdown",
   "metadata": {},
   "source": [
    "It can be seen that the model places high importance on user and item embedding features. Consequently, better trained embeddings could yield a better ranking model.\n",
    "\n",
    "Finally, you'll save your model."
   ]
  },
  {
   "cell_type": "code",
   "execution_count": 13,
   "metadata": {},
   "outputs": [
    {
     "data": {
      "text/plain": [
       "['ranking_model.pkl']"
      ]
     },
     "execution_count": 13,
     "metadata": {},
     "output_type": "execute_result"
    }
   ],
   "source": [
    "joblib.dump(model, 'ranking_model.pkl')"
   ]
  },
  {
   "cell_type": "markdown",
   "metadata": {},
   "source": [
    "### <span style=\"color:#ff5f27\">💾  Upload Model to Model Registry </span>\n",
    "\n",
    "You'll upload the model to the Hopsworks Model Registry."
   ]
  },
  {
   "cell_type": "code",
   "execution_count": 14,
   "metadata": {},
   "outputs": [
    {
     "name": "stdout",
     "output_type": "stream",
     "text": [
      "Connected. Call `.close()` to terminate connection gracefully.\n"
     ]
    }
   ],
   "source": [
    "# Connect to Hopsworks Model Registry\n",
    "mr = project.get_model_registry()"
   ]
  },
  {
   "cell_type": "code",
   "execution_count": 15,
   "metadata": {},
   "outputs": [
    {
     "data": {
      "application/vnd.jupyter.widget-view+json": {
       "model_id": "f666764b672747c6b1d45cc54b8b0c66",
       "version_major": 2,
       "version_minor": 0
      },
      "text/plain": [
       "  0%|          | 0/6 [00:00<?, ?it/s]"
      ]
     },
     "metadata": {},
     "output_type": "display_data"
    },
    {
     "name": "stdout",
     "output_type": "stream",
     "text": [
      "Model created, explore it at https://snurran.hops.works/p/17527/models/ranking_model/1\n"
     ]
    },
    {
     "data": {
      "text/plain": [
       "Model(name: 'ranking_model', version: 1)"
      ]
     },
     "execution_count": 15,
     "metadata": {},
     "output_type": "execute_result"
    }
   ],
   "source": [
    "from hsml.schema import Schema\n",
    "from hsml.model_schema import ModelSchema\n",
    "\n",
    "input_example = X_train.sample().to_dict(\"records\")\n",
    "input_schema = Schema(X_train)\n",
    "output_schema = Schema(y_train)\n",
    "model_schema = ModelSchema(input_schema, output_schema)\n",
    "\n",
    "ranking_model = mr.python.create_model(\n",
    "    name=\"ranking_model\", \n",
    "    metrics=metrics,\n",
    "    model_schema=model_schema,\n",
    "    input_example=input_example,\n",
    "    description=\"Ranking model that scores item candidates\",\n",
    ")\n",
    "ranking_model.save(\"ranking_model.pkl\")"
   ]
  },
  {
   "cell_type": "markdown",
   "metadata": {},
   "source": [
    "---"
   ]
  },
  {
   "cell_type": "code",
   "execution_count": 16,
   "metadata": {},
   "outputs": [
    {
     "name": "stdout",
     "output_type": "stream",
     "text": [
      "⌛️ Notebook Execution time: 638.80 seconds\n"
     ]
    }
   ],
   "source": [
    "# End the timer\n",
    "notebook_end_time = time.time()\n",
    "\n",
    "# Calculate and print the execution time\n",
    "notebook_execution_time = notebook_end_time - notebook_start_time\n",
    "print(f\"⌛️ Notebook Execution time: {notebook_execution_time:.2f} seconds\")"
   ]
  },
  {
   "cell_type": "markdown",
   "metadata": {},
   "source": [
    "---\n",
    "## <span style=\"color:#ff5f27\">⏩️ Next Steps </span>\n",
    "\n",
    "Now you have trained both a retrieval and a ranking model, which will allow you to generate recommendations for users. In the next notebook, you'll take a look at how you can deploy these models with the `HSML` library."
   ]
  }
 ],
 "metadata": {
  "interpreter": {
   "hash": "31f2aee4e71d21fbe5cf8b01ff0e069b9275f58929596ceb00d14d90e3e16cd6"
  },
  "kernelspec": {
   "display_name": "Python 3",
   "language": "python",
   "name": "python3"
  },
  "language_info": {
   "codemirror_mode": {
    "name": "ipython",
    "version": 3
   },
   "file_extension": ".py",
   "mimetype": "text/x-python",
   "name": "python",
   "nbconvert_exporter": "python",
   "pygments_lexer": "ipython3",
   "version": "3.10.11"
  }
 },
 "nbformat": 4,
 "nbformat_minor": 4
}
