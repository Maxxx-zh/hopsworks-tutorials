{
 "cells": [
  {
   "cell_type": "markdown",
   "metadata": {},
   "source": [
    "## <span style=\"color:#ff5f27\">👨🏻‍🏫 Train Ranking Model </span>\n",
    "\n",
    "In this notebook, you will train a ranking model using gradient boosted trees. "
   ]
  },
  {
   "cell_type": "markdown",
   "metadata": {},
   "source": [
    "## <span style=\"color:#ff5f27\">📝 Imports </span>"
   ]
  },
  {
   "cell_type": "code",
   "execution_count": 1,
   "metadata": {},
   "outputs": [],
   "source": [
    "import pandas as pd\n",
    "from catboost import CatBoostClassifier, Pool\n",
    "from sklearn.metrics import classification_report, precision_recall_fscore_support\n",
    "import joblib"
   ]
  },
  {
   "cell_type": "markdown",
   "metadata": {},
   "source": [
    "## <span style=\"color:#ff5f27\">🔮 Connect to Hopsworks Feature Store </span>"
   ]
  },
  {
   "cell_type": "code",
   "execution_count": 2,
   "metadata": {},
   "outputs": [
    {
     "name": "stdout",
     "output_type": "stream",
     "text": [
      "Connected. Call `.close()` to terminate connection gracefully.\n",
      "\n",
      "Logged in to project, explore it here https://snurran.hops.works/p/17527\n",
      "Connected. Call `.close()` to terminate connection gracefully.\n"
     ]
    }
   ],
   "source": [
    "import hopsworks\n",
    "\n",
    "project = hopsworks.login()\n",
    "\n",
    "fs = project.get_feature_store()"
   ]
  },
  {
   "cell_type": "code",
   "execution_count": 3,
   "metadata": {},
   "outputs": [],
   "source": [
    "customers_fg = fs.get_feature_group(\n",
    "    name=\"customers\",\n",
    "    version=1,\n",
    ")\n",
    "\n",
    "articles_fg = fs.get_feature_group(\n",
    "    name=\"articles\",\n",
    "    version=2,\n",
    ")\n",
    "\n",
    "trans_fg = fs.get_feature_group(\n",
    "    name=\"transactions\",\n",
    "    version=1,\n",
    ")\n",
    "\n",
    "rank_fg = fs.get_feature_group(\n",
    "    name=\"ranking\",\n",
    "    version=1,\n",
    ")"
   ]
  },
  {
   "cell_type": "markdown",
   "metadata": {},
   "source": [
    "## <span style=\"color:#ff5f27\">⚙️ Feature View Creation </span>"
   ]
  },
  {
   "cell_type": "code",
   "execution_count": 4,
   "metadata": {},
   "outputs": [
    {
     "name": "stdout",
     "output_type": "stream",
     "text": [
      "Feature view created successfully, explore it at \n",
      "https://snurran.hops.works/p/17527/fs/17475/fv/customers/version/1\n"
     ]
    },
    {
     "data": {
      "text/plain": [
       "<hsfs.feature_view.FeatureView at 0x7fc6b68a9900>"
      ]
     },
     "execution_count": 4,
     "metadata": {},
     "output_type": "execute_result"
    }
   ],
   "source": [
    "# Select features\n",
    "selected_features_customers = customers_fg.select_all()\n",
    "\n",
    "fs.get_or_create_feature_view( \n",
    "    name='customers',\n",
    "    query=selected_features_customers,\n",
    "    version=1,\n",
    ")"
   ]
  },
  {
   "cell_type": "code",
   "execution_count": 4,
   "metadata": {},
   "outputs": [
    {
     "name": "stdout",
     "output_type": "stream",
     "text": [
      "Feature view created successfully, explore it at \n",
      "https://snurran.hops.works/p/17527/fs/17475/fv/articles/version/1\n"
     ]
    },
    {
     "data": {
      "text/plain": [
       "<hsfs.feature_view.FeatureView at 0x7feaec287910>"
      ]
     },
     "execution_count": 4,
     "metadata": {},
     "output_type": "execute_result"
    }
   ],
   "source": [
    "# Select features\n",
    "selected_features_articles = articles_fg.select_except(['embeddings']) \n",
    "\n",
    "fs.get_or_create_feature_view(\n",
    "    name='articles',\n",
    "    query=selected_features_articles,\n",
    "    version=1,\n",
    ")"
   ]
  },
  {
   "cell_type": "code",
   "execution_count": 6,
   "metadata": {},
   "outputs": [
    {
     "name": "stdout",
     "output_type": "stream",
     "text": [
      "Feature view created successfully, explore it at \n",
      "https://snurran.hops.works/p/17527/fs/17475/fv/ranking/version/1\n"
     ]
    }
   ],
   "source": [
    "# Select features\n",
    "selected_features_ranking = rank_fg.select_except([\"customer_id\", \"article_id\"])\n",
    "\n",
    "feature_view_ranking = fs.get_or_create_feature_view(\n",
    "    name='ranking',\n",
    "    query=selected_features_ranking,\n",
    "    labels=[\"label\"],\n",
    "    version=1,\n",
    ")"
   ]
  },
  {
   "cell_type": "markdown",
   "metadata": {},
   "source": [
    "## <span style=\"color:#ff5f27\">🗄️ Train Data loading </span>"
   ]
  },
  {
   "cell_type": "code",
   "execution_count": 7,
   "metadata": {},
   "outputs": [
    {
     "name": "stdout",
     "output_type": "stream",
     "text": [
      "Finished: Reading data from Hopsworks, using ArrowFlight (62.39s) \n"
     ]
    },
    {
     "name": "stderr",
     "output_type": "stream",
     "text": [
      "VersionWarning: Incremented version to `1`.\n"
     ]
    },
    {
     "data": {
      "text/html": [
       "<div>\n",
       "<style scoped>\n",
       "    .dataframe tbody tr th:only-of-type {\n",
       "        vertical-align: middle;\n",
       "    }\n",
       "\n",
       "    .dataframe tbody tr th {\n",
       "        vertical-align: top;\n",
       "    }\n",
       "\n",
       "    .dataframe thead th {\n",
       "        text-align: right;\n",
       "    }\n",
       "</style>\n",
       "<table border=\"1\" class=\"dataframe\">\n",
       "  <thead>\n",
       "    <tr style=\"text-align: right;\">\n",
       "      <th></th>\n",
       "      <th>age</th>\n",
       "      <th>month_sin</th>\n",
       "      <th>month_cos</th>\n",
       "      <th>product_type_name</th>\n",
       "      <th>product_group_name</th>\n",
       "      <th>graphical_appearance_name</th>\n",
       "      <th>colour_group_name</th>\n",
       "      <th>perceived_colour_value_name</th>\n",
       "      <th>perceived_colour_master_name</th>\n",
       "      <th>department_name</th>\n",
       "      <th>index_name</th>\n",
       "      <th>index_group_name</th>\n",
       "      <th>section_name</th>\n",
       "      <th>garment_group_name</th>\n",
       "    </tr>\n",
       "  </thead>\n",
       "  <tbody>\n",
       "    <tr>\n",
       "      <th>0</th>\n",
       "      <td>46.0</td>\n",
       "      <td>-8.660254e-01</td>\n",
       "      <td>0.500000</td>\n",
       "      <td>Earring</td>\n",
       "      <td>Accessories</td>\n",
       "      <td>Solid</td>\n",
       "      <td>Gold</td>\n",
       "      <td>Bright</td>\n",
       "      <td>Metal</td>\n",
       "      <td>Jewellery</td>\n",
       "      <td>Ladies Accessories</td>\n",
       "      <td>Ladieswear</td>\n",
       "      <td>Womens Small accessories</td>\n",
       "      <td>Accessories</td>\n",
       "    </tr>\n",
       "    <tr>\n",
       "      <th>3</th>\n",
       "      <td>53.0</td>\n",
       "      <td>-5.000000e-01</td>\n",
       "      <td>0.866025</td>\n",
       "      <td>Sweater</td>\n",
       "      <td>Garment Upper body</td>\n",
       "      <td>Solid</td>\n",
       "      <td>Red</td>\n",
       "      <td>Medium</td>\n",
       "      <td>Red</td>\n",
       "      <td>Jersey fancy</td>\n",
       "      <td>Ladieswear</td>\n",
       "      <td>Ladieswear</td>\n",
       "      <td>Womens Everyday Collection</td>\n",
       "      <td>Jersey Fancy</td>\n",
       "    </tr>\n",
       "    <tr>\n",
       "      <th>4</th>\n",
       "      <td>24.0</td>\n",
       "      <td>-2.449294e-16</td>\n",
       "      <td>1.000000</td>\n",
       "      <td>Dress</td>\n",
       "      <td>Garment Full body</td>\n",
       "      <td>Solid</td>\n",
       "      <td>Black</td>\n",
       "      <td>Dark</td>\n",
       "      <td>Black</td>\n",
       "      <td>Dresses</td>\n",
       "      <td>Divided</td>\n",
       "      <td>Divided</td>\n",
       "      <td>Divided Collection</td>\n",
       "      <td>Dresses Ladies</td>\n",
       "    </tr>\n",
       "  </tbody>\n",
       "</table>\n",
       "</div>"
      ],
      "text/plain": [
       "    age     month_sin  month_cos product_type_name  product_group_name  \\\n",
       "0  46.0 -8.660254e-01   0.500000           Earring         Accessories   \n",
       "3  53.0 -5.000000e-01   0.866025           Sweater  Garment Upper body   \n",
       "4  24.0 -2.449294e-16   1.000000             Dress   Garment Full body   \n",
       "\n",
       "  graphical_appearance_name colour_group_name perceived_colour_value_name  \\\n",
       "0                     Solid              Gold                      Bright   \n",
       "3                     Solid               Red                      Medium   \n",
       "4                     Solid             Black                        Dark   \n",
       "\n",
       "  perceived_colour_master_name department_name          index_name  \\\n",
       "0                        Metal       Jewellery  Ladies Accessories   \n",
       "3                          Red    Jersey fancy          Ladieswear   \n",
       "4                        Black         Dresses             Divided   \n",
       "\n",
       "  index_group_name                section_name garment_group_name  \n",
       "0       Ladieswear    Womens Small accessories        Accessories  \n",
       "3       Ladieswear  Womens Everyday Collection       Jersey Fancy  \n",
       "4          Divided          Divided Collection     Dresses Ladies  "
      ]
     },
     "execution_count": 7,
     "metadata": {},
     "output_type": "execute_result"
    }
   ],
   "source": [
    "X_train, X_val, y_train, y_val = feature_view_ranking.train_test_split(\n",
    "    test_size=0.1,\n",
    "    description='Ranking training dataset',\n",
    ")\n",
    "\n",
    "X_train.head(3)"
   ]
  },
  {
   "cell_type": "code",
   "execution_count": 8,
   "metadata": {},
   "outputs": [
    {
     "data": {
      "text/html": [
       "<div>\n",
       "<style scoped>\n",
       "    .dataframe tbody tr th:only-of-type {\n",
       "        vertical-align: middle;\n",
       "    }\n",
       "\n",
       "    .dataframe tbody tr th {\n",
       "        vertical-align: top;\n",
       "    }\n",
       "\n",
       "    .dataframe thead th {\n",
       "        text-align: right;\n",
       "    }\n",
       "</style>\n",
       "<table border=\"1\" class=\"dataframe\">\n",
       "  <thead>\n",
       "    <tr style=\"text-align: right;\">\n",
       "      <th></th>\n",
       "      <th>label</th>\n",
       "    </tr>\n",
       "  </thead>\n",
       "  <tbody>\n",
       "    <tr>\n",
       "      <th>0</th>\n",
       "      <td>0</td>\n",
       "    </tr>\n",
       "    <tr>\n",
       "      <th>3</th>\n",
       "      <td>1</td>\n",
       "    </tr>\n",
       "    <tr>\n",
       "      <th>4</th>\n",
       "      <td>0</td>\n",
       "    </tr>\n",
       "  </tbody>\n",
       "</table>\n",
       "</div>"
      ],
      "text/plain": [
       "   label\n",
       "0      0\n",
       "3      1\n",
       "4      0"
      ]
     },
     "execution_count": 8,
     "metadata": {},
     "output_type": "execute_result"
    }
   ],
   "source": [
    "y_train.head(3)"
   ]
  },
  {
   "cell_type": "markdown",
   "metadata": {},
   "source": [
    "## <span style=\"color:#ff5f27\">🏃🏻‍♂️ Model Training </span>\n",
    "\n",
    "Let's train a model."
   ]
  },
  {
   "cell_type": "code",
   "execution_count": 9,
   "metadata": {
    "tags": []
   },
   "outputs": [
    {
     "name": "stdout",
     "output_type": "stream",
     "text": [
      "0:\tlearn: 0.6122373\ttest: 0.6121214\tbest: 0.6121214 (0)\ttotal: 4.18s\tremaining: 6m 53s\n",
      "1:\tlearn: 0.5588780\ttest: 0.5586605\tbest: 0.5586605 (1)\ttotal: 9.38s\tremaining: 7m 39s\n",
      "2:\tlearn: 0.5228194\ttest: 0.5225191\tbest: 0.5225191 (2)\ttotal: 12.8s\tremaining: 6m 53s\n",
      "3:\tlearn: 0.4969102\ttest: 0.4965672\tbest: 0.4965672 (3)\ttotal: 19.3s\tremaining: 7m 42s\n",
      "4:\tlearn: 0.4788610\ttest: 0.4784777\tbest: 0.4784777 (4)\ttotal: 24.7s\tremaining: 7m 49s\n",
      "5:\tlearn: 0.4665516\ttest: 0.4661433\tbest: 0.4661433 (5)\ttotal: 27.7s\tremaining: 7m 13s\n",
      "6:\tlearn: 0.4544422\ttest: 0.4540722\tbest: 0.4540722 (6)\ttotal: 33s\tremaining: 7m 18s\n",
      "7:\tlearn: 0.4452461\ttest: 0.4449183\tbest: 0.4449183 (7)\ttotal: 39.3s\tremaining: 7m 31s\n",
      "8:\tlearn: 0.4388605\ttest: 0.4385451\tbest: 0.4385451 (8)\ttotal: 44.6s\tremaining: 7m 30s\n",
      "9:\tlearn: 0.4338347\ttest: 0.4335593\tbest: 0.4335593 (9)\ttotal: 49.7s\tremaining: 7m 27s\n",
      "10:\tlearn: 0.4292860\ttest: 0.4290383\tbest: 0.4290383 (10)\ttotal: 55.2s\tremaining: 7m 26s\n",
      "11:\tlearn: 0.4261473\ttest: 0.4259250\tbest: 0.4259250 (11)\ttotal: 1m\tremaining: 7m 21s\n",
      "12:\tlearn: 0.4233950\ttest: 0.4231994\tbest: 0.4231994 (12)\ttotal: 1m 5s\tremaining: 7m 18s\n",
      "13:\tlearn: 0.4205795\ttest: 0.4203575\tbest: 0.4203575 (13)\ttotal: 1m 10s\tremaining: 7m 14s\n",
      "14:\tlearn: 0.4179299\ttest: 0.4177723\tbest: 0.4177723 (14)\ttotal: 1m 16s\tremaining: 7m 11s\n",
      "15:\tlearn: 0.4158718\ttest: 0.4157491\tbest: 0.4157491 (15)\ttotal: 1m 21s\tremaining: 7m 6s\n",
      "16:\tlearn: 0.4144215\ttest: 0.4143384\tbest: 0.4143384 (16)\ttotal: 1m 26s\tremaining: 7m 4s\n",
      "17:\tlearn: 0.4131530\ttest: 0.4130781\tbest: 0.4130781 (17)\ttotal: 1m 31s\tremaining: 6m 58s\n",
      "18:\tlearn: 0.4119701\ttest: 0.4119012\tbest: 0.4119012 (18)\ttotal: 1m 37s\tremaining: 6m 53s\n",
      "19:\tlearn: 0.4111445\ttest: 0.4110854\tbest: 0.4110854 (19)\ttotal: 1m 42s\tremaining: 6m 49s\n",
      "20:\tlearn: 0.4102482\ttest: 0.4101601\tbest: 0.4101601 (20)\ttotal: 1m 47s\tremaining: 6m 45s\n",
      "21:\tlearn: 0.4094587\ttest: 0.4093046\tbest: 0.4093046 (21)\ttotal: 1m 53s\tremaining: 6m 41s\n",
      "22:\tlearn: 0.4084067\ttest: 0.4081848\tbest: 0.4081848 (22)\ttotal: 1m 58s\tremaining: 6m 35s\n",
      "23:\tlearn: 0.4077128\ttest: 0.4074769\tbest: 0.4074769 (23)\ttotal: 2m 3s\tremaining: 6m 31s\n",
      "24:\tlearn: 0.4062586\ttest: 0.4061638\tbest: 0.4061638 (24)\ttotal: 2m 8s\tremaining: 6m 26s\n",
      "25:\tlearn: 0.4054675\ttest: 0.4053957\tbest: 0.4053957 (25)\ttotal: 2m 14s\tremaining: 6m 21s\n",
      "26:\tlearn: 0.4049151\ttest: 0.4049059\tbest: 0.4049059 (26)\ttotal: 2m 19s\tremaining: 6m 17s\n",
      "27:\tlearn: 0.4044474\ttest: 0.4044396\tbest: 0.4044396 (27)\ttotal: 2m 24s\tremaining: 6m 12s\n",
      "28:\tlearn: 0.4037643\ttest: 0.4037728\tbest: 0.4037728 (28)\ttotal: 2m 29s\tremaining: 6m 7s\n",
      "29:\tlearn: 0.4034056\ttest: 0.4034755\tbest: 0.4034755 (29)\ttotal: 2m 35s\tremaining: 6m 2s\n",
      "30:\tlearn: 0.4030760\ttest: 0.4031603\tbest: 0.4031603 (30)\ttotal: 2m 40s\tremaining: 5m 57s\n",
      "31:\tlearn: 0.4024922\ttest: 0.4026144\tbest: 0.4026144 (31)\ttotal: 2m 45s\tremaining: 5m 52s\n",
      "32:\tlearn: 0.4019431\ttest: 0.4020128\tbest: 0.4020128 (32)\ttotal: 2m 50s\tremaining: 5m 47s\n",
      "33:\tlearn: 0.4016487\ttest: 0.4017360\tbest: 0.4017360 (33)\ttotal: 2m 56s\tremaining: 5m 41s\n",
      "34:\tlearn: 0.4006563\ttest: 0.4008566\tbest: 0.4008566 (34)\ttotal: 3m 1s\tremaining: 5m 36s\n",
      "35:\tlearn: 0.3999396\ttest: 0.4001590\tbest: 0.4001590 (35)\ttotal: 3m 6s\tremaining: 5m 31s\n",
      "36:\tlearn: 0.3994955\ttest: 0.3997512\tbest: 0.3997512 (36)\ttotal: 3m 11s\tremaining: 5m 26s\n",
      "37:\tlearn: 0.3987810\ttest: 0.3990187\tbest: 0.3990187 (37)\ttotal: 3m 16s\tremaining: 5m 21s\n",
      "38:\tlearn: 0.3982413\ttest: 0.3985101\tbest: 0.3985101 (38)\ttotal: 3m 22s\tremaining: 5m 16s\n",
      "39:\tlearn: 0.3977319\ttest: 0.3980148\tbest: 0.3980148 (39)\ttotal: 3m 27s\tremaining: 5m 11s\n",
      "40:\tlearn: 0.3973964\ttest: 0.3976957\tbest: 0.3976957 (40)\ttotal: 3m 32s\tremaining: 5m 6s\n",
      "41:\tlearn: 0.3972227\ttest: 0.3975357\tbest: 0.3975357 (41)\ttotal: 3m 37s\tremaining: 5m\n",
      "42:\tlearn: 0.3968779\ttest: 0.3971859\tbest: 0.3971859 (42)\ttotal: 3m 42s\tremaining: 4m 55s\n",
      "43:\tlearn: 0.3966127\ttest: 0.3969377\tbest: 0.3969377 (43)\ttotal: 3m 48s\tremaining: 4m 50s\n",
      "44:\tlearn: 0.3959576\ttest: 0.3962962\tbest: 0.3962962 (44)\ttotal: 3m 53s\tremaining: 4m 45s\n",
      "45:\tlearn: 0.3957211\ttest: 0.3960580\tbest: 0.3960580 (45)\ttotal: 3m 58s\tremaining: 4m 40s\n",
      "46:\tlearn: 0.3951961\ttest: 0.3955350\tbest: 0.3955350 (46)\ttotal: 4m 3s\tremaining: 4m 35s\n",
      "47:\tlearn: 0.3947033\ttest: 0.3950305\tbest: 0.3950305 (47)\ttotal: 4m 9s\tremaining: 4m 29s\n",
      "48:\tlearn: 0.3937420\ttest: 0.3940966\tbest: 0.3940966 (48)\ttotal: 4m 14s\tremaining: 4m 24s\n",
      "49:\tlearn: 0.3932375\ttest: 0.3936187\tbest: 0.3936187 (49)\ttotal: 4m 19s\tremaining: 4m 19s\n",
      "50:\tlearn: 0.3930212\ttest: 0.3934007\tbest: 0.3934007 (50)\ttotal: 4m 24s\tremaining: 4m 14s\n",
      "51:\tlearn: 0.3927714\ttest: 0.3931823\tbest: 0.3931823 (51)\ttotal: 4m 29s\tremaining: 4m 9s\n",
      "52:\tlearn: 0.3925311\ttest: 0.3929790\tbest: 0.3929790 (52)\ttotal: 4m 35s\tremaining: 4m 3s\n",
      "53:\tlearn: 0.3923334\ttest: 0.3927921\tbest: 0.3927921 (53)\ttotal: 4m 40s\tremaining: 3m 58s\n",
      "54:\tlearn: 0.3920670\ttest: 0.3925369\tbest: 0.3925369 (54)\ttotal: 4m 45s\tremaining: 3m 53s\n",
      "55:\tlearn: 0.3918674\ttest: 0.3923419\tbest: 0.3923419 (55)\ttotal: 4m 50s\tremaining: 3m 48s\n",
      "56:\tlearn: 0.3916665\ttest: 0.3921590\tbest: 0.3921590 (56)\ttotal: 4m 56s\tremaining: 3m 43s\n",
      "57:\tlearn: 0.3914436\ttest: 0.3919442\tbest: 0.3919442 (57)\ttotal: 5m 1s\tremaining: 3m 38s\n",
      "58:\tlearn: 0.3905299\ttest: 0.3910690\tbest: 0.3910690 (58)\ttotal: 5m 6s\tremaining: 3m 32s\n",
      "59:\tlearn: 0.3900848\ttest: 0.3906436\tbest: 0.3906436 (59)\ttotal: 5m 11s\tremaining: 3m 27s\n",
      "60:\tlearn: 0.3897436\ttest: 0.3902569\tbest: 0.3902569 (60)\ttotal: 5m 17s\tremaining: 3m 22s\n",
      "61:\tlearn: 0.3896196\ttest: 0.3901444\tbest: 0.3901444 (61)\ttotal: 5m 22s\tremaining: 3m 17s\n",
      "62:\tlearn: 0.3893718\ttest: 0.3899050\tbest: 0.3899050 (62)\ttotal: 5m 27s\tremaining: 3m 12s\n",
      "63:\tlearn: 0.3885267\ttest: 0.3890894\tbest: 0.3890894 (63)\ttotal: 5m 33s\tremaining: 3m 7s\n",
      "64:\tlearn: 0.3881134\ttest: 0.3886744\tbest: 0.3886744 (64)\ttotal: 5m 38s\tremaining: 3m 2s\n",
      "65:\tlearn: 0.3879757\ttest: 0.3885461\tbest: 0.3885461 (65)\ttotal: 5m 43s\tremaining: 2m 56s\n",
      "66:\tlearn: 0.3878513\ttest: 0.3884157\tbest: 0.3884157 (66)\ttotal: 5m 48s\tremaining: 2m 51s\n",
      "67:\tlearn: 0.3877091\ttest: 0.3882758\tbest: 0.3882758 (67)\ttotal: 5m 53s\tremaining: 2m 46s\n",
      "68:\tlearn: 0.3875557\ttest: 0.3881352\tbest: 0.3881352 (68)\ttotal: 5m 59s\tremaining: 2m 41s\n",
      "69:\tlearn: 0.3873162\ttest: 0.3879218\tbest: 0.3879218 (69)\ttotal: 6m 4s\tremaining: 2m 36s\n",
      "70:\tlearn: 0.3872327\ttest: 0.3878440\tbest: 0.3878440 (70)\ttotal: 6m 9s\tremaining: 2m 30s\n",
      "71:\tlearn: 0.3870103\ttest: 0.3876362\tbest: 0.3876362 (71)\ttotal: 6m 14s\tremaining: 2m 25s\n",
      "72:\tlearn: 0.3869380\ttest: 0.3875637\tbest: 0.3875637 (72)\ttotal: 6m 19s\tremaining: 2m 20s\n",
      "73:\tlearn: 0.3868507\ttest: 0.3874947\tbest: 0.3874947 (73)\ttotal: 6m 25s\tremaining: 2m 15s\n",
      "74:\tlearn: 0.3866199\ttest: 0.3872698\tbest: 0.3872698 (74)\ttotal: 6m 30s\tremaining: 2m 10s\n",
      "75:\tlearn: 0.3863349\ttest: 0.3870230\tbest: 0.3870230 (75)\ttotal: 6m 35s\tremaining: 2m 4s\n",
      "76:\tlearn: 0.3861857\ttest: 0.3868736\tbest: 0.3868736 (76)\ttotal: 6m 40s\tremaining: 1m 59s\n",
      "77:\tlearn: 0.3860207\ttest: 0.3867201\tbest: 0.3867201 (77)\ttotal: 6m 45s\tremaining: 1m 54s\n",
      "78:\tlearn: 0.3859628\ttest: 0.3866709\tbest: 0.3866709 (78)\ttotal: 6m 51s\tremaining: 1m 49s\n",
      "79:\tlearn: 0.3858907\ttest: 0.3866143\tbest: 0.3866143 (79)\ttotal: 6m 56s\tremaining: 1m 44s\n",
      "80:\tlearn: 0.3857609\ttest: 0.3865028\tbest: 0.3865028 (80)\ttotal: 7m 1s\tremaining: 1m 38s\n",
      "81:\tlearn: 0.3854622\ttest: 0.3862124\tbest: 0.3862124 (81)\ttotal: 7m 6s\tremaining: 1m 33s\n",
      "82:\tlearn: 0.3853664\ttest: 0.3861224\tbest: 0.3861224 (82)\ttotal: 7m 11s\tremaining: 1m 28s\n",
      "83:\tlearn: 0.3850249\ttest: 0.3858013\tbest: 0.3858013 (83)\ttotal: 7m 16s\tremaining: 1m 23s\n",
      "84:\tlearn: 0.3849616\ttest: 0.3857600\tbest: 0.3857600 (84)\ttotal: 7m 21s\tremaining: 1m 17s\n",
      "85:\tlearn: 0.3848563\ttest: 0.3856664\tbest: 0.3856664 (85)\ttotal: 7m 27s\tremaining: 1m 12s\n",
      "86:\tlearn: 0.3847214\ttest: 0.3855643\tbest: 0.3855643 (86)\ttotal: 7m 32s\tremaining: 1m 7s\n",
      "87:\tlearn: 0.3842401\ttest: 0.3851092\tbest: 0.3851092 (87)\ttotal: 7m 37s\tremaining: 1m 2s\n",
      "88:\tlearn: 0.3838901\ttest: 0.3847650\tbest: 0.3847650 (88)\ttotal: 7m 43s\tremaining: 57.3s\n",
      "89:\tlearn: 0.3836763\ttest: 0.3845918\tbest: 0.3845918 (89)\ttotal: 7m 48s\tremaining: 52s\n",
      "90:\tlearn: 0.3835550\ttest: 0.3844778\tbest: 0.3844778 (90)\ttotal: 7m 53s\tremaining: 46.9s\n",
      "91:\tlearn: 0.3834674\ttest: 0.3844012\tbest: 0.3844012 (91)\ttotal: 7m 59s\tremaining: 41.7s\n",
      "92:\tlearn: 0.3834130\ttest: 0.3843541\tbest: 0.3843541 (92)\ttotal: 8m 4s\tremaining: 36.5s\n",
      "93:\tlearn: 0.3832993\ttest: 0.3842459\tbest: 0.3842459 (93)\ttotal: 8m 9s\tremaining: 31.3s\n",
      "94:\tlearn: 0.3832654\ttest: 0.3842179\tbest: 0.3842179 (94)\ttotal: 8m 15s\tremaining: 26.1s\n",
      "95:\tlearn: 0.3830389\ttest: 0.3839973\tbest: 0.3839973 (95)\ttotal: 8m 20s\tremaining: 20.9s\n",
      "96:\tlearn: 0.3830017\ttest: 0.3839609\tbest: 0.3839609 (96)\ttotal: 8m 25s\tremaining: 15.6s\n",
      "97:\tlearn: 0.3829205\ttest: 0.3838875\tbest: 0.3838875 (97)\ttotal: 8m 30s\tremaining: 10.4s\n",
      "98:\tlearn: 0.3826102\ttest: 0.3835977\tbest: 0.3835977 (98)\ttotal: 8m 35s\tremaining: 5.21s\n",
      "99:\tlearn: 0.3822813\ttest: 0.3832674\tbest: 0.3832674 (99)\ttotal: 8m 41s\tremaining: 0us\n",
      "\n",
      "bestTest = 0.3832673559\n",
      "bestIteration = 99\n",
      "\n"
     ]
    },
    {
     "data": {
      "text/plain": [
       "<catboost.core.CatBoostClassifier at 0x7fc5d926a1a0>"
      ]
     },
     "execution_count": 9,
     "metadata": {},
     "output_type": "execute_result"
    }
   ],
   "source": [
    "cat_features = list(\n",
    "    X_train.select_dtypes(include=['string', 'object']).columns\n",
    ")\n",
    "\n",
    "pool_train = Pool(X_train, y_train, cat_features=cat_features)\n",
    "pool_val = Pool(X_val, y_val, cat_features=cat_features)\n",
    "\n",
    "model = CatBoostClassifier(\n",
    "    learning_rate=0.2,\n",
    "    iterations=100,\n",
    "    depth=10,\n",
    "    scale_pos_weight=10,\n",
    "    early_stopping_rounds=5,\n",
    "    use_best_model=True,\n",
    ")\n",
    "\n",
    "model.fit(\n",
    "    pool_train, \n",
    "    eval_set=pool_val,\n",
    ")"
   ]
  },
  {
   "cell_type": "markdown",
   "metadata": {},
   "source": [
    "## <span style=\"color:#ff5f27\">👮🏻‍♂️ Model Validation </span>\n",
    "\n",
    "Next, you'll evaluate how well the model performs on the validation data."
   ]
  },
  {
   "cell_type": "code",
   "execution_count": 10,
   "metadata": {},
   "outputs": [
    {
     "name": "stdout",
     "output_type": "stream",
     "text": [
      "              precision    recall  f1-score   support\n",
      "\n",
      "           0       0.96      0.21      0.34    333587\n",
      "           1       0.37      0.98      0.54    158885\n",
      "\n",
      "    accuracy                           0.46    492472\n",
      "   macro avg       0.67      0.59      0.44    492472\n",
      "weighted avg       0.77      0.46      0.40    492472\n",
      "\n"
     ]
    }
   ],
   "source": [
    "preds = model.predict(pool_val)\n",
    "\n",
    "precision, recall, fscore, _ = precision_recall_fscore_support(y_val, preds, average=\"binary\")\n",
    "\n",
    "metrics = {\n",
    "    \"precision\" : precision,\n",
    "    \"recall\" : recall,\n",
    "    \"fscore\" : fscore,\n",
    "}\n",
    "print(classification_report(y_val, preds))"
   ]
  },
  {
   "cell_type": "markdown",
   "metadata": {},
   "source": [
    "It can be seen that the model has a low F1-score on the positive class (higher is better). The performance could potentially be improved by adding more features to the dataset, e.g. image embeddings.\n",
    "\n",
    "Let's see which features your model considers important."
   ]
  },
  {
   "cell_type": "code",
   "execution_count": 11,
   "metadata": {},
   "outputs": [
    {
     "data": {
      "text/plain": [
       "{'section_name': 11.556182308308788,\n",
       " 'graphical_appearance_name': 10.84679260622565,\n",
       " 'garment_group_name': 10.289137530609244,\n",
       " 'product_type_name': 9.40026643703017,\n",
       " 'perceived_colour_master_name': 7.630184840202655,\n",
       " 'perceived_colour_value_name': 6.83913727138985,\n",
       " 'department_name': 6.5077778686167305,\n",
       " 'index_name': 6.441329394566311,\n",
       " 'month_sin': 5.827919054139396,\n",
       " 'age': 5.717436382307535,\n",
       " 'product_group_name': 5.668551166925661,\n",
       " 'index_group_name': 5.53892669146241,\n",
       " 'colour_group_name': 5.2856626102810855,\n",
       " 'month_cos': 2.4506958379345005}"
      ]
     },
     "execution_count": 11,
     "metadata": {},
     "output_type": "execute_result"
    }
   ],
   "source": [
    "feat_to_score = {\n",
    "    feature: score \n",
    "    for feature, score \n",
    "    in zip(\n",
    "        X_train.columns, \n",
    "        model.feature_importances_,\n",
    "    )\n",
    "}\n",
    "\n",
    "feat_to_score = dict(\n",
    "    sorted(\n",
    "        feat_to_score.items(),\n",
    "        key=lambda item: item[1],\n",
    "        reverse=True,\n",
    "    )\n",
    ")\n",
    "feat_to_score"
   ]
  },
  {
   "cell_type": "markdown",
   "metadata": {},
   "source": [
    "It can be seen that the model places high importance on user and item embedding features. Consequently, better trained embeddings could yield a better ranking model.\n",
    "\n",
    "Finally, you'll save your model."
   ]
  },
  {
   "cell_type": "code",
   "execution_count": 12,
   "metadata": {},
   "outputs": [
    {
     "data": {
      "text/plain": [
       "['ranking_model.pkl']"
      ]
     },
     "execution_count": 12,
     "metadata": {},
     "output_type": "execute_result"
    }
   ],
   "source": [
    "joblib.dump(model, 'ranking_model.pkl')"
   ]
  },
  {
   "cell_type": "markdown",
   "metadata": {},
   "source": [
    "### <span style=\"color:#ff5f27\">💾  Upload Model to Model Registry </span>\n",
    "\n",
    "You'll upload the model to the Hopsworks Model Registry."
   ]
  },
  {
   "cell_type": "code",
   "execution_count": 13,
   "metadata": {},
   "outputs": [
    {
     "name": "stdout",
     "output_type": "stream",
     "text": [
      "Connected. Call `.close()` to terminate connection gracefully.\n"
     ]
    }
   ],
   "source": [
    "# Connect to Hopsworks Model Registry\n",
    "mr = project.get_model_registry()"
   ]
  },
  {
   "cell_type": "code",
   "execution_count": 14,
   "metadata": {},
   "outputs": [
    {
     "data": {
      "application/vnd.jupyter.widget-view+json": {
       "model_id": "57e1628627c94887ab26654b382210f1",
       "version_major": 2,
       "version_minor": 0
      },
      "text/plain": [
       "  0%|          | 0/6 [00:00<?, ?it/s]"
      ]
     },
     "metadata": {},
     "output_type": "display_data"
    },
    {
     "name": "stdout",
     "output_type": "stream",
     "text": [
      "Model created, explore it at https://snurran.hops.works/p/17527/models/ranking_model/1\n"
     ]
    },
    {
     "data": {
      "text/plain": [
       "Model(name: 'ranking_model', version: 1)"
      ]
     },
     "execution_count": 14,
     "metadata": {},
     "output_type": "execute_result"
    }
   ],
   "source": [
    "from hsml.schema import Schema\n",
    "from hsml.model_schema import ModelSchema\n",
    "\n",
    "input_example = X_train.sample().to_dict(\"records\")\n",
    "input_schema = Schema(X_train)\n",
    "output_schema = Schema(y_train)\n",
    "model_schema = ModelSchema(input_schema, output_schema)\n",
    "\n",
    "ranking_model = mr.python.create_model(\n",
    "    name=\"ranking_model\", \n",
    "    metrics=metrics,\n",
    "    model_schema=model_schema,\n",
    "    input_example=input_example,\n",
    "    description=\"Ranking model that scores item candidates\",\n",
    ")\n",
    "ranking_model.save(\"ranking_model.pkl\")"
   ]
  },
  {
   "cell_type": "markdown",
   "metadata": {},
   "source": [
    "---\n",
    "## <span style=\"color:#ff5f27\">⏩️ Next Steps </span>\n",
    "\n",
    "Now you have trained both a retrieval and a ranking model, which will allow you to generate recommendations for users. In the next notebook, you'll take a look at how you can deploy these models with the `HSML` library."
   ]
  }
 ],
 "metadata": {
  "interpreter": {
   "hash": "31f2aee4e71d21fbe5cf8b01ff0e069b9275f58929596ceb00d14d90e3e16cd6"
  },
  "kernelspec": {
   "display_name": "Python 3",
   "language": "python",
   "name": "python3"
  },
  "language_info": {
   "codemirror_mode": {
    "name": "ipython",
    "version": 3
   },
   "file_extension": ".py",
   "mimetype": "text/x-python",
   "name": "python",
   "nbconvert_exporter": "python",
   "pygments_lexer": "ipython3",
   "version": "3.10.11"
  }
 },
 "nbformat": 4,
 "nbformat_minor": 4
}
