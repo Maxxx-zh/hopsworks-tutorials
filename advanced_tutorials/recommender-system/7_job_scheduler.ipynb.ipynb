{
 "cells": [
  {
   "cell_type": "markdown",
   "id": "56f65e83",
   "metadata": {},
   "source": [
    "## <span style=\"color:#ff5f27\">🗓️ Job Scheduling </span>\n"
   ]
  },
  {
   "cell_type": "code",
   "execution_count": 1,
   "id": "a1018f8f",
   "metadata": {},
   "outputs": [],
   "source": [
    "from datetime import datetime, timezone"
   ]
  },
  {
   "cell_type": "code",
   "execution_count": 2,
   "id": "a8f1e5f1",
   "metadata": {},
   "outputs": [
    {
     "name": "stdout",
     "output_type": "stream",
     "text": [
      "Connected. Call `.close()` to terminate connection gracefully.\n",
      "\n",
      "Logged in to project, explore it here https://snurran.hops.works/p/17527\n"
     ]
    }
   ],
   "source": [
    "import hopsworks\n",
    "\n",
    "project = hopsworks.login()\n",
    "\n",
    "jobs_api = project.get_jobs_api()"
   ]
  },
  {
   "cell_type": "markdown",
   "id": "7b1377da",
   "metadata": {},
   "source": [
    "## <span style=\"color:#ff5f27\">🪝 Retrieve Job </span>\n"
   ]
  },
  {
   "cell_type": "code",
   "execution_count": 3,
   "id": "180a31be",
   "metadata": {},
   "outputs": [
    {
     "data": {
      "text/plain": [
       "Job('interactions_1_offline_fg_materialization', 'SPARK')"
      ]
     },
     "execution_count": 3,
     "metadata": {},
     "output_type": "execute_result"
    }
   ],
   "source": [
    "interactions_job = jobs_api.get_job('interactions_1_offline_fg_materialization')\n",
    "interactions_job"
   ]
  },
  {
   "cell_type": "markdown",
   "id": "3ff9f621",
   "metadata": {},
   "source": [
    "## <span style=\"color:#ff5f27\">🏃🏻‍♂️ Run Job </span>\n"
   ]
  },
  {
   "cell_type": "code",
   "execution_count": 6,
   "id": "65a8a236",
   "metadata": {},
   "outputs": [
    {
     "name": "stdout",
     "output_type": "stream",
     "text": [
      "Execution started, explore it at https://snurran.hops.works/p/17527/jobs/named/interactions_1_offline_fg_materialization/executions\n"
     ]
    },
    {
     "data": {
      "text/plain": [
       "Execution('UNDEFINED', 'INITIALIZING', '2024-11-06T13:10:48.908Z', '-op offline_fg_materialization -path hdfs:///Projects/HnM/Resources/jobs/interactions_1_offline_fg_materialization/config_1729854248755')"
      ]
     },
     "execution_count": 6,
     "metadata": {},
     "output_type": "execute_result"
    }
   ],
   "source": [
    "execution = interactions_job.run()\n",
    "execution"
   ]
  },
  {
   "cell_type": "markdown",
   "id": "78e9e223",
   "metadata": {},
   "source": [
    "## <span style=\"color:#ff5f27\">⏰ Schedule Job </span>\n"
   ]
  },
  {
   "cell_type": "code",
   "execution_count": 7,
   "id": "12d04e2d",
   "metadata": {},
   "outputs": [
    {
     "data": {
      "text/plain": [
       "datetime.datetime(2024, 11, 8, 0, 0, tzinfo=datetime.timezone.utc)"
      ]
     },
     "execution_count": 7,
     "metadata": {},
     "output_type": "execute_result"
    }
   ],
   "source": [
    "interactions_job.schedule(\n",
    "    cron_expression=\"0 0 0 * * ?\",  # Runs at midnight (00:00:00) every day\n",
    "    start_time=datetime.now(tz=timezone.utc),\n",
    ")\n",
    "interactions_job.job_schedule.next_execution_date_time"
   ]
  },
  {
   "cell_type": "markdown",
   "id": "014a7af5",
   "metadata": {},
   "source": [
    "---"
   ]
  }
 ],
 "metadata": {
  "kernelspec": {
   "display_name": "Python 3",
   "language": "python",
   "name": "python3"
  },
  "language_info": {
   "codemirror_mode": {
    "name": "ipython",
    "version": 3
   },
   "file_extension": ".py",
   "mimetype": "text/x-python",
   "name": "python",
   "nbconvert_exporter": "python",
   "pygments_lexer": "ipython3",
   "version": "3.10.11"
  }
 },
 "nbformat": 4,
 "nbformat_minor": 5
}
