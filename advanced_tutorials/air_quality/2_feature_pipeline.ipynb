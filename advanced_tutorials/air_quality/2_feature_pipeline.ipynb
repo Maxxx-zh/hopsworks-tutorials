{
 "cells": [
  {
   "cell_type": "markdown",
   "id": "4d7d6bb1",
   "metadata": {},
   "source": [
    "# <span style=\"font-width:bold; font-size: 3rem; color:#1EB182;\"><img src=\"../../images/icon102.png\" width=\"38px\"></img> **Hopsworks Feature Store** </span><span style=\"font-width:bold; font-size: 3rem; color:#333;\">- Part 02: Feature Pipeline</span>\n",
    "\n",
    "[![Open In Colab](https://colab.research.google.com/assets/colab-badge.svg)](https://colab.research.google.com/github/logicalclocks/hopsworks-tutorials/blob/master/advanced_tutorials/{project_name}/{notebook_name}.ipynb)\n",
    "\n",
    "\n",
    "## 🗒️ This notebook is divided into the following sections:\n",
    "1. Parse Data.\n",
    "2. Feature Group Insertion."
   ]
  },
  {
   "cell_type": "markdown",
   "id": "5fa85975",
   "metadata": {},
   "source": [
    "## <span style='color:#ff5f27'>💽 Data\n",
    "You will parse Air Quality data from [World Air Quality Index](https://aqicn.org//here/) site using your own credentials, so you have to [get an API-key](https://aqicn.org/data-platform/token/) from there.\n",
    "\n",
    "Also, to be able parse weather data, you should get an API key from [VisualCrossing](https://www.visualcrossing.com/). You can use [this link](https://www.visualcrossing.com/weather-api).\n",
    "\n",
    "## <span style='color:#ff5f27'> 👮🏻‍♂️ API Keys\n",
    "    \n",
    "`AIR_QUALITY_API_KEY = \"YOUR_API_KEY\"`\n",
    "    \n",
    "`WEATHER_API_KEY = \"YOUR_API_KEY\"`\n",
    "    \n",
    "Don't forget to create an `.env` configuration file where all the necessary environment variables will be stored:\n",
    "![](images/api_keys_env_file.png)"
   ]
  },
  {
   "cell_type": "markdown",
   "id": "9e56ccd8",
   "metadata": {},
   "source": [
    "## <span style='color:#ff5f27'> 📝 Imports"
   ]
  },
  {
   "cell_type": "code",
   "execution_count": 3,
   "id": "e5376b56",
   "metadata": {},
   "outputs": [],
   "source": [
    "import pandas as pd\n",
    "from datetime import datetime\n",
    "import time \n",
    "import requests\n",
    "\n",
    "from functions import *\n",
    "\n",
    "#ignore warnings\n",
    "import warnings\n",
    "warnings.filterwarnings('ignore')"
   ]
  },
  {
   "cell_type": "markdown",
   "id": "92f6811e",
   "metadata": {},
   "source": [
    "---"
   ]
  },
  {
   "cell_type": "markdown",
   "id": "c0722dc5",
   "metadata": {},
   "source": [
    "## <span style='color:#ff5f27'> 👮🏻‍♂️ API Keys"
   ]
  },
  {
   "cell_type": "markdown",
   "id": "28f70b84",
   "metadata": {},
   "source": [
    "### Don't forget to create an `.env` configuration file where all the necessary environment variables (API keys) will be stored:\n",
    "![](images/api_keys_env_file.png)"
   ]
  },
  {
   "cell_type": "code",
   "execution_count": 6,
   "id": "ad2a05f4",
   "metadata": {},
   "outputs": [],
   "source": [
    "date_today = datetime.now().strftime(\"%Y-%m-%d\")"
   ]
  },
  {
   "cell_type": "markdown",
   "id": "d139366f",
   "metadata": {},
   "source": [
    "---"
   ]
  },
  {
   "cell_type": "markdown",
   "id": "bc83347f",
   "metadata": {},
   "source": [
    "## <span style='color:#ff5f27'>  🧙🏼‍♂️ Parsing Data"
   ]
  },
  {
   "cell_type": "code",
   "execution_count": 7,
   "id": "137a5483",
   "metadata": {},
   "outputs": [],
   "source": [
    "cities = ['Kyiv', 'Stockholm', 'Sundsvall', 'Malmo']\n",
    "\n",
    "data_air_quality = [get_air_quality_data(city) for city in cities]\n",
    "\n",
    "data_weather = [get_weather_data(city, date_today) for city in cities]"
   ]
  },
  {
   "cell_type": "markdown",
   "id": "bf8b94ae",
   "metadata": {},
   "source": [
    "---"
   ]
  },
  {
   "cell_type": "markdown",
   "id": "867f4745",
   "metadata": {},
   "source": [
    "## <span style='color:#ff5f27'> 🧑🏻‍🏫 Dataset Preparation"
   ]
  },
  {
   "cell_type": "markdown",
   "id": "b5b9a16a",
   "metadata": {},
   "source": [
    "#### <span style='color:#ff5f27'> 👩🏻‍🔬 Air Quality Data"
   ]
  },
  {
   "cell_type": "code",
   "execution_count": 8,
   "id": "89ff5670",
   "metadata": {},
   "outputs": [
    {
     "data": {
      "text/html": [
       "<div>\n",
       "<style scoped>\n",
       "    .dataframe tbody tr th:only-of-type {\n",
       "        vertical-align: middle;\n",
       "    }\n",
       "\n",
       "    .dataframe tbody tr th {\n",
       "        vertical-align: top;\n",
       "    }\n",
       "\n",
       "    .dataframe thead th {\n",
       "        text-align: right;\n",
       "    }\n",
       "</style>\n",
       "<table border=\"1\" class=\"dataframe\">\n",
       "  <thead>\n",
       "    <tr style=\"text-align: right;\">\n",
       "      <th></th>\n",
       "      <th>city</th>\n",
       "      <th>aqi</th>\n",
       "      <th>date</th>\n",
       "      <th>iaqi_h</th>\n",
       "      <th>iaqi_p</th>\n",
       "      <th>iaqi_pm10</th>\n",
       "      <th>iaqi_t</th>\n",
       "      <th>o3_avg</th>\n",
       "      <th>o3_max</th>\n",
       "      <th>o3_min</th>\n",
       "      <th>pm10_avg</th>\n",
       "      <th>pm10_max</th>\n",
       "      <th>pm10_min</th>\n",
       "      <th>pm25_avg</th>\n",
       "      <th>pm25_max</th>\n",
       "      <th>pm25_min</th>\n",
       "    </tr>\n",
       "  </thead>\n",
       "  <tbody>\n",
       "    <tr>\n",
       "      <th>0</th>\n",
       "      <td>Kyiv</td>\n",
       "      <td>5</td>\n",
       "      <td>1666137600000</td>\n",
       "      <td>88.23</td>\n",
       "      <td>1017.6</td>\n",
       "      <td>2</td>\n",
       "      <td>14.9</td>\n",
       "      <td>21</td>\n",
       "      <td>29</td>\n",
       "      <td>12</td>\n",
       "      <td>16</td>\n",
       "      <td>19</td>\n",
       "      <td>10</td>\n",
       "      <td>54</td>\n",
       "      <td>64</td>\n",
       "      <td>34</td>\n",
       "    </tr>\n",
       "    <tr>\n",
       "      <th>1</th>\n",
       "      <td>Stockholm</td>\n",
       "      <td>21</td>\n",
       "      <td>1671408000000</td>\n",
       "      <td>93.00</td>\n",
       "      <td>1011.0</td>\n",
       "      <td>21</td>\n",
       "      <td>2.0</td>\n",
       "      <td>22</td>\n",
       "      <td>29</td>\n",
       "      <td>19</td>\n",
       "      <td>10</td>\n",
       "      <td>14</td>\n",
       "      <td>6</td>\n",
       "      <td>33</td>\n",
       "      <td>52</td>\n",
       "      <td>14</td>\n",
       "    </tr>\n",
       "    <tr>\n",
       "      <th>2</th>\n",
       "      <td>Sundsvall</td>\n",
       "      <td>32</td>\n",
       "      <td>1671408000000</td>\n",
       "      <td>88.50</td>\n",
       "      <td>1012.0</td>\n",
       "      <td>9</td>\n",
       "      <td>-6.0</td>\n",
       "      <td>22</td>\n",
       "      <td>28</td>\n",
       "      <td>18</td>\n",
       "      <td>6</td>\n",
       "      <td>7</td>\n",
       "      <td>3</td>\n",
       "      <td>18</td>\n",
       "      <td>23</td>\n",
       "      <td>9</td>\n",
       "    </tr>\n",
       "    <tr>\n",
       "      <th>3</th>\n",
       "      <td>Malmo</td>\n",
       "      <td>33</td>\n",
       "      <td>1671408000000</td>\n",
       "      <td>92.00</td>\n",
       "      <td>1009.3</td>\n",
       "      <td>8</td>\n",
       "      <td>2.7</td>\n",
       "      <td>20</td>\n",
       "      <td>26</td>\n",
       "      <td>13</td>\n",
       "      <td>12</td>\n",
       "      <td>15</td>\n",
       "      <td>10</td>\n",
       "      <td>42</td>\n",
       "      <td>48</td>\n",
       "      <td>33</td>\n",
       "    </tr>\n",
       "  </tbody>\n",
       "</table>\n",
       "</div>"
      ],
      "text/plain": [
       "        city  aqi           date  iaqi_h  iaqi_p  iaqi_pm10  iaqi_t  o3_avg  \\\n",
       "0       Kyiv    5  1666137600000   88.23  1017.6          2    14.9      21   \n",
       "1  Stockholm   21  1671408000000   93.00  1011.0         21     2.0      22   \n",
       "2  Sundsvall   32  1671408000000   88.50  1012.0          9    -6.0      22   \n",
       "3      Malmo   33  1671408000000   92.00  1009.3          8     2.7      20   \n",
       "\n",
       "   o3_max  o3_min  pm10_avg  pm10_max  pm10_min  pm25_avg  pm25_max  pm25_min  \n",
       "0      29      12        16        19        10        54        64        34  \n",
       "1      29      19        10        14         6        33        52        14  \n",
       "2      28      18         6         7         3        18        23         9  \n",
       "3      26      13        12        15        10        42        48        33  "
      ]
     },
     "execution_count": 8,
     "metadata": {},
     "output_type": "execute_result"
    }
   ],
   "source": [
    "df_air_quality = get_air_quality_df(data_air_quality)\n",
    "\n",
    "df_air_quality.head()"
   ]
  },
  {
   "cell_type": "markdown",
   "id": "760696ef",
   "metadata": {},
   "source": [
    "#### <span style='color:#ff5f27'> 🌦 Weather Data"
   ]
  },
  {
   "cell_type": "code",
   "execution_count": 9,
   "id": "89868195",
   "metadata": {},
   "outputs": [
    {
     "data": {
      "text/html": [
       "<div>\n",
       "<style scoped>\n",
       "    .dataframe tbody tr th:only-of-type {\n",
       "        vertical-align: middle;\n",
       "    }\n",
       "\n",
       "    .dataframe tbody tr th {\n",
       "        vertical-align: top;\n",
       "    }\n",
       "\n",
       "    .dataframe thead th {\n",
       "        text-align: right;\n",
       "    }\n",
       "</style>\n",
       "<table border=\"1\" class=\"dataframe\">\n",
       "  <thead>\n",
       "    <tr style=\"text-align: right;\">\n",
       "      <th></th>\n",
       "      <th>city</th>\n",
       "      <th>date</th>\n",
       "      <th>tempmax</th>\n",
       "      <th>tempmin</th>\n",
       "      <th>temp</th>\n",
       "      <th>feelslikemax</th>\n",
       "      <th>feelslikemin</th>\n",
       "      <th>feelslike</th>\n",
       "      <th>dew</th>\n",
       "      <th>humidity</th>\n",
       "      <th>...</th>\n",
       "      <th>windgust</th>\n",
       "      <th>windspeed</th>\n",
       "      <th>winddir</th>\n",
       "      <th>pressure</th>\n",
       "      <th>cloudcover</th>\n",
       "      <th>visibility</th>\n",
       "      <th>solarradiation</th>\n",
       "      <th>solarenergy</th>\n",
       "      <th>uvindex</th>\n",
       "      <th>conditions</th>\n",
       "    </tr>\n",
       "  </thead>\n",
       "  <tbody>\n",
       "    <tr>\n",
       "      <th>0</th>\n",
       "      <td>Kyiv</td>\n",
       "      <td>1671408000000</td>\n",
       "      <td>-4.8</td>\n",
       "      <td>-8.6</td>\n",
       "      <td>-6.8</td>\n",
       "      <td>-5.8</td>\n",
       "      <td>-14.5</td>\n",
       "      <td>-10.8</td>\n",
       "      <td>-9.4</td>\n",
       "      <td>81.6</td>\n",
       "      <td>...</td>\n",
       "      <td>35.6</td>\n",
       "      <td>15.8</td>\n",
       "      <td>303.8</td>\n",
       "      <td>1041.1</td>\n",
       "      <td>57.2</td>\n",
       "      <td>23.8</td>\n",
       "      <td>47.1</td>\n",
       "      <td>4.1</td>\n",
       "      <td>2.0</td>\n",
       "      <td>Partially cloudy</td>\n",
       "    </tr>\n",
       "    <tr>\n",
       "      <th>1</th>\n",
       "      <td>Stockholm</td>\n",
       "      <td>1671408000000</td>\n",
       "      <td>2.8</td>\n",
       "      <td>-3.1</td>\n",
       "      <td>0.5</td>\n",
       "      <td>1.9</td>\n",
       "      <td>-4.4</td>\n",
       "      <td>-1.8</td>\n",
       "      <td>-1.2</td>\n",
       "      <td>88.9</td>\n",
       "      <td>...</td>\n",
       "      <td>26.6</td>\n",
       "      <td>14.7</td>\n",
       "      <td>173.8</td>\n",
       "      <td>1019.0</td>\n",
       "      <td>87.6</td>\n",
       "      <td>9.0</td>\n",
       "      <td>4.1</td>\n",
       "      <td>0.3</td>\n",
       "      <td>0.0</td>\n",
       "      <td>Snow, Rain, Partially cloudy</td>\n",
       "    </tr>\n",
       "    <tr>\n",
       "      <th>2</th>\n",
       "      <td>Sundsvall</td>\n",
       "      <td>1671408000000</td>\n",
       "      <td>-5.4</td>\n",
       "      <td>-12.0</td>\n",
       "      <td>-8.4</td>\n",
       "      <td>-5.4</td>\n",
       "      <td>-15.3</td>\n",
       "      <td>-10.1</td>\n",
       "      <td>-9.9</td>\n",
       "      <td>89.3</td>\n",
       "      <td>...</td>\n",
       "      <td>42.8</td>\n",
       "      <td>9.4</td>\n",
       "      <td>284.7</td>\n",
       "      <td>1016.5</td>\n",
       "      <td>83.5</td>\n",
       "      <td>11.4</td>\n",
       "      <td>3.4</td>\n",
       "      <td>0.3</td>\n",
       "      <td>0.0</td>\n",
       "      <td>Partially cloudy</td>\n",
       "    </tr>\n",
       "    <tr>\n",
       "      <th>3</th>\n",
       "      <td>Malmo</td>\n",
       "      <td>1671408000000</td>\n",
       "      <td>4.5</td>\n",
       "      <td>-2.1</td>\n",
       "      <td>0.9</td>\n",
       "      <td>2.3</td>\n",
       "      <td>-8.2</td>\n",
       "      <td>-3.9</td>\n",
       "      <td>-0.7</td>\n",
       "      <td>88.8</td>\n",
       "      <td>...</td>\n",
       "      <td>38.9</td>\n",
       "      <td>31.4</td>\n",
       "      <td>162.8</td>\n",
       "      <td>1017.9</td>\n",
       "      <td>82.7</td>\n",
       "      <td>6.7</td>\n",
       "      <td>8.3</td>\n",
       "      <td>0.7</td>\n",
       "      <td>1.0</td>\n",
       "      <td>Rain, Partially cloudy</td>\n",
       "    </tr>\n",
       "  </tbody>\n",
       "</table>\n",
       "<p>4 rows × 25 columns</p>\n",
       "</div>"
      ],
      "text/plain": [
       "        city           date  tempmax  tempmin  temp  feelslikemax  \\\n",
       "0       Kyiv  1671408000000     -4.8     -8.6  -6.8          -5.8   \n",
       "1  Stockholm  1671408000000      2.8     -3.1   0.5           1.9   \n",
       "2  Sundsvall  1671408000000     -5.4    -12.0  -8.4          -5.4   \n",
       "3      Malmo  1671408000000      4.5     -2.1   0.9           2.3   \n",
       "\n",
       "   feelslikemin  feelslike  dew  humidity  ...  windgust  windspeed  winddir  \\\n",
       "0         -14.5      -10.8 -9.4      81.6  ...      35.6       15.8    303.8   \n",
       "1          -4.4       -1.8 -1.2      88.9  ...      26.6       14.7    173.8   \n",
       "2         -15.3      -10.1 -9.9      89.3  ...      42.8        9.4    284.7   \n",
       "3          -8.2       -3.9 -0.7      88.8  ...      38.9       31.4    162.8   \n",
       "\n",
       "   pressure  cloudcover  visibility  solarradiation  solarenergy  uvindex  \\\n",
       "0    1041.1        57.2        23.8            47.1          4.1      2.0   \n",
       "1    1019.0        87.6         9.0             4.1          0.3      0.0   \n",
       "2    1016.5        83.5        11.4             3.4          0.3      0.0   \n",
       "3    1017.9        82.7         6.7             8.3          0.7      1.0   \n",
       "\n",
       "                     conditions  \n",
       "0              Partially cloudy  \n",
       "1  Snow, Rain, Partially cloudy  \n",
       "2              Partially cloudy  \n",
       "3        Rain, Partially cloudy  \n",
       "\n",
       "[4 rows x 25 columns]"
      ]
     },
     "execution_count": 9,
     "metadata": {},
     "output_type": "execute_result"
    }
   ],
   "source": [
    "df_weather = get_weather_df(data_weather)\n",
    "\n",
    "df_weather.head()"
   ]
  },
  {
   "cell_type": "markdown",
   "id": "a649c24b",
   "metadata": {},
   "source": [
    "---"
   ]
  },
  {
   "cell_type": "markdown",
   "id": "04f332cf",
   "metadata": {},
   "source": [
    "## <span style=\"color:#ff5f27;\"> 🔮 Connecting to Hopsworks Feature Store </span>"
   ]
  },
  {
   "cell_type": "code",
   "execution_count": null,
   "id": "c0661a72",
   "metadata": {},
   "outputs": [],
   "source": [
    "import hopsworks\n",
    "\n",
    "project = hopsworks.login()\n",
    "\n",
    "fs = project.get_feature_store() "
   ]
  },
  {
   "cell_type": "code",
   "execution_count": null,
   "id": "80d0b563",
   "metadata": {},
   "outputs": [],
   "source": [
    "air_quality_fg = fs.get_or_create_feature_group(\n",
    "    name = 'air_quality_fg',\n",
    "    version = 1\n",
    ")\n",
    "weather_fg = fs.get_or_create_feature_group(\n",
    "    name = 'weather_fg',\n",
    "    version = 1\n",
    ")"
   ]
  },
  {
   "cell_type": "markdown",
   "id": "7922e599",
   "metadata": {},
   "source": [
    "---"
   ]
  },
  {
   "cell_type": "markdown",
   "id": "aafce881",
   "metadata": {},
   "source": [
    "## <span style=\"color:#ff5f27;\">⬆️ Uploading new data to the Feature Store</span>"
   ]
  },
  {
   "cell_type": "code",
   "execution_count": null,
   "id": "e38c3ea7",
   "metadata": {},
   "outputs": [],
   "source": [
    "air_quality_fg.insert(df_air_quality, write_options={\"wait_for_job\": False})"
   ]
  },
  {
   "cell_type": "code",
   "execution_count": null,
   "id": "061f2ed7",
   "metadata": {},
   "outputs": [],
   "source": [
    "weather_fg.insert(df_weather, write_options={\"wait_for_job\": True})"
   ]
  },
  {
   "cell_type": "markdown",
   "id": "f71f1533",
   "metadata": {},
   "source": [
    "---"
   ]
  }
 ],
 "metadata": {
  "kernelspec": {
   "display_name": "Python",
   "language": "python",
   "name": "python3"
  },
  "language_info": {
   "codemirror_mode": {
    "name": "ipython",
    "version": 3
   },
   "file_extension": ".py",
   "mimetype": "text/x-python",
   "name": "python",
   "nbconvert_exporter": "python",
   "pygments_lexer": "ipython3",
   "version": "3.8.11"
  },
  "vscode": {
   "interpreter": {
    "hash": "190ea7959a836f4799545ea0f3718ade3abee093b15861ffdc25233d6ab7050e"
   }
  }
 },
 "nbformat": 4,
 "nbformat_minor": 5
}