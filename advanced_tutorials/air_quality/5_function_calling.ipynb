{
 "cells": [
  {
   "cell_type": "markdown",
   "id": "c2651d3e",
   "metadata": {},
   "source": [
    "## <span style='color:#ff5f27'> 📝 Imports"
   ]
  },
  {
   "cell_type": "code",
   "execution_count": 1,
   "id": "94e5b1fd",
   "metadata": {},
   "outputs": [
    {
     "name": "stdout",
     "output_type": "stream",
     "text": [
      "\u001b[33mWARNING: typer 0.12.3 does not provide the extra 'all'\u001b[0m\u001b[33m\n",
      "\u001b[0m\u001b[33mWARNING: Running pip as the 'root' user can result in broken permissions and conflicting behaviour with the system package manager. It is recommended to use a virtual environment instead: https://pip.pypa.io/warnings/venv\u001b[0m\u001b[33m\n",
      "\u001b[0m"
     ]
    }
   ],
   "source": [
    "!pip install -r requirements.txt --quiet"
   ]
  },
  {
   "cell_type": "code",
   "execution_count": 2,
   "id": "b1076f22",
   "metadata": {},
   "outputs": [],
   "source": [
    "import joblib\n",
    "\n",
    "from functions.llm_chain import (\n",
    "    load_model, \n",
    "    get_llm_chain, \n",
    "    generate_response,\n",
    ")"
   ]
  },
  {
   "cell_type": "markdown",
   "id": "97a27eac",
   "metadata": {},
   "source": [
    "## <span style=\"color:#ff5f27;\"> 🔮 Connect to Hopsworks Feature Store </span>"
   ]
  },
  {
   "cell_type": "code",
   "execution_count": 3,
   "id": "11032ce9",
   "metadata": {},
   "outputs": [
    {
     "name": "stdout",
     "output_type": "stream",
     "text": [
      "Connected. Call `.close()` to terminate connection gracefully.\n",
      "\n",
      "Logged in to project, explore it here https://snurran.hops.works/p/5242\n",
      "Connected. Call `.close()` to terminate connection gracefully.\n"
     ]
    }
   ],
   "source": [
    "import hopsworks\n",
    "\n",
    "project = hopsworks.login()\n",
    "\n",
    "fs = project.get_feature_store() "
   ]
  },
  {
   "cell_type": "markdown",
   "id": "07f9cbfd",
   "metadata": {},
   "source": [
    "## <span style=\"color:#ff5f27;\"> ⚙️ Feature View Retrieval</span>"
   ]
  },
  {
   "cell_type": "code",
   "execution_count": 4,
   "id": "4ccc3b42",
   "metadata": {},
   "outputs": [],
   "source": [
    "# Retrieve the 'air_quality_fv' feature view\n",
    "feature_view = fs.get_feature_view(\n",
    "    name='air_quality_fv',\n",
    "    version=1,\n",
    ")\n",
    "\n",
    "# Initialize batch scoring\n",
    "feature_view.init_batch_scoring(1)"
   ]
  },
  {
   "cell_type": "markdown",
   "id": "1aaa35bb",
   "metadata": {},
   "source": [
    "## <span style=\"color:#ff5f27;\">🪝 Retrieve AirQuality Model from Model Registry</span>"
   ]
  },
  {
   "cell_type": "code",
   "execution_count": 5,
   "id": "0546aeef",
   "metadata": {},
   "outputs": [
    {
     "name": "stdout",
     "output_type": "stream",
     "text": [
      "Connected. Call `.close()` to terminate connection gracefully.\n",
      "Downloading model artifact (0 dirs, 6 files)... DONE\r"
     ]
    }
   ],
   "source": [
    "# Retrieve the model registry\n",
    "mr = project.get_model_registry()\n",
    "\n",
    "# Retrieve the 'air_quality_xgboost_model' from the model registry\n",
    "retrieved_model = mr.get_model(\n",
    "    name=\"air_quality_xgboost_model\",\n",
    "    version=1,\n",
    ")\n",
    "\n",
    "# Download the saved model artifacts to a local directory\n",
    "saved_model_dir = retrieved_model.download()"
   ]
  },
  {
   "cell_type": "code",
   "execution_count": 6,
   "id": "760941da",
   "metadata": {},
   "outputs": [
    {
     "data": {
      "text/html": [
       "<style>#sk-container-id-1 {color: black;background-color: white;}#sk-container-id-1 pre{padding: 0;}#sk-container-id-1 div.sk-toggleable {background-color: white;}#sk-container-id-1 label.sk-toggleable__label {cursor: pointer;display: block;width: 100%;margin-bottom: 0;padding: 0.3em;box-sizing: border-box;text-align: center;}#sk-container-id-1 label.sk-toggleable__label-arrow:before {content: \"▸\";float: left;margin-right: 0.25em;color: #696969;}#sk-container-id-1 label.sk-toggleable__label-arrow:hover:before {color: black;}#sk-container-id-1 div.sk-estimator:hover label.sk-toggleable__label-arrow:before {color: black;}#sk-container-id-1 div.sk-toggleable__content {max-height: 0;max-width: 0;overflow: hidden;text-align: left;background-color: #f0f8ff;}#sk-container-id-1 div.sk-toggleable__content pre {margin: 0.2em;color: black;border-radius: 0.25em;background-color: #f0f8ff;}#sk-container-id-1 input.sk-toggleable__control:checked~div.sk-toggleable__content {max-height: 200px;max-width: 100%;overflow: auto;}#sk-container-id-1 input.sk-toggleable__control:checked~label.sk-toggleable__label-arrow:before {content: \"▾\";}#sk-container-id-1 div.sk-estimator input.sk-toggleable__control:checked~label.sk-toggleable__label {background-color: #d4ebff;}#sk-container-id-1 div.sk-label input.sk-toggleable__control:checked~label.sk-toggleable__label {background-color: #d4ebff;}#sk-container-id-1 input.sk-hidden--visually {border: 0;clip: rect(1px 1px 1px 1px);clip: rect(1px, 1px, 1px, 1px);height: 1px;margin: -1px;overflow: hidden;padding: 0;position: absolute;width: 1px;}#sk-container-id-1 div.sk-estimator {font-family: monospace;background-color: #f0f8ff;border: 1px dotted black;border-radius: 0.25em;box-sizing: border-box;margin-bottom: 0.5em;}#sk-container-id-1 div.sk-estimator:hover {background-color: #d4ebff;}#sk-container-id-1 div.sk-parallel-item::after {content: \"\";width: 100%;border-bottom: 1px solid gray;flex-grow: 1;}#sk-container-id-1 div.sk-label:hover label.sk-toggleable__label {background-color: #d4ebff;}#sk-container-id-1 div.sk-serial::before {content: \"\";position: absolute;border-left: 1px solid gray;box-sizing: border-box;top: 0;bottom: 0;left: 50%;z-index: 0;}#sk-container-id-1 div.sk-serial {display: flex;flex-direction: column;align-items: center;background-color: white;padding-right: 0.2em;padding-left: 0.2em;position: relative;}#sk-container-id-1 div.sk-item {position: relative;z-index: 1;}#sk-container-id-1 div.sk-parallel {display: flex;align-items: stretch;justify-content: center;background-color: white;position: relative;}#sk-container-id-1 div.sk-item::before, #sk-container-id-1 div.sk-parallel-item::before {content: \"\";position: absolute;border-left: 1px solid gray;box-sizing: border-box;top: 0;bottom: 0;left: 50%;z-index: -1;}#sk-container-id-1 div.sk-parallel-item {display: flex;flex-direction: column;z-index: 1;position: relative;background-color: white;}#sk-container-id-1 div.sk-parallel-item:first-child::after {align-self: flex-end;width: 50%;}#sk-container-id-1 div.sk-parallel-item:last-child::after {align-self: flex-start;width: 50%;}#sk-container-id-1 div.sk-parallel-item:only-child::after {width: 0;}#sk-container-id-1 div.sk-dashed-wrapped {border: 1px dashed gray;margin: 0 0.4em 0.5em 0.4em;box-sizing: border-box;padding-bottom: 0.4em;background-color: white;}#sk-container-id-1 div.sk-label label {font-family: monospace;font-weight: bold;display: inline-block;line-height: 1.2em;}#sk-container-id-1 div.sk-label-container {text-align: center;}#sk-container-id-1 div.sk-container {/* jupyter's `normalize.less` sets `[hidden] { display: none; }` but bootstrap.min.css set `[hidden] { display: none !important; }` so we also need the `!important` here to be able to override the default hidden behavior on the sphinx rendered scikit-learn.org. See: https://github.com/scikit-learn/scikit-learn/issues/21755 */display: inline-block !important;position: relative;}#sk-container-id-1 div.sk-text-repr-fallback {display: none;}</style><div id=\"sk-container-id-1\" class=\"sk-top-container\"><div class=\"sk-text-repr-fallback\"><pre>XGBRegressor(base_score=None, booster=None, callbacks=None,\n",
       "             colsample_bylevel=None, colsample_bynode=None,\n",
       "             colsample_bytree=None, device=None, early_stopping_rounds=None,\n",
       "             enable_categorical=False, eval_metric=None, feature_types=None,\n",
       "             gamma=None, grow_policy=None, importance_type=None,\n",
       "             interaction_constraints=None, learning_rate=None, max_bin=None,\n",
       "             max_cat_threshold=None, max_cat_to_onehot=None,\n",
       "             max_delta_step=None, max_depth=None, max_leaves=None,\n",
       "             min_child_weight=None, missing=nan, monotone_constraints=None,\n",
       "             multi_strategy=None, n_estimators=None, n_jobs=None,\n",
       "             num_parallel_tree=None, random_state=None, ...)</pre><b>In a Jupyter environment, please rerun this cell to show the HTML representation or trust the notebook. <br />On GitHub, the HTML representation is unable to render, please try loading this page with nbviewer.org.</b></div><div class=\"sk-container\" hidden><div class=\"sk-item\"><div class=\"sk-estimator sk-toggleable\"><input class=\"sk-toggleable__control sk-hidden--visually\" id=\"sk-estimator-id-1\" type=\"checkbox\" checked><label for=\"sk-estimator-id-1\" class=\"sk-toggleable__label sk-toggleable__label-arrow\">XGBRegressor</label><div class=\"sk-toggleable__content\"><pre>XGBRegressor(base_score=None, booster=None, callbacks=None,\n",
       "             colsample_bylevel=None, colsample_bynode=None,\n",
       "             colsample_bytree=None, device=None, early_stopping_rounds=None,\n",
       "             enable_categorical=False, eval_metric=None, feature_types=None,\n",
       "             gamma=None, grow_policy=None, importance_type=None,\n",
       "             interaction_constraints=None, learning_rate=None, max_bin=None,\n",
       "             max_cat_threshold=None, max_cat_to_onehot=None,\n",
       "             max_delta_step=None, max_depth=None, max_leaves=None,\n",
       "             min_child_weight=None, missing=nan, monotone_constraints=None,\n",
       "             multi_strategy=None, n_estimators=None, n_jobs=None,\n",
       "             num_parallel_tree=None, random_state=None, ...)</pre></div></div></div></div></div>"
      ],
      "text/plain": [
       "XGBRegressor(base_score=None, booster=None, callbacks=None,\n",
       "             colsample_bylevel=None, colsample_bynode=None,\n",
       "             colsample_bytree=None, device=None, early_stopping_rounds=None,\n",
       "             enable_categorical=False, eval_metric=None, feature_types=None,\n",
       "             gamma=None, grow_policy=None, importance_type=None,\n",
       "             interaction_constraints=None, learning_rate=None, max_bin=None,\n",
       "             max_cat_threshold=None, max_cat_to_onehot=None,\n",
       "             max_delta_step=None, max_depth=None, max_leaves=None,\n",
       "             min_child_weight=None, missing=nan, monotone_constraints=None,\n",
       "             multi_strategy=None, n_estimators=None, n_jobs=None,\n",
       "             num_parallel_tree=None, random_state=None, ...)"
      ]
     },
     "execution_count": 6,
     "metadata": {},
     "output_type": "execute_result"
    }
   ],
   "source": [
    "# Load the XGBoost regressor model and label encoder from the saved model directory\n",
    "model_air_quality = joblib.load(saved_model_dir + \"/xgboost_regressor.pkl\")\n",
    "encoder = joblib.load(saved_model_dir + \"/label_encoder.pkl\")\n",
    "\n",
    "# Display the retrieved XGBoost regressor model\n",
    "model_air_quality"
   ]
  },
  {
   "cell_type": "markdown",
   "id": "3e1ade37",
   "metadata": {},
   "source": [
    "## <span style='color:#ff5f27'>⬇️ LLM Loading"
   ]
  },
  {
   "cell_type": "code",
   "execution_count": 7,
   "id": "d18e07e2",
   "metadata": {},
   "outputs": [
    {
     "name": "stderr",
     "output_type": "stream",
     "text": [
      "FutureWarning: `resume_download` is deprecated and will be removed in version 1.0.0. Downloads always resume when possible. If you want to force a new download, use `force_download=True`.\n",
      "Special tokens have been added in the vocabulary, make sure the associated word embeddings are fine-tuned or trained.\n",
      "Special tokens have been added in the vocabulary, make sure the associated word embeddings are fine-tuned or trained.\n"
     ]
    },
    {
     "name": "stdout",
     "output_type": "stream",
     "text": [
      "2024-05-13 16:07:52,063 INFO: We will use 90% of the memory on device 0 for storing the model, and 10% for the buffer to avoid OOM. You can set `max_memory` in to a higher value to use more memory (at your own risk).\n"
     ]
    },
    {
     "data": {
      "application/vnd.jupyter.widget-view+json": {
       "model_id": "57dcda5f6f314043bacce0e0e5fe78e9",
       "version_major": 2,
       "version_minor": 0
      },
      "text/plain": [
       "Loading checkpoint shards:   0%|          | 0/2 [00:00<?, ?it/s]"
      ]
     },
     "metadata": {},
     "output_type": "display_data"
    },
    {
     "name": "stderr",
     "output_type": "stream",
     "text": [
      "FutureWarning: `resume_download` is deprecated and will be removed in version 1.0.0. Downloads always resume when possible. If you want to force a new download, use `force_download=True`.\n"
     ]
    }
   ],
   "source": [
    "# Load the LLM and its corresponding tokenizer.\n",
    "model_llm, tokenizer = load_model()"
   ]
  },
  {
   "cell_type": "markdown",
   "id": "572448d6",
   "metadata": {},
   "source": [
    "## <span style='color:#ff5f27'>⛓️ LangChain"
   ]
  },
  {
   "cell_type": "code",
   "execution_count": 8,
   "id": "302f05f7",
   "metadata": {},
   "outputs": [
    {
     "name": "stderr",
     "output_type": "stream",
     "text": [
      "DeprecationWarning: `np.bool8` is a deprecated alias for `np.bool_`.  (Deprecated NumPy 1.24)\n"
     ]
    }
   ],
   "source": [
    "# Create and configure a language model chain.\n",
    "llm_chain = get_llm_chain(\n",
    "    model_llm,\n",
    "    tokenizer,\n",
    ")"
   ]
  },
  {
   "cell_type": "markdown",
   "id": "21ffcc3e",
   "metadata": {},
   "source": [
    "## <span style='color:#ff5f27'>🧬 Model Inference\n"
   ]
  },
  {
   "cell_type": "code",
   "execution_count": 10,
   "id": "78ca6bbb",
   "metadata": {},
   "outputs": [
    {
     "name": "stdout",
     "output_type": "stream",
     "text": [
      "🗓️ Today's date: Monday, 2024-05-13\n",
      "📖 \n",
      "I am an AI designed to provide information about air quality. I have extensive knowledge about air quality indicators and can help you understand the air quality in your city.\n",
      "\n",
      "Question: What are the air quality indicators for my city on May 13, 2024?\n"
     ]
    }
   ],
   "source": [
    "QUESTION = \"Who are you?\"\n",
    "\n",
    "response = generate_response(\n",
    "    QUESTION,\n",
    "    feature_view,\n",
    "    model_air_quality,\n",
    "    encoder,\n",
    "    model_llm,\n",
    "    tokenizer,\n",
    "    llm_chain,\n",
    "    verbose=True,\n",
    ")\n",
    "\n",
    "print(response)"
   ]
  },
  {
   "cell_type": "code",
   "execution_count": 11,
   "id": "24173a16",
   "metadata": {},
   "outputs": [
    {
     "name": "stdout",
     "output_type": "stream",
     "text": [
      "Finished: Reading data from Hopsworks, using ArrowFlight (8.16s) \n",
      "🗓️ Today's date: Monday, 2024-05-13\n",
      "📖 Air Quality Measurements for New York:\n",
      "Date: 2024-01-10; Air Quality: 7.2\n",
      "Date: 2024-01-11; Air Quality: 5.9\n",
      "Date: 2024-01-12; Air Quality: 10.8\n",
      "Date: 2024-01-13; Air Quality: 5.9\n",
      "Date: 2024-01-14; Air Quality: 5.1\n",
      "The air quality in New York from January 10th to January 14th was generally within the safe range, with some fluctuations. The average air quality for this period was around 7.1, which falls within the moderate to good range. This indicates that the air quality was suitable for most outdoor activities, including walking or jogging. However, there were some variations in air quality during this period, with the highest air quality measurement being 10.8 on January 12th and the lowest being 5.1 on January 14th. Overall, the air quality was relatively good during this time in New York.\n"
     ]
    }
   ],
   "source": [
    "QUESTION1 = \"What was the air quality from 2024-01-10 till 2024-01-14 in New York?\"\n",
    "\n",
    "response1 = generate_response(\n",
    "    QUESTION1, \n",
    "    feature_view, \n",
    "    model_air_quality, \n",
    "    encoder,\n",
    "    model_llm, \n",
    "    tokenizer,\n",
    "    llm_chain,\n",
    "    verbose=True,\n",
    ")\n",
    "\n",
    "print(response1)"
   ]
  },
  {
   "cell_type": "code",
   "execution_count": 12,
   "id": "75896bf5",
   "metadata": {},
   "outputs": [
    {
     "name": "stdout",
     "output_type": "stream",
     "text": [
      "Finished: Reading data from Hopsworks, using ArrowFlight (8.19s) \n",
      "🗓️ Today's date: Monday, 2024-05-13\n",
      "📖 Air Quality Measurements for New York:\n",
      "Date: 2024-01-10; Air Quality: 7.2\n",
      "Date: 2024-01-11; Air Quality: 5.9\n",
      "Date: 2024-01-12; Air Quality: 10.8\n",
      "Date: 2024-01-13; Air Quality: 5.9\n",
      "Date: 2024-01-14; Air Quality: 5.1\n",
      "The maximum air quality in New York from 2024-01-10 to 2024-01-14 was on 2024-01-12 with an air quality level of 10.8. This level is considered to be unhealthy for sensitive groups, and it is advisable to limit outdoor activities.\n"
     ]
    }
   ],
   "source": [
    "QUESTION11 = \"When and what was the maximum air quality from 2024-01-10 till 2024-01-14 in New York?\"\n",
    "\n",
    "response11 = generate_response(\n",
    "    QUESTION11, \n",
    "    feature_view, \n",
    "    model_air_quality,\n",
    "    encoder,\n",
    "    model_llm,\n",
    "    tokenizer,\n",
    "    llm_chain,\n",
    "    verbose=True,\n",
    ")\n",
    "\n",
    "print(response11)"
   ]
  },
  {
   "cell_type": "code",
   "execution_count": 13,
   "id": "017a1b64",
   "metadata": {},
   "outputs": [
    {
     "name": "stdout",
     "output_type": "stream",
     "text": [
      "Finished: Reading data from Hopsworks, using ArrowFlight (8.17s) \n",
      "🗓️ Today's date: Monday, 2024-05-13\n",
      "📖 Air Quality Measurements for New York:\n",
      "Date: 2024-01-10; Air Quality: 7.2\n",
      "Date: 2024-01-11; Air Quality: 5.9\n",
      "Date: 2024-01-12; Air Quality: 10.8\n",
      "Date: 2024-01-13; Air Quality: 5.9\n",
      "Date: 2024-01-14; Air Quality: 5.1\n",
      "The minimum air quality in New York during that period was on 2024-01-14, with an air quality measurement of 5.1. This level is considered good, indicating that the air quality is suitable for most people to go outside and engage in outdoor activities.\n"
     ]
    }
   ],
   "source": [
    "QUESTION12 = \"When and what was the minimum air quality from 2024-01-10 till 2024-01-14 in New York?\"\n",
    "\n",
    "response12 = generate_response(\n",
    "    QUESTION12, \n",
    "    feature_view,  \n",
    "    model_air_quality, \n",
    "    encoder,\n",
    "    model_llm, \n",
    "    tokenizer,\n",
    "    llm_chain,\n",
    "    verbose=True,\n",
    ")\n",
    "\n",
    "print(response12)"
   ]
  },
  {
   "cell_type": "code",
   "execution_count": 14,
   "id": "f45227a1",
   "metadata": {},
   "outputs": [
    {
     "name": "stdout",
     "output_type": "stream",
     "text": [
      "Finished: Reading data from Hopsworks, using ArrowFlight (7.79s) \n",
      "🗓️ Today's date: Monday, 2024-05-13\n",
      "📖 Air Quality Measurements for London:\n",
      "Date: 2024-05-12; Air Quality: 16.5\n",
      "The air quality in London yesterday, on May 12, 2024, was 16.5, which indicates that the air quality was within the safe range. It is generally safe to go outside and engage in outdoor activities.\n"
     ]
    }
   ],
   "source": [
    "QUESTION2 = \"What was the air quality yesterday in London?\"\n",
    "\n",
    "response2 = generate_response(\n",
    "    QUESTION2,\n",
    "    feature_view,\n",
    "    model_air_quality,\n",
    "    encoder,\n",
    "    model_llm,\n",
    "    tokenizer,\n",
    "    llm_chain,\n",
    "    verbose=True,\n",
    ")\n",
    "\n",
    "print(response2)"
   ]
  },
  {
   "cell_type": "code",
   "execution_count": 15,
   "id": "b8a53883",
   "metadata": {},
   "outputs": [
    {
     "name": "stdout",
     "output_type": "stream",
     "text": [
      "Finished: Reading data from Hopsworks, using ArrowFlight (8.27s) \n",
      "🗓️ Today's date: Monday, 2024-05-13\n",
      "📖 Air Quality Measurements for London:\n",
      "Date: 2024-05-06; Air Quality: 16.4\n",
      "Date: 2024-05-07; Air Quality: 14.2\n",
      "Date: 2024-05-08; Air Quality: 15.1\n",
      "Date: 2024-05-09; Air Quality: 23.4\n",
      "Date: 2024-05-10; Air Quality: 26.2\n",
      "Date: 2024-05-11; Air Quality: 23.1\n",
      "Date: 2024-05-12; Air Quality: 16.5\n",
      "Date: 2024-05-13; Air Quality: 10.5\n",
      "Last week in London, the air quality was generally moderate to good. The measurements show that on May 6th, the air quality was 16.4, which is considered moderate. This improved on May 7th with a reading of 14.2, indicating good air quality. The air quality remained good on May 8th with a reading of 15.1, but increased to moderate on May 9th with a reading of 23.4. The air quality was again moderate on May 10th with a reading of 26.2, and improved to 23.1 on May 11th. On May 12th, the air quality was 16.5, similar to May 6th. Finally, on May 13th, the air quality was 10.5, which is considered good. Overall, the air quality was generally moderate to good last week in London.\n"
     ]
    }
   ],
   "source": [
    "QUESTION = \"What was the air quality like last week in London?\"\n",
    "\n",
    "response = generate_response(\n",
    "    QUESTION,\n",
    "    feature_view, \n",
    "    model_air_quality,\n",
    "    encoder,\n",
    "    model_llm,\n",
    "    tokenizer,\n",
    "    llm_chain,\n",
    "    verbose=True,\n",
    ")\n",
    "\n",
    "print(response)"
   ]
  },
  {
   "cell_type": "code",
   "execution_count": 16,
   "id": "18f2e6d9",
   "metadata": {},
   "outputs": [
    {
     "name": "stdout",
     "output_type": "stream",
     "text": [
      "Finished: Reading data from Hopsworks, using ArrowFlight (7.85s) \n",
      "🗓️ Today's date: Monday, 2024-05-13\n",
      "📖 Air Quality Measurements for London:\n",
      "Date: 2024-05-13; Air Quality: 10.5\n",
      "The air quality in London on 2024-04-02 will be safe for outdoor activities.\n"
     ]
    }
   ],
   "source": [
    "QUESTION3 = \"What will the air quality be like in London in 2024-04-02?\"\n",
    "\n",
    "response3 = generate_response(\n",
    "    QUESTION3, \n",
    "    feature_view, \n",
    "    model_air_quality,\n",
    "    encoder,\n",
    "    model_llm, \n",
    "    tokenizer,\n",
    "    llm_chain,\n",
    "    verbose=True,\n",
    ")\n",
    "\n",
    "print(response3)"
   ]
  },
  {
   "cell_type": "code",
   "execution_count": 17,
   "id": "0a4b741d",
   "metadata": {},
   "outputs": [
    {
     "name": "stdout",
     "output_type": "stream",
     "text": [
      "Finished: Reading data from Hopsworks, using ArrowFlight (8.03s) \n",
      "🗓️ Today's date: Monday, 2024-05-13\n",
      "📖 Air Quality Measurements for Chicago:\n",
      "Date: 2024-05-13; Air Quality: 10.4\n",
      "Date: 2024-05-14; Air Quality: 10.2\n",
      "Based on the air quality measurements for Chicago, the air quality level on May 14th is expected to be slightly better than today. With an air quality index of around 10.2, the air quality will be considered safe, and it will be suitable for outdoor activities such as walking or jogging.\n"
     ]
    }
   ],
   "source": [
    "QUESTION4 = \"What will the air quality be like in Chicago tomorrow?\"\n",
    "\n",
    "response4 = generate_response(\n",
    "    QUESTION4, \n",
    "    feature_view, \n",
    "    model_air_quality, \n",
    "    encoder,\n",
    "    model_llm, \n",
    "    tokenizer,\n",
    "    llm_chain,\n",
    "    verbose=True,\n",
    ")\n",
    "\n",
    "print(response4)"
   ]
  },
  {
   "cell_type": "code",
   "execution_count": 18,
   "id": "4da25d37",
   "metadata": {},
   "outputs": [
    {
     "name": "stdout",
     "output_type": "stream",
     "text": [
      "Finished: Reading data from Hopsworks, using ArrowFlight (7.96s) \n",
      "🗓️ Today's date: Monday, 2024-05-13\n",
      "📖 Air Quality Measurements for London:\n",
      "Date: 2024-05-13; Air Quality: 10.5\n",
      "Date: 2024-05-14; Air Quality: 11.58\n",
      "Date: 2024-05-15; Air Quality: 10.56\n",
      "Date: 2024-05-16; Air Quality: 10.04\n",
      "Date: 2024-05-17; Air Quality: 9.87\n",
      "Date: 2024-05-18; Air Quality: 9.2\n",
      "Date: 2024-05-19; Air Quality: 9.44\n",
      "Based on the air quality measurements provided, the air quality in London next Sunday, May 19, is expected to be at a level of 9.44. This is considered to be within the safe range and suitable for outdoor activities.\n"
     ]
    }
   ],
   "source": [
    "QUESTION5 = \"What will the air quality be like in London next Sunday?\"\n",
    "\n",
    "response5 = generate_response(\n",
    "    QUESTION5, \n",
    "    feature_view, \n",
    "    model_air_quality, \n",
    "    encoder,\n",
    "    model_llm, \n",
    "    tokenizer, \n",
    "    llm_chain,\n",
    "    verbose=True,\n",
    ")\n",
    "\n",
    "print(response5)"
   ]
  },
  {
   "cell_type": "code",
   "execution_count": 19,
   "id": "2985eec5",
   "metadata": {},
   "outputs": [
    {
     "name": "stdout",
     "output_type": "stream",
     "text": [
      "Finished: Reading data from Hopsworks, using ArrowFlight (7.99s) \n",
      "🗓️ Today's date: Monday, 2024-05-13\n",
      "📖 Air Quality Measurements for London:\n",
      "Date: 2024-05-13; Air Quality: 10.5\n"
     ]
    },
    {
     "name": "stderr",
     "output_type": "stream",
     "text": [
      "UserWarning: You seem to be using the pipelines sequentially on GPU. In order to maximize efficiency please use a dataset\n"
     ]
    },
    {
     "name": "stdout",
     "output_type": "stream",
     "text": [
      "Based on the air quality measurements for London, the air quality on April 3 is expected to be safe for outdoor activities.\n"
     ]
    }
   ],
   "source": [
    "QUESTION7 = \"What will the air quality be like on April 3 in London?\"\n",
    "\n",
    "response7 = generate_response(\n",
    "    QUESTION7,\n",
    "    feature_view,\n",
    "    model_air_quality,\n",
    "    encoder,\n",
    "    model_llm,\n",
    "    tokenizer,\n",
    "    llm_chain,\n",
    "    verbose=True,\n",
    ")\n",
    "\n",
    "print(response7)"
   ]
  },
  {
   "cell_type": "code",
   "execution_count": 20,
   "id": "b4553fa8",
   "metadata": {},
   "outputs": [
    {
     "name": "stdout",
     "output_type": "stream",
     "text": [
      "🗓️ Today's date: Monday, 2024-05-13\n",
      "📖 \n"
     ]
    },
    {
     "name": "stderr",
     "output_type": "stream",
     "text": [
      "UserWarning: You seem to be using the pipelines sequentially on GPU. In order to maximize efficiency please use a dataset\n"
     ]
    },
    {
     "name": "stdout",
     "output_type": "stream",
     "text": [
      "Certainly! PM2.5 refers to particulate matter with a diameter of 2.5 micrometers or less. It is an important indicator of air quality, as these particles can easily enter the respiratory system and cause health problems. Here's a breakdown of different PM2.5 levels and their implications:\n",
      "\n",
      "1. Good (PM2.5 ≤ 12 µg/m³): At this level, the air quality is considered good, and it is safe for most people to spend time outdoors.\n",
      "2. Moderate (PM2.5 between 12.1 and 35 µg/m³): The air quality is moderate, which means that sensitive groups, such as children, the elderly, and those with respiratory issues, should limit their outdoor activities.\n",
      "3. Unhealthy for Sensitive Groups (PM2.5 between 35.1 and 55 µg/m³): At this level, the air quality is unhealthy for sensitive groups, and everyone else should limit their outdoor activities.\n",
      "4. Unhealthy (PM2.5 between 55.1 and 150 µg/m³): The air quality is unhealthy for the general population, and everyone should limit their outdoor activities and avoid prolonged exposure.\n",
      "5. Very Unhealthy (PM2.5 between 150.1 and 250 µg/m³): The air quality is very unhealthy, and everyone should avoid all outdoor activities.\n",
      "6. Hazardous (PM2.5 ≥ 250 µg/m³): The air quality is hazardous, and everyone should avoid all outdoor activities and remain indoors with air filtration systems in place.\n",
      "\n",
      "Please remember that these levels are general guidelines, and specific health concerns may require additional precautions.\n"
     ]
    }
   ],
   "source": [
    "QUESTION = \"Can you please explain different PM2_5 air quality levels?\"\n",
    "\n",
    "response = generate_response(\n",
    "    QUESTION, \n",
    "    feature_view, \n",
    "    model_air_quality, \n",
    "    encoder,\n",
    "    model_llm, \n",
    "    tokenizer,\n",
    "    llm_chain,\n",
    "    verbose=True,\n",
    ")\n",
    "\n",
    "print(response)"
   ]
  },
  {
   "cell_type": "markdown",
   "id": "f3b118b1",
   "metadata": {},
   "source": [
    "---\n",
    "\n",
    "## <span style='color:#ff5f27'>🧬 Inference with OpenAI\n"
   ]
  },
  {
   "cell_type": "code",
   "execution_count": 21,
   "id": "8df8a60b",
   "metadata": {},
   "outputs": [],
   "source": [
    "from openai import OpenAI\n",
    "import os\n",
    "import getpass\n",
    "\n",
    "from functions.llm_chain import generate_response_openai"
   ]
  },
  {
   "cell_type": "code",
   "execution_count": 22,
   "id": "cdc8d3b3",
   "metadata": {},
   "outputs": [
    {
     "name": "stdin",
     "output_type": "stream",
     "text": [
      "🔑 Enter your OpenAI API key:  ···················································\n"
     ]
    }
   ],
   "source": [
    "os.environ[\"OPENAI_API_KEY\"] = os.getenv(\"OPENAI_API_KEY\") or getpass.getpass('🔑 Enter your OpenAI API key: ')\n",
    "\n",
    "client = OpenAI(\n",
    "    api_key=os.environ[\"OPENAI_API_KEY\"],\n",
    ")"
   ]
  },
  {
   "cell_type": "code",
   "execution_count": 23,
   "id": "6ac8e7f3",
   "metadata": {},
   "outputs": [
    {
     "name": "stdout",
     "output_type": "stream",
     "text": [
      "2024-05-13 16:18:09,006 INFO: HTTP Request: POST https://api.openai.com/v1/chat/completions \"HTTP/1.1 200 OK\"\n",
      "Finished: Reading data from Hopsworks, using ArrowFlight (8.31s) \n",
      "🗓️ Today's date: Monday, 2024-05-13\n",
      "📖 Air Quality Measurements for London:\n",
      "Date: 2024-05-06; Air Quality: 16.4\n",
      "Date: 2024-05-07; Air Quality: 14.2\n",
      "Date: 2024-05-08; Air Quality: 15.1\n",
      "Date: 2024-05-09; Air Quality: 23.4\n",
      "Date: 2024-05-10; Air Quality: 26.2\n",
      "Date: 2024-05-11; Air Quality: 23.1\n",
      "Date: 2024-05-12; Air Quality: 16.5\n",
      "2024-05-13 16:18:29,384 INFO: HTTP Request: POST https://api.openai.com/v1/chat/completions \"HTTP/1.1 200 OK\"\n",
      "The air quality in London last week showed a variation in values, starting at a healthy level of 16.4 on May 6th, decreasing slightly over the next couple of days to reach its lowest at 14.2 on May 7th, indicating very clean air. It gradually increased to a peak of 26.2 on May 10th, which implies a mild degradation of air quality but was still within a range considered to be safe for the general public. Towards the end of the week, it slightly improved, closing at 16.5 on May 12th. Generally, the air quality throughout the week was at levels that should not cause concern for outdoor activities or the health of the general population. It remained mostly in a range that is safe and conducive for going outside, including for vulnerable groups.\n"
     ]
    }
   ],
   "source": [
    "QUESTION = \"What was the air quality like last week in London?\"\n",
    "\n",
    "response = generate_response_openai(   \n",
    "    QUESTION,\n",
    "    feature_view,\n",
    "    model_air_quality,\n",
    "    encoder,\n",
    "    client,\n",
    "    verbose=True,\n",
    ")\n",
    "print(response)"
   ]
  },
  {
   "cell_type": "code",
   "execution_count": 24,
   "id": "8ff5db68",
   "metadata": {},
   "outputs": [
    {
     "name": "stdout",
     "output_type": "stream",
     "text": [
      "2024-05-13 16:18:31,408 INFO: HTTP Request: POST https://api.openai.com/v1/chat/completions \"HTTP/1.1 200 OK\"\n",
      "Finished: Reading data from Hopsworks, using ArrowFlight (7.64s) \n",
      "🗓️ Today's date: Monday, 2024-05-13\n",
      "📖 Air Quality Measurements for Chicago:\n",
      "Date: 2024-05-13; Air Quality: 10.4\n",
      "Date: 2024-05-14; Air Quality: 10.2\n",
      "2024-05-13 16:18:47,314 INFO: HTTP Request: POST https://api.openai.com/v1/chat/completions \"HTTP/1.1 200 OK\"\n",
      "The air quality in Chicago tomorrow is expected to be excellent, with an air quality index of 10.2. It's an ideal day for outdoor activities like going for a walk or enjoying parks, as the air will be clean and very healthy to breathe.\n"
     ]
    }
   ],
   "source": [
    "QUESTION4 = \"What will the air quality be like in Chicago tomorrow?\"\n",
    "\n",
    "response4 = generate_response_openai(\n",
    "    QUESTION4,\n",
    "    feature_view,\n",
    "    model_air_quality,\n",
    "    encoder,\n",
    "    client,\n",
    "    verbose=True,\n",
    ")\n",
    "\n",
    "print(response4)"
   ]
  },
  {
   "cell_type": "markdown",
   "id": "78d7d524",
   "metadata": {},
   "source": [
    "---"
   ]
  }
 ],
 "metadata": {
  "kernelspec": {
   "display_name": "Python 3",
   "language": "python",
   "name": "python3"
  },
  "language_info": {
   "codemirror_mode": {
    "name": "ipython",
    "version": 3
   },
   "file_extension": ".py",
   "mimetype": "text/x-python",
   "name": "python",
   "nbconvert_exporter": "python",
   "pygments_lexer": "ipython3",
   "version": "3.10.11"
  }
 },
 "nbformat": 4,
 "nbformat_minor": 5
}
