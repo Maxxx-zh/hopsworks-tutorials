{
 "cells": [
  {
   "cell_type": "markdown",
   "id": "98404102",
   "metadata": {},
   "source": [
    "## <span style='color:#ff5f27'> 📝 Imports"
   ]
  },
  {
   "cell_type": "code",
   "execution_count": 1,
   "id": "4f454d56",
   "metadata": {},
   "outputs": [],
   "source": [
    "# !pip install -r requirements.txt --quiet"
   ]
  },
  {
   "cell_type": "code",
   "execution_count": 2,
   "id": "61ae8738",
   "metadata": {},
   "outputs": [],
   "source": [
    "import joblib\n",
    "\n",
    "from functions.llm_chain import load_model, get_llm_chain, generate_response"
   ]
  },
  {
   "cell_type": "markdown",
   "id": "026af360",
   "metadata": {},
   "source": [
    "## <span style=\"color:#ff5f27;\"> 🔮 Connect to Hopsworks Feature Store </span>"
   ]
  },
  {
   "cell_type": "code",
   "execution_count": 3,
   "id": "81617c65",
   "metadata": {},
   "outputs": [
    {
     "name": "stdout",
     "output_type": "stream",
     "text": [
      "Connected. Call `.close()` to terminate connection gracefully.\n",
      "\n",
      "Logged in to project, explore it here https://snurran.hops.works/p/5242\n",
      "Connected. Call `.close()` to terminate connection gracefully.\n"
     ]
    }
   ],
   "source": [
    "import hopsworks\n",
    "\n",
    "project = hopsworks.login()\n",
    "\n",
    "fs = project.get_feature_store() "
   ]
  },
  {
   "cell_type": "markdown",
   "id": "e4e693cb",
   "metadata": {},
   "source": [
    "## <span style=\"color:#ff5f27;\"> ⚙️ Feature View Retrieval</span>"
   ]
  },
  {
   "cell_type": "code",
   "execution_count": 4,
   "id": "ccd11e5f",
   "metadata": {},
   "outputs": [],
   "source": [
    "# Retrieve the 'air_quality_fv' feature view\n",
    "feature_view = fs.get_feature_view(\n",
    "    name='air_quality_fv',\n",
    "    version=1,\n",
    ")\n",
    "\n",
    "# Initialize batch scoring\n",
    "feature_view.init_batch_scoring(1)"
   ]
  },
  {
   "cell_type": "markdown",
   "id": "b54628d2",
   "metadata": {},
   "source": [
    "## <span style=\"color:#ff5f27;\">🪝 Retrieve AirQuality Model from Model Registry</span>"
   ]
  },
  {
   "cell_type": "code",
   "execution_count": 5,
   "id": "e67708ea",
   "metadata": {},
   "outputs": [
    {
     "name": "stdout",
     "output_type": "stream",
     "text": [
      "Connected. Call `.close()` to terminate connection gracefully.\n",
      "Downloading model artifact (0 dirs, 6 files)... DONE\r"
     ]
    }
   ],
   "source": [
    "# Retrieve the model registry\n",
    "mr = project.get_model_registry()\n",
    "\n",
    "# Retrieve the 'air_quality_xgboost_model' from the model registry\n",
    "retrieved_model = mr.get_model(\n",
    "    name=\"air_quality_xgboost_model\",\n",
    "    version=1,\n",
    ")\n",
    "\n",
    "# Download the saved model artifacts to a local directory\n",
    "saved_model_dir = retrieved_model.download()"
   ]
  },
  {
   "cell_type": "code",
   "execution_count": 6,
   "id": "5c391589",
   "metadata": {},
   "outputs": [
    {
     "data": {
      "text/html": [
       "<style>#sk-container-id-1 {color: black;background-color: white;}#sk-container-id-1 pre{padding: 0;}#sk-container-id-1 div.sk-toggleable {background-color: white;}#sk-container-id-1 label.sk-toggleable__label {cursor: pointer;display: block;width: 100%;margin-bottom: 0;padding: 0.3em;box-sizing: border-box;text-align: center;}#sk-container-id-1 label.sk-toggleable__label-arrow:before {content: \"▸\";float: left;margin-right: 0.25em;color: #696969;}#sk-container-id-1 label.sk-toggleable__label-arrow:hover:before {color: black;}#sk-container-id-1 div.sk-estimator:hover label.sk-toggleable__label-arrow:before {color: black;}#sk-container-id-1 div.sk-toggleable__content {max-height: 0;max-width: 0;overflow: hidden;text-align: left;background-color: #f0f8ff;}#sk-container-id-1 div.sk-toggleable__content pre {margin: 0.2em;color: black;border-radius: 0.25em;background-color: #f0f8ff;}#sk-container-id-1 input.sk-toggleable__control:checked~div.sk-toggleable__content {max-height: 200px;max-width: 100%;overflow: auto;}#sk-container-id-1 input.sk-toggleable__control:checked~label.sk-toggleable__label-arrow:before {content: \"▾\";}#sk-container-id-1 div.sk-estimator input.sk-toggleable__control:checked~label.sk-toggleable__label {background-color: #d4ebff;}#sk-container-id-1 div.sk-label input.sk-toggleable__control:checked~label.sk-toggleable__label {background-color: #d4ebff;}#sk-container-id-1 input.sk-hidden--visually {border: 0;clip: rect(1px 1px 1px 1px);clip: rect(1px, 1px, 1px, 1px);height: 1px;margin: -1px;overflow: hidden;padding: 0;position: absolute;width: 1px;}#sk-container-id-1 div.sk-estimator {font-family: monospace;background-color: #f0f8ff;border: 1px dotted black;border-radius: 0.25em;box-sizing: border-box;margin-bottom: 0.5em;}#sk-container-id-1 div.sk-estimator:hover {background-color: #d4ebff;}#sk-container-id-1 div.sk-parallel-item::after {content: \"\";width: 100%;border-bottom: 1px solid gray;flex-grow: 1;}#sk-container-id-1 div.sk-label:hover label.sk-toggleable__label {background-color: #d4ebff;}#sk-container-id-1 div.sk-serial::before {content: \"\";position: absolute;border-left: 1px solid gray;box-sizing: border-box;top: 0;bottom: 0;left: 50%;z-index: 0;}#sk-container-id-1 div.sk-serial {display: flex;flex-direction: column;align-items: center;background-color: white;padding-right: 0.2em;padding-left: 0.2em;position: relative;}#sk-container-id-1 div.sk-item {position: relative;z-index: 1;}#sk-container-id-1 div.sk-parallel {display: flex;align-items: stretch;justify-content: center;background-color: white;position: relative;}#sk-container-id-1 div.sk-item::before, #sk-container-id-1 div.sk-parallel-item::before {content: \"\";position: absolute;border-left: 1px solid gray;box-sizing: border-box;top: 0;bottom: 0;left: 50%;z-index: -1;}#sk-container-id-1 div.sk-parallel-item {display: flex;flex-direction: column;z-index: 1;position: relative;background-color: white;}#sk-container-id-1 div.sk-parallel-item:first-child::after {align-self: flex-end;width: 50%;}#sk-container-id-1 div.sk-parallel-item:last-child::after {align-self: flex-start;width: 50%;}#sk-container-id-1 div.sk-parallel-item:only-child::after {width: 0;}#sk-container-id-1 div.sk-dashed-wrapped {border: 1px dashed gray;margin: 0 0.4em 0.5em 0.4em;box-sizing: border-box;padding-bottom: 0.4em;background-color: white;}#sk-container-id-1 div.sk-label label {font-family: monospace;font-weight: bold;display: inline-block;line-height: 1.2em;}#sk-container-id-1 div.sk-label-container {text-align: center;}#sk-container-id-1 div.sk-container {/* jupyter's `normalize.less` sets `[hidden] { display: none; }` but bootstrap.min.css set `[hidden] { display: none !important; }` so we also need the `!important` here to be able to override the default hidden behavior on the sphinx rendered scikit-learn.org. See: https://github.com/scikit-learn/scikit-learn/issues/21755 */display: inline-block !important;position: relative;}#sk-container-id-1 div.sk-text-repr-fallback {display: none;}</style><div id=\"sk-container-id-1\" class=\"sk-top-container\"><div class=\"sk-text-repr-fallback\"><pre>XGBRegressor(base_score=None, booster=None, callbacks=None,\n",
       "             colsample_bylevel=None, colsample_bynode=None,\n",
       "             colsample_bytree=None, device=None, early_stopping_rounds=None,\n",
       "             enable_categorical=False, eval_metric=None, feature_types=None,\n",
       "             gamma=None, grow_policy=None, importance_type=None,\n",
       "             interaction_constraints=None, learning_rate=None, max_bin=None,\n",
       "             max_cat_threshold=None, max_cat_to_onehot=None,\n",
       "             max_delta_step=None, max_depth=None, max_leaves=None,\n",
       "             min_child_weight=None, missing=nan, monotone_constraints=None,\n",
       "             multi_strategy=None, n_estimators=None, n_jobs=None,\n",
       "             num_parallel_tree=None, random_state=None, ...)</pre><b>In a Jupyter environment, please rerun this cell to show the HTML representation or trust the notebook. <br />On GitHub, the HTML representation is unable to render, please try loading this page with nbviewer.org.</b></div><div class=\"sk-container\" hidden><div class=\"sk-item\"><div class=\"sk-estimator sk-toggleable\"><input class=\"sk-toggleable__control sk-hidden--visually\" id=\"sk-estimator-id-1\" type=\"checkbox\" checked><label for=\"sk-estimator-id-1\" class=\"sk-toggleable__label sk-toggleable__label-arrow\">XGBRegressor</label><div class=\"sk-toggleable__content\"><pre>XGBRegressor(base_score=None, booster=None, callbacks=None,\n",
       "             colsample_bylevel=None, colsample_bynode=None,\n",
       "             colsample_bytree=None, device=None, early_stopping_rounds=None,\n",
       "             enable_categorical=False, eval_metric=None, feature_types=None,\n",
       "             gamma=None, grow_policy=None, importance_type=None,\n",
       "             interaction_constraints=None, learning_rate=None, max_bin=None,\n",
       "             max_cat_threshold=None, max_cat_to_onehot=None,\n",
       "             max_delta_step=None, max_depth=None, max_leaves=None,\n",
       "             min_child_weight=None, missing=nan, monotone_constraints=None,\n",
       "             multi_strategy=None, n_estimators=None, n_jobs=None,\n",
       "             num_parallel_tree=None, random_state=None, ...)</pre></div></div></div></div></div>"
      ],
      "text/plain": [
       "XGBRegressor(base_score=None, booster=None, callbacks=None,\n",
       "             colsample_bylevel=None, colsample_bynode=None,\n",
       "             colsample_bytree=None, device=None, early_stopping_rounds=None,\n",
       "             enable_categorical=False, eval_metric=None, feature_types=None,\n",
       "             gamma=None, grow_policy=None, importance_type=None,\n",
       "             interaction_constraints=None, learning_rate=None, max_bin=None,\n",
       "             max_cat_threshold=None, max_cat_to_onehot=None,\n",
       "             max_delta_step=None, max_depth=None, max_leaves=None,\n",
       "             min_child_weight=None, missing=nan, monotone_constraints=None,\n",
       "             multi_strategy=None, n_estimators=None, n_jobs=None,\n",
       "             num_parallel_tree=None, random_state=None, ...)"
      ]
     },
     "execution_count": 6,
     "metadata": {},
     "output_type": "execute_result"
    }
   ],
   "source": [
    "# Load the XGBoost regressor model and label encoder from the saved model directory\n",
    "model_air_quality = joblib.load(saved_model_dir + \"/xgboost_regressor.pkl\")\n",
    "encoder = joblib.load(saved_model_dir + \"/label_encoder.pkl\")\n",
    "\n",
    "# Display the retrieved XGBoost regressor model\n",
    "model_air_quality"
   ]
  },
  {
   "cell_type": "markdown",
   "id": "fa25fb65",
   "metadata": {},
   "source": [
    "## <span style='color:#ff5f27'>⬇️ LLM Loading"
   ]
  },
  {
   "cell_type": "code",
   "execution_count": 7,
   "id": "97fa773f",
   "metadata": {},
   "outputs": [
    {
     "data": {
      "application/vnd.jupyter.widget-view+json": {
       "model_id": "f2d85ff92cd64c08a58ff800ff7d17b3",
       "version_major": 2,
       "version_minor": 0
      },
      "text/plain": [
       "tokenizer_config.json:   0%|          | 0.00/1.60k [00:00<?, ?B/s]"
      ]
     },
     "metadata": {},
     "output_type": "display_data"
    },
    {
     "data": {
      "application/vnd.jupyter.widget-view+json": {
       "model_id": "46b3028cb6514636b7fb799c3c6b5df5",
       "version_major": 2,
       "version_minor": 0
      },
      "text/plain": [
       "tokenizer.model:   0%|          | 0.00/493k [00:00<?, ?B/s]"
      ]
     },
     "metadata": {},
     "output_type": "display_data"
    },
    {
     "data": {
      "application/vnd.jupyter.widget-view+json": {
       "model_id": "849c8dcffa4144f19ddc7b97159b30b4",
       "version_major": 2,
       "version_minor": 0
      },
      "text/plain": [
       "added_tokens.json:   0%|          | 0.00/51.0 [00:00<?, ?B/s]"
      ]
     },
     "metadata": {},
     "output_type": "display_data"
    },
    {
     "data": {
      "application/vnd.jupyter.widget-view+json": {
       "model_id": "7125b4848d4645d69ac60a93402e0d12",
       "version_major": 2,
       "version_minor": 0
      },
      "text/plain": [
       "special_tokens_map.json:   0%|          | 0.00/101 [00:00<?, ?B/s]"
      ]
     },
     "metadata": {},
     "output_type": "display_data"
    },
    {
     "name": "stderr",
     "output_type": "stream",
     "text": [
      "Special tokens have been added in the vocabulary, make sure the associated word embeddings are fine-tuned or trained.\n",
      "Special tokens have been added in the vocabulary, make sure the associated word embeddings are fine-tuned or trained.\n"
     ]
    },
    {
     "data": {
      "application/vnd.jupyter.widget-view+json": {
       "model_id": "4d52ee22b2aa43e0afa76ddf34e2bf48",
       "version_major": 2,
       "version_minor": 0
      },
      "text/plain": [
       "config.json:   0%|          | 0.00/624 [00:00<?, ?B/s]"
      ]
     },
     "metadata": {},
     "output_type": "display_data"
    },
    {
     "data": {
      "application/vnd.jupyter.widget-view+json": {
       "model_id": "e69407f6519846b49a6804d1738e5b11",
       "version_major": 2,
       "version_minor": 0
      },
      "text/plain": [
       "model.safetensors.index.json:   0%|          | 0.00/25.1k [00:00<?, ?B/s]"
      ]
     },
     "metadata": {},
     "output_type": "display_data"
    },
    {
     "data": {
      "application/vnd.jupyter.widget-view+json": {
       "model_id": "5b84eb58249c4dda8845626008f1a5f0",
       "version_major": 2,
       "version_minor": 0
      },
      "text/plain": [
       "Downloading shards:   0%|          | 0/2 [00:00<?, ?it/s]"
      ]
     },
     "metadata": {},
     "output_type": "display_data"
    },
    {
     "data": {
      "application/vnd.jupyter.widget-view+json": {
       "model_id": "984ff4df132c4c96b721fbe6c68da870",
       "version_major": 2,
       "version_minor": 0
      },
      "text/plain": [
       "model-00001-of-00002.safetensors:   0%|          | 0.00/9.94G [00:00<?, ?B/s]"
      ]
     },
     "metadata": {},
     "output_type": "display_data"
    },
    {
     "data": {
      "application/vnd.jupyter.widget-view+json": {
       "model_id": "20ad18d63d994edf93dd0fd709fbf124",
       "version_major": 2,
       "version_minor": 0
      },
      "text/plain": [
       "model-00002-of-00002.safetensors:   0%|          | 0.00/4.54G [00:00<?, ?B/s]"
      ]
     },
     "metadata": {},
     "output_type": "display_data"
    },
    {
     "name": "stdout",
     "output_type": "stream",
     "text": [
      "2024-03-27 14:35:05,651 INFO: We will use 90% of the memory on device 0 for storing the model, and 10% for the buffer to avoid OOM. You can set `max_memory` in to a higher value to use more memory (at your own risk).\n"
     ]
    },
    {
     "data": {
      "application/vnd.jupyter.widget-view+json": {
       "model_id": "343ed1fa77c34fc7bf6a26998ac9c07e",
       "version_major": 2,
       "version_minor": 0
      },
      "text/plain": [
       "Loading checkpoint shards:   0%|          | 0/2 [00:00<?, ?it/s]"
      ]
     },
     "metadata": {},
     "output_type": "display_data"
    },
    {
     "data": {
      "application/vnd.jupyter.widget-view+json": {
       "model_id": "8f239460c7294b779907a78350dfeb12",
       "version_major": 2,
       "version_minor": 0
      },
      "text/plain": [
       "generation_config.json:   0%|          | 0.00/120 [00:00<?, ?B/s]"
      ]
     },
     "metadata": {},
     "output_type": "display_data"
    }
   ],
   "source": [
    "# Load the LLM and its corresponding tokenizer.\n",
    "model_llm, tokenizer = load_model()"
   ]
  },
  {
   "cell_type": "markdown",
   "id": "f62b61b4",
   "metadata": {},
   "source": [
    "## <span style='color:#ff5f27'>⛓️ LangChain"
   ]
  },
  {
   "cell_type": "code",
   "execution_count": 8,
   "id": "38e442d4",
   "metadata": {},
   "outputs": [
    {
     "name": "stderr",
     "output_type": "stream",
     "text": [
      "DeprecationWarning: `np.bool8` is a deprecated alias for `np.bool_`.  (Deprecated NumPy 1.24)\n"
     ]
    }
   ],
   "source": [
    "# Create and configure a language model chain.\n",
    "llm_chain = get_llm_chain(\n",
    "    model_llm,\n",
    "    tokenizer,\n",
    ")"
   ]
  },
  {
   "cell_type": "markdown",
   "id": "52bbd357",
   "metadata": {},
   "source": [
    "## <span style='color:#ff5f27'>🧬 Model Inference\n"
   ]
  },
  {
   "cell_type": "code",
   "execution_count": 9,
   "id": "45e27000",
   "metadata": {},
   "outputs": [
    {
     "name": "stdout",
     "output_type": "stream",
     "text": [
      "🗓️ Today's date: Wednesday, 2024-03-27\n",
      "📖 \n",
      "\n",
      "Hello! I can help you with information about the air quality in the city. According to the data I have, on the 27th of March, 2024, the air quality in the city was considered safe for most people. The concentration of PM2.5 was at 12 µg/m³, which is within the safe limit of 25 µg/m³. The concentration of NO2 was at 20 µg/m³, which is also within the safe limit of 40 µg/m³. The concentration of O3 was at 30 µg/m³, which is below the safe limit of 40 µg/m³. \n",
      "\n",
      "Based on these readings, it is safe for you to go for a walk or engage in outdoor activities. However, if you have a pre-existing respiratory condition, it is always recommended to consult with your doctor before engaging in outdoor activities.\n"
     ]
    }
   ],
   "source": [
    "QUESTION7 = \"Hi!\"\n",
    "\n",
    "response7 = generate_response(\n",
    "    QUESTION7,\n",
    "    feature_view,\n",
    "    model_air_quality,\n",
    "    encoder,\n",
    "    model_llm,\n",
    "    tokenizer,\n",
    "    llm_chain,\n",
    "    verbose=True,\n",
    ")\n",
    "\n",
    "print(response7)"
   ]
  },
  {
   "cell_type": "code",
   "execution_count": 10,
   "id": "547321f2",
   "metadata": {},
   "outputs": [
    {
     "name": "stdout",
     "output_type": "stream",
     "text": [
      "🗓️ Today's date: Wednesday, 2024-03-27\n",
      "📖 \n",
      "\n",
      "I am an expert in air quality, but I'm unable to assist you at the moment.\n"
     ]
    }
   ],
   "source": [
    "QUESTION = \"Who are you?\"\n",
    "\n",
    "response = generate_response(\n",
    "    QUESTION,\n",
    "    feature_view,\n",
    "    model_air_quality,\n",
    "    encoder,\n",
    "    model_llm,\n",
    "    tokenizer,\n",
    "    llm_chain,\n",
    "    verbose=True,\n",
    ")\n",
    "\n",
    "print(response)"
   ]
  },
  {
   "cell_type": "code",
   "execution_count": 11,
   "id": "c346ae89",
   "metadata": {},
   "outputs": [
    {
     "name": "stdout",
     "output_type": "stream",
     "text": [
      "Finished: Reading data from Hopsworks, using ArrowFlight (8.87s) \n",
      "🗓️ Today's date: Wednesday, 2024-03-27\n",
      "📖 Air Quality Measurements for New York:\n",
      "Date: 2024-01-10; Air Quality: 7.2\n",
      "Date: 2024-01-11; Air Quality: 5.9\n",
      "Date: 2024-01-12; Air Quality: 10.8\n",
      "Date: 2024-01-13; Air Quality: 5.9\n",
      "Date: 2024-01-14; Air Quality: 5.1\n",
      "\n",
      "The air quality in New York from January 10th to January 14th was generally within a safe range. The average air quality during this period was 6.9, which indicates good air quality. This is a suitable time for outdoor activities, such as going for a walk or bike ride.\n"
     ]
    }
   ],
   "source": [
    "QUESTION1 = \"What was the air quality from 2024-01-10 till 2024-01-14 in New York?\"\n",
    "\n",
    "response1 = generate_response(\n",
    "    QUESTION1, \n",
    "    feature_view, \n",
    "    model_air_quality, \n",
    "    encoder,\n",
    "    model_llm, \n",
    "    tokenizer,\n",
    "    llm_chain,\n",
    "    verbose=True,\n",
    ")\n",
    "\n",
    "print(response1)"
   ]
  },
  {
   "cell_type": "code",
   "execution_count": 12,
   "id": "a6a3cbda",
   "metadata": {},
   "outputs": [
    {
     "name": "stdout",
     "output_type": "stream",
     "text": [
      "Finished: Reading data from Hopsworks, using ArrowFlight (8.12s) \n",
      "🗓️ Today's date: Wednesday, 2024-03-27\n",
      "📖 Air Quality Measurements for New York:\n",
      "Date: 2024-01-10; Air Quality: 7.2\n",
      "Date: 2024-01-11; Air Quality: 5.9\n",
      "Date: 2024-01-12; Air Quality: 10.8\n",
      "Date: 2024-01-13; Air Quality: 5.9\n",
      "Date: 2024-01-14; Air Quality: 5.1\n",
      "\n",
      "The maximum air quality in New York from 2024-01-10 to 2024-01-14 was on 2024-01-12 with an air quality level of 10.8. This level is considered unhealthy for sensitive groups and may cause breathing difficulties for some individuals. It is advisable to limit outdoor activities on days with such high air quality levels.\n"
     ]
    }
   ],
   "source": [
    "QUESTION11 = \"When and what was the maximum air quality from 2024-01-10 till 2024-01-14 in New York?\"\n",
    "\n",
    "response11 = generate_response(\n",
    "    QUESTION11, \n",
    "    feature_view, \n",
    "    model_air_quality,\n",
    "    encoder,\n",
    "    model_llm,\n",
    "    tokenizer,\n",
    "    llm_chain,\n",
    "    verbose=True,\n",
    ")\n",
    "\n",
    "print(response11)"
   ]
  },
  {
   "cell_type": "code",
   "execution_count": 13,
   "id": "71cc8289",
   "metadata": {},
   "outputs": [
    {
     "name": "stdout",
     "output_type": "stream",
     "text": [
      "Finished: Reading data from Hopsworks, using ArrowFlight (8.35s) \n",
      "🗓️ Today's date: Wednesday, 2024-03-27\n",
      "📖 Air Quality Measurements for New York:\n",
      "Date: 2024-01-10; Air Quality: 7.2\n",
      "Date: 2024-01-11; Air Quality: 5.9\n",
      "Date: 2024-01-12; Air Quality: 10.8\n",
      "Date: 2024-01-13; Air Quality: 5.9\n",
      "Date: 2024-01-14; Air Quality: 5.1\n",
      "\n",
      "The minimum air quality during that period was on 2024-01-14, with an air quality level of 5.1. This is considered to be good air quality, which means it is safe to go for a walk or engage in outdoor activities.\n"
     ]
    }
   ],
   "source": [
    "QUESTION12 = \"When and what was the minimum air quality from 2024-01-10 till 2024-01-14 in New York?\"\n",
    "\n",
    "response12 = generate_response(\n",
    "    QUESTION12, \n",
    "    feature_view,  \n",
    "    model_air_quality, \n",
    "    encoder,\n",
    "    model_llm, \n",
    "    tokenizer,\n",
    "    llm_chain,\n",
    "    verbose=True,\n",
    ")\n",
    "\n",
    "print(response12)"
   ]
  },
  {
   "cell_type": "code",
   "execution_count": 14,
   "id": "d89d46e8",
   "metadata": {},
   "outputs": [
    {
     "name": "stdout",
     "output_type": "stream",
     "text": [
      "Finished: Reading data from Hopsworks, using ArrowFlight (8.02s) \n",
      "🗓️ Today's date: Wednesday, 2024-03-27\n",
      "📖 Air Quality Measurements for London:\n",
      "Date: 2024-03-26; Air Quality: 12.7\n",
      "\n",
      "The air quality in London yesterday, on March 26th, was 12.7. This indicates that the air quality was within the safe range, making it suitable for outdoor activities.\n"
     ]
    }
   ],
   "source": [
    "QUESTION2 = \"What was the air quality yesterday in London?\"\n",
    "\n",
    "response2 = generate_response(\n",
    "    QUESTION2,\n",
    "    feature_view,\n",
    "    model_air_quality,\n",
    "    encoder,\n",
    "    model_llm,\n",
    "    tokenizer,\n",
    "    llm_chain,\n",
    "    verbose=True,\n",
    ")\n",
    "\n",
    "print(response2)"
   ]
  },
  {
   "cell_type": "code",
   "execution_count": 15,
   "id": "48e76dfb",
   "metadata": {},
   "outputs": [
    {
     "name": "stdout",
     "output_type": "stream",
     "text": [
      "Finished: Reading data from Hopsworks, using ArrowFlight (8.49s) \n",
      "🗓️ Today's date: Wednesday, 2024-03-27\n",
      "📖 Air Quality Measurements for London:\n",
      "Date: 2024-03-18; Air Quality: 12.7\n",
      "Date: 2024-03-19; Air Quality: 9.7\n",
      "Date: 2024-03-20; Air Quality: 15.6\n",
      "Date: 2024-03-21; Air Quality: 16.7\n",
      "Date: 2024-03-22; Air Quality: 8.7\n",
      "Date: 2024-03-23; Air Quality: 5.4\n",
      "Date: 2024-03-24; Air Quality: 6.4\n",
      "\n",
      "Last week in London, the air quality was generally good. On 2024-03-19, it was slightly polluted with an air quality of 9.7. The air quality improved on 2024-03-20, reaching a moderate level of 15.6. It was quite clean on 2024-03-21 with an air quality of 16.7. However, it became slightly polluted again on 2024-03-22 with an air quality of 8.7. The air quality improved significantly on 2024-03-23, reaching a healthy level of 5.4. On 2024-03-24, the air quality was slightly better than the previous day with an air quality of 6.4. Overall, the air quality last week in London was mostly good with some slight fluctuations.\n"
     ]
    }
   ],
   "source": [
    "QUESTION = \"What was the air quality like last week in London?\"\n",
    "\n",
    "response = generate_response(\n",
    "    QUESTION,\n",
    "    feature_view, \n",
    "    model_air_quality,\n",
    "    encoder,\n",
    "    model_llm,\n",
    "    tokenizer,\n",
    "    llm_chain,\n",
    "    verbose=True,\n",
    ")\n",
    "\n",
    "print(response)"
   ]
  },
  {
   "cell_type": "code",
   "execution_count": 16,
   "id": "dd764369",
   "metadata": {},
   "outputs": [
    {
     "name": "stdout",
     "output_type": "stream",
     "text": [
      "Finished: Reading data from Hopsworks, using ArrowFlight (8.11s) \n",
      "🗓️ Today's date: Wednesday, 2024-03-27\n",
      "📖 Air Quality Measurements for London:\n",
      "Date: 2024-03-27; Air Quality: 6.4\n",
      "Date: 2024-03-28; Air Quality: 9.77\n",
      "Date: 2024-03-29; Air Quality: 8.71\n",
      "Date: 2024-03-30; Air Quality: 8.24\n",
      "Date: 2024-03-31; Air Quality: 8.57\n",
      "Date: 2024-04-01; Air Quality: 8.66\n",
      "Date: 2024-04-02; Air Quality: 8.18\n",
      "\n",
      "The air quality in London on 2024-04-02 is expected to be at a level of 8.18. This is considered to be within the moderate range, which means it is safe for most people to go outside and engage in outdoor activities. However, sensitive individuals, such as those with respiratory or cardiovascular conditions, should take precautions and limit their exposure to air pollution.\n"
     ]
    }
   ],
   "source": [
    "QUESTION3 = \"What will the air quality be like in London in 2024-04-02?\"\n",
    "\n",
    "response3 = generate_response(\n",
    "    QUESTION3, \n",
    "    feature_view, \n",
    "    model_air_quality,\n",
    "    encoder,\n",
    "    model_llm, \n",
    "    tokenizer,\n",
    "    llm_chain,\n",
    "    verbose=True,\n",
    ")\n",
    "\n",
    "print(response3)"
   ]
  },
  {
   "cell_type": "code",
   "execution_count": 17,
   "id": "210cde3d",
   "metadata": {},
   "outputs": [
    {
     "name": "stdout",
     "output_type": "stream",
     "text": [
      "Finished: Reading data from Hopsworks, using ArrowFlight (9.34s) \n",
      "🗓️ Today's date: Wednesday, 2024-03-27\n",
      "📖 Air Quality Measurements for Chicago:\n",
      "Date: 2024-03-27; Air Quality: 3.0\n",
      "Date: 2024-03-28; Air Quality: 8.06\n",
      "\n",
      "Based on the air quality measurements for Chicago, tomorrow's air quality is expected to be better than today. The air quality on 2024-03-28 is measured at 8.06, which is within the safe range for most people. It is generally safe to go outside and engage in outdoor activities, but people with respiratory issues may still want to take precautions.\n"
     ]
    }
   ],
   "source": [
    "QUESTION4 = \"What will the air quality be like in Chicago tomorrow?\"\n",
    "\n",
    "response4 = generate_response(\n",
    "    QUESTION4, \n",
    "    feature_view, \n",
    "    model_air_quality, \n",
    "    encoder,\n",
    "    model_llm, \n",
    "    tokenizer,\n",
    "    llm_chain,\n",
    "    verbose=True,\n",
    ")\n",
    "\n",
    "print(response4)"
   ]
  },
  {
   "cell_type": "code",
   "execution_count": 18,
   "id": "f3c2ab43",
   "metadata": {},
   "outputs": [
    {
     "name": "stdout",
     "output_type": "stream",
     "text": [
      "Finished: Reading data from Hopsworks, using ArrowFlight (8.11s) \n",
      "🗓️ Today's date: Wednesday, 2024-03-27\n",
      "📖 Air Quality Measurements for London:\n",
      "Date: 2024-03-27; Air Quality: 6.4\n",
      "Date: 2024-03-28; Air Quality: 9.77\n",
      "Date: 2024-03-29; Air Quality: 8.71\n",
      "Date: 2024-03-30; Air Quality: 8.24\n",
      "Date: 2024-03-31; Air Quality: 8.57\n",
      "Date: 2024-04-01; Air Quality: 8.66\n",
      "Date: 2024-04-02; Air Quality: 8.18\n",
      "Date: 2024-04-03; Air Quality: 8.18\n",
      "Date: 2024-04-04; Air Quality: 8.18\n",
      "Date: 2024-04-05; Air Quality: 8.18\n",
      "Date: 2024-04-06; Air Quality: 8.18\n",
      "Date: 2024-04-07; Air Quality: 8.18\n",
      "\n",
      "Based on the air quality measurements for London, next Sunday, 2024-04-07, the air quality is expected to be 8.18. This level of air quality is considered safe, but it might be better to avoid strenuous outdoor activities if you have respiratory issues.\n"
     ]
    }
   ],
   "source": [
    "QUESTION5 = \"What will the air quality be like in London next Sunday?\"\n",
    "\n",
    "response5 = generate_response(\n",
    "    QUESTION5, \n",
    "    feature_view, \n",
    "    model_air_quality, \n",
    "    encoder,\n",
    "    model_llm, \n",
    "    tokenizer, \n",
    "    llm_chain,\n",
    "    verbose=True,\n",
    ")\n",
    "\n",
    "print(response5)"
   ]
  },
  {
   "cell_type": "code",
   "execution_count": 19,
   "id": "956f3636",
   "metadata": {},
   "outputs": [
    {
     "name": "stdout",
     "output_type": "stream",
     "text": [
      "Finished: Reading data from Hopsworks, using ArrowFlight (7.96s) \n",
      "🗓️ Today's date: Wednesday, 2024-03-27\n",
      "📖 Air Quality Measurements for London:\n",
      "Date: 2024-03-27; Air Quality: 6.4\n",
      "Date: 2024-03-28; Air Quality: 9.77\n",
      "Date: 2024-03-29; Air Quality: 8.71\n",
      "Date: 2024-03-30; Air Quality: 8.24\n",
      "Date: 2024-03-31; Air Quality: 8.57\n",
      "Date: 2024-04-01; Air Quality: 8.66\n",
      "Date: 2024-04-02; Air Quality: 8.18\n",
      "Date: 2024-04-03; Air Quality: 8.18\n"
     ]
    },
    {
     "name": "stderr",
     "output_type": "stream",
     "text": [
      "UserWarning: You seem to be using the pipelines sequentially on GPU. In order to maximize efficiency please use a dataset\n"
     ]
    },
    {
     "name": "stdout",
     "output_type": "stream",
     "text": [
      "\n",
      "The air quality on April 3 in London is expected to be safe for outdoor activities. The air quality index is around 8.18, which falls within the moderate range. This means that while the air may not be perfect, it is generally safe for most people to go outside and engage in physical activities.\n"
     ]
    }
   ],
   "source": [
    "QUESTION7 = \"What will the air quality be like on April 3 in London?\"\n",
    "\n",
    "response7 = generate_response(\n",
    "    QUESTION7,\n",
    "    feature_view,\n",
    "    model_air_quality,\n",
    "    encoder,\n",
    "    model_llm,\n",
    "    tokenizer,\n",
    "    llm_chain,\n",
    "    verbose=True,\n",
    ")\n",
    "\n",
    "print(response7)"
   ]
  },
  {
   "cell_type": "code",
   "execution_count": 20,
   "id": "951363d5",
   "metadata": {},
   "outputs": [
    {
     "name": "stdout",
     "output_type": "stream",
     "text": [
      "🗓️ Today's date: Wednesday, 2024-03-27\n",
      "📖 \n"
     ]
    },
    {
     "name": "stderr",
     "output_type": "stream",
     "text": [
      "UserWarning: You seem to be using the pipelines sequentially on GPU. In order to maximize efficiency please use a dataset\n"
     ]
    },
    {
     "name": "stdout",
     "output_type": "stream",
     "text": [
      "\n",
      "Certainly! PM2.5 levels are categorized as follows:\n",
      "\n",
      "1. Good (below 12 µg/m³): At this level, the air quality is considered safe for everyone, including those who are sensitive to air pollution. It's a great time to go for a walk or engage in outdoor activities.\n",
      "\n",
      "2. Moderate (12-18 µg/m³): While the air quality is generally safe, people with respiratory issues or sensitivities may experience some discomfort. It's still suitable for outdoor activities, but those with breathing concerns should take precautions.\n",
      "\n",
      "3. Poor (18-25 µg/m³): At this level, air quality is considered unhealthy for sensitive groups, such as children, the elderly, and those with respiratory conditions. It's advisable to limit prolonged outdoor exertion and consider indoor activities.\n",
      "\n",
      "4. Very poor (25-35 µg/m³): The air quality is unhealthy for the general population, and it's advised to minimize outdoor activities, especially for sensitive groups.\n",
      "\n",
      "5. Hazardous (above 35 µg/m³): At this level, air quality is considered severely polluted and poses a significant health risk to everyone. It's crucial to limit outdoor activities and stay indoors with air filtration systems in place.\n",
      "\n",
      "Remember, these are general guidelines, and it's always best to consult local air quality advisories for the most accurate and up-to-date information.\n"
     ]
    }
   ],
   "source": [
    "QUESTION = \"Can you please explain different PM2_5 air quality levels?\"\n",
    "\n",
    "response = generate_response(\n",
    "    QUESTION, \n",
    "    feature_view, \n",
    "    model_air_quality, \n",
    "    encoder,\n",
    "    model_llm, \n",
    "    tokenizer,\n",
    "    llm_chain,\n",
    "    verbose=True,\n",
    ")\n",
    "\n",
    "print(response)"
   ]
  },
  {
   "cell_type": "markdown",
   "id": "b711f003",
   "metadata": {},
   "source": [
    "---\n",
    "\n",
    "## <span style='color:#ff5f27'>🧬 Inference with OpenAI\n"
   ]
  },
  {
   "cell_type": "code",
   "execution_count": 21,
   "id": "ad2bd599",
   "metadata": {},
   "outputs": [],
   "source": [
    "from openai import OpenAI\n",
    "import os\n",
    "import getpass\n",
    "\n",
    "from functions.llm_chain import generate_response_openai"
   ]
  },
  {
   "cell_type": "code",
   "execution_count": 22,
   "id": "4ea97858",
   "metadata": {},
   "outputs": [
    {
     "name": "stdin",
     "output_type": "stream",
     "text": [
      "🔑 Enter your OpenAI API key:  ···················································\n"
     ]
    }
   ],
   "source": [
    "os.environ[\"OPENAI_API_KEY\"] = os.getenv(\"OPENAI_API_KEY\") or getpass.getpass('🔑 Enter your OpenAI API key: ')\n",
    "\n",
    "client = OpenAI(\n",
    "    api_key=os.environ[\"OPENAI_API_KEY\"],\n",
    ")"
   ]
  },
  {
   "cell_type": "code",
   "execution_count": 23,
   "id": "1eeea10a",
   "metadata": {},
   "outputs": [
    {
     "name": "stdout",
     "output_type": "stream",
     "text": [
      "2024-03-27 14:42:13,003 INFO: HTTP Request: POST https://api.openai.com/v1/chat/completions \"HTTP/1.1 200 OK\"\n",
      "Finished: Reading data from Hopsworks, using ArrowFlight (8.23s) \n",
      "🗓️ Today's date: Wednesday, 2024-03-27\n",
      "📖 Air Quality Measurements for London:\n",
      "Date: 2024-03-18; Air Quality: 12.7\n",
      "Date: 2024-03-19; Air Quality: 9.7\n",
      "Date: 2024-03-20; Air Quality: 15.6\n",
      "Date: 2024-03-21; Air Quality: 16.7\n",
      "Date: 2024-03-22; Air Quality: 8.7\n",
      "Date: 2024-03-23; Air Quality: 5.4\n",
      "Date: 2024-03-24; Air Quality: 6.4\n",
      "2024-03-27 14:42:41,602 INFO: HTTP Request: POST https://api.openai.com/v1/chat/completions \"HTTP/1.1 200 OK\"\n",
      "Last week in London, the air quality varied, starting off at a moderate level of 12.7 on the 18th. It slightly improved to 9.7 by the 19th, indicating relatively clean air that would be quite suitable for outdoor activities. There was a slight uptick in pollutants midweek, with air quality readings reaching 15.6 and 16.7 on the 20th and 21st respectively, suggesting a decrease in air quality but still remaining within a range considered safe, although individuals with sensitivity to air pollution might have experienced some discomfort. The air quality then improved significantly towards the end of the week, dropping to very good levels of 8.7 on the 22nd, 5.4 on the 23rd, and 6.4 on the 24th, indicating cleaner air and ideal conditions for spending time outdoors.\n"
     ]
    }
   ],
   "source": [
    "QUESTION = \"What was the air quality like last week in London?\"\n",
    "\n",
    "response = generate_response_openai(   \n",
    "    QUESTION,\n",
    "    feature_view,\n",
    "    model_air_quality,\n",
    "    encoder,\n",
    "    client,\n",
    "    verbose=True,\n",
    ")\n",
    "print(response)"
   ]
  },
  {
   "cell_type": "code",
   "execution_count": 24,
   "id": "441f51e2",
   "metadata": {},
   "outputs": [
    {
     "name": "stdout",
     "output_type": "stream",
     "text": [
      "2024-03-27 14:42:43,248 INFO: HTTP Request: POST https://api.openai.com/v1/chat/completions \"HTTP/1.1 200 OK\"\n",
      "Finished: Reading data from Hopsworks, using ArrowFlight (9.63s) \n",
      "🗓️ Today's date: Wednesday, 2024-03-27\n",
      "📖 Air Quality Measurements for Chicago:\n",
      "Date: 2024-03-27; Air Quality: 3.0\n",
      "Date: 2024-03-28; Air Quality: 8.06\n",
      "2024-03-27 14:43:02,325 INFO: HTTP Request: POST https://api.openai.com/v1/chat/completions \"HTTP/1.1 200 OK\"\n",
      "The air quality in Chicago tomorrow is expected to be at 8.06, which indicates a moderate level of pollutants. It's still relatively safe for most people, but individuals who are especially sensitive to air pollution might want to limit their outdoor activities. It's a good day to keep an eye on any changes if you have respiratory conditions or other health concerns related to air quality.\n"
     ]
    }
   ],
   "source": [
    "QUESTION4 = \"What will the air quality be like in Chicago tomorrow?\"\n",
    "\n",
    "response4 = generate_response_openai(\n",
    "    QUESTION4,\n",
    "    feature_view,\n",
    "    model_air_quality,\n",
    "    encoder,\n",
    "    client,\n",
    "    verbose=True,\n",
    ")\n",
    "\n",
    "print(response4)"
   ]
  },
  {
   "cell_type": "markdown",
   "id": "d7d5577e",
   "metadata": {},
   "source": [
    "---"
   ]
  }
 ],
 "metadata": {
  "kernelspec": {
   "display_name": "Python 3 (ipykernel)",
   "language": "python",
   "name": "python3"
  },
  "language_info": {
   "codemirror_mode": {
    "name": "ipython",
    "version": 3
   },
   "file_extension": ".py",
   "mimetype": "text/x-python",
   "name": "python",
   "nbconvert_exporter": "python",
   "pygments_lexer": "ipython3",
   "version": "3.11.7"
  }
 },
 "nbformat": 4,
 "nbformat_minor": 5
}
