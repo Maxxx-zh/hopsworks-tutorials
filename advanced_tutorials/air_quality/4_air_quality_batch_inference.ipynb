{
 "cells": [
  {
   "cell_type": "markdown",
   "id": "08bba7ac",
   "metadata": {},
   "source": [
    "# <span style=\"font-width:bold; font-size: 3rem; color:#1EB182;\"><img src=\"../images/icon102.png\" width=\"38px\"></img> **Hopsworks Feature Store** </span><span style=\"font-width:bold; font-size: 3rem; color:#333;\">- Part 04: Batch Inference</span>\n",
    "\n",
    "## 🗒️ This notebook is divided into the following sections:\n",
    "\n",
    "1. Load batch data.\n",
    "2. Retrieve your trained model from the Model Registry.\n",
    "3. Load batch data.\n",
    "4. Predict batch data."
   ]
  },
  {
   "cell_type": "markdown",
   "id": "ded483d3",
   "metadata": {},
   "source": [
    "## <span style='color:#ff5f27'> 📝 Imports"
   ]
  },
  {
   "cell_type": "code",
   "execution_count": 1,
   "id": "65a6a697",
   "metadata": {},
   "outputs": [],
   "source": [
    "import joblib\n",
    "import datetime\n",
    "import pandas as pd"
   ]
  },
  {
   "cell_type": "markdown",
   "id": "c06c5552",
   "metadata": {},
   "source": [
    "## <span style=\"color:#ff5f27;\"> 📡 Connect to Hopsworks Feature Store </span>"
   ]
  },
  {
   "cell_type": "code",
   "execution_count": 2,
   "id": "2dcd1a04",
   "metadata": {},
   "outputs": [
    {
     "name": "stderr",
     "output_type": "stream",
     "text": [
      "WARNING: log4j.properties is not found. HADOOP_CONF_DIR may be incomplete.\n"
     ]
    },
    {
     "name": "stdout",
     "output_type": "stream",
     "text": [
      "Connected. Call `.close()` to terminate connection gracefully.\n",
      "\n",
      "Logged in to project, explore it here https://snurran.hops.works/p/5242\n",
      "Connected. Call `.close()` to terminate connection gracefully.\n"
     ]
    }
   ],
   "source": [
    "import hopsworks\n",
    "\n",
    "project = hopsworks.login()\n",
    "\n",
    "fs = project.get_feature_store()"
   ]
  },
  {
   "cell_type": "markdown",
   "id": "8b0649e3",
   "metadata": {},
   "source": [
    "## <span style=\"color:#ff5f27;\"> ⚙️ Feature View Retrieval</span>"
   ]
  },
  {
   "cell_type": "code",
   "execution_count": 3,
   "id": "fc7b3682",
   "metadata": {},
   "outputs": [],
   "source": [
    "# Retrieve the 'air_quality_fv' feature view\n",
    "feature_view = fs.get_feature_view(\n",
    "    name='air_quality_fv',\n",
    "    version=1,\n",
    ")"
   ]
  },
  {
   "cell_type": "markdown",
   "id": "99be7bd0",
   "metadata": {},
   "source": [
    "## <span style=\"color:#ff5f27;\">🗄 Model Registry</span>"
   ]
  },
  {
   "cell_type": "code",
   "execution_count": 4,
   "id": "8d864db5",
   "metadata": {},
   "outputs": [
    {
     "name": "stdout",
     "output_type": "stream",
     "text": [
      "Connected. Call `.close()` to terminate connection gracefully.\n"
     ]
    }
   ],
   "source": [
    "# Retrieve the model registry\n",
    "mr = project.get_model_registry()"
   ]
  },
  {
   "cell_type": "markdown",
   "id": "63665afa",
   "metadata": {},
   "source": [
    "## <span style=\"color:#ff5f27;\">🪝 Retrieve model from Model Registry</span>"
   ]
  },
  {
   "cell_type": "code",
   "execution_count": 5,
   "id": "07d9a4c0",
   "metadata": {},
   "outputs": [
    {
     "name": "stdout",
     "output_type": "stream",
     "text": [
      "2024-02-21 12:14:03,447 main ERROR Cannot access RandomAccessFile java.io.IOException: Could not create directory /srv/hops/hadoop-3.2.0.12-EE-RC0/logs java.io.IOException: Could not create directory /srv/hops/hadoop-3.2.0.12-EE-RC0/logs\n",
      "\tat org.apache.logging.log4j.core.util.FileUtils.mkdir(FileUtils.java:128)\n",
      "\tat org.apache.logging.log4j.core.util.FileUtils.makeParentDirs(FileUtils.java:141)\n",
      "\tat org.apache.logging.log4j.core.appender.rolling.RollingRandomAccessFileManager$RollingRandomAccessFileManagerFactory.createManager(RollingRandomAccessFileManager.java:231)\n",
      "\tat org.apache.logging.log4j.core.appender.rolling.RollingRandomAccessFileManager$RollingRandomAccessFileManagerFactory.createManager(RollingRandomAccessFileManager.java:204)\n",
      "\tat org.apache.logging.log4j.core.appender.AbstractManager.getManager(AbstractManager.java:144)\n",
      "\tat org.apache.logging.log4j.core.appender.OutputStreamManager.getManager(OutputStreamManager.java:100)\n",
      "\tat org.apache.logging.log4j.core.appender.rolling.RollingRandomAccessFileManager.getRollingRandomAccessFileManager(RollingRandomAccessFileManager.java:107)\n",
      "\tat org.apache.logging.log4j.core.appender.RollingRandomAccessFileAppender$Builder.build(RollingRandomAccessFileAppender.java:132)\n",
      "\tat org.apache.logging.log4j.core.appender.RollingRandomAccessFileAppender$Builder.build(RollingRandomAccessFileAppender.java:53)\n",
      "\tat org.apache.logging.log4j.core.config.plugins.util.PluginBuilder.build(PluginBuilder.java:124)\n",
      "\tat org.apache.logging.log4j.core.config.AbstractConfiguration.createPluginObject(AbstractConfiguration.java:1138)\n",
      "\tat org.apache.logging.log4j.core.config.AbstractConfiguration.createConfiguration(AbstractConfiguration.java:1063)\n",
      "\tat org.apache.logging.log4j.core.config.AbstractConfiguration.createConfiguration(AbstractConfiguration.java:1055)\n",
      "\tat org.apache.logging.log4j.core.config.AbstractConfiguration.doConfigure(AbstractConfiguration.java:664)\n",
      "\tat org.apache.logging.log4j.core.config.AbstractConfiguration.initialize(AbstractConfiguration.java:258)\n",
      "\tat org.apache.logging.log4j.core.config.AbstractConfiguration.start(AbstractConfiguration.java:304)\n",
      "\tat org.apache.logging.log4j.core.LoggerContext.setConfiguration(LoggerContext.java:621)\n",
      "\tat org.apache.logging.log4j.core.LoggerContext.reconfigure(LoggerContext.java:694)\n",
      "\tat org.apache.logging.log4j.core.LoggerContext.reconfigure(LoggerContext.java:711)\n",
      "\tat org.apache.logging.log4j.core.LoggerContext.start(LoggerContext.java:253)\n",
      "\tat org.apache.logging.log4j.core.impl.Log4jContextFactory.getContext(Log4jContextFactory.java:155)\n",
      "\tat org.apache.logging.log4j.core.impl.Log4jContextFactory.getContext(Log4jContextFactory.java:47)\n",
      "\tat org.apache.logging.log4j.LogManager.getContext(LogManager.java:309)\n",
      "\tat org.apache.log4j.Hierarchy$PrivateLogManager.getContext(Hierarchy.java:86)\n",
      "\tat org.apache.log4j.Hierarchy.getContext(Hierarchy.java:99)\n",
      "\tat org.apache.log4j.Category.<init>(Category.java:188)\n",
      "\tat org.apache.log4j.Logger.<init>(Logger.java:57)\n",
      "\tat org.apache.log4j.spi.RootLogger.<init>(RootLogger.java:39)\n",
      "\tat org.apache.log4j.LogManager.<clinit>(LogManager.java:72)\n",
      "\tat org.apache.log4j.Logger.getLogger(Logger.java:40)\n",
      "\tat org.apache.commons.logging.impl.Log4JLogger.getLogger(Log4JLogger.java:262)\n",
      "\tat org.apache.commons.logging.impl.Log4JLogger.<init>(Log4JLogger.java:108)\n",
      "\tat sun.reflect.NativeConstructorAccessorImpl.newInstance0(Native Method)\n",
      "\tat sun.reflect.NativeConstructorAccessorImpl.newInstance(NativeConstructorAccessorImpl.java:62)\n",
      "\tat sun.reflect.DelegatingConstructorAccessorImpl.newInstance(DelegatingConstructorAccessorImpl.java:45)\n",
      "\tat java.lang.reflect.Constructor.newInstance(Constructor.java:423)\n",
      "\tat org.apache.commons.logging.impl.LogFactoryImpl.createLogFromClass(LogFactoryImpl.java:1025)\n",
      "\tat org.apache.commons.logging.impl.LogFactoryImpl.discoverLogImplementation(LogFactoryImpl.java:844)\n",
      "\tat org.apache.commons.logging.impl.LogFactoryImpl.newInstance(LogFactoryImpl.java:541)\n",
      "\tat org.apache.commons.logging.impl.LogFactoryImpl.getInstance(LogFactoryImpl.java:292)\n",
      "\tat org.apache.commons.logging.impl.LogFactoryImpl.getInstance(LogFactoryImpl.java:269)\n",
      "\tat org.apache.commons.logging.LogFactory.getLog(LogFactory.java:657)\n",
      "\tat org.apache.hadoop.fs.FileSystem.<clinit>(FileSystem.java:139)\n",
      "\n",
      "2024-02-21 12:14:03,450 main ERROR Could not create plugin of type class org.apache.logging.log4j.core.appender.RollingRandomAccessFileAppender for element RollingRandomAccessFile: java.lang.IllegalStateException: ManagerFactory [org.apache.logging.log4j.core.appender.rolling.RollingRandomAccessFileManager$RollingRandomAccessFileManagerFactory@1623b78d] unable to create manager for [/srv/hops/hadoop/logs/hadoop.log] with data [org.apache.logging.log4j.core.appender.rolling.RollingRandomAccessFileManager$FactoryData@c8c12ac] java.lang.IllegalStateException: ManagerFactory [org.apache.logging.log4j.core.appender.rolling.RollingRandomAccessFileManager$RollingRandomAccessFileManagerFactory@1623b78d] unable to create manager for [/srv/hops/hadoop/logs/hadoop.log] with data [org.apache.logging.log4j.core.appender.rolling.RollingRandomAccessFileManager$FactoryData@c8c12ac]\n",
      "\tat org.apache.logging.log4j.core.appender.AbstractManager.getManager(AbstractManager.java:146)\n",
      "\tat org.apache.logging.log4j.core.appender.OutputStreamManager.getManager(OutputStreamManager.java:100)\n",
      "\tat org.apache.logging.log4j.core.appender.rolling.RollingRandomAccessFileManager.getRollingRandomAccessFileManager(RollingRandomAccessFileManager.java:107)\n",
      "\tat org.apache.logging.log4j.core.appender.RollingRandomAccessFileAppender$Builder.build(RollingRandomAccessFileAppender.java:132)\n",
      "\tat org.apache.logging.log4j.core.appender.RollingRandomAccessFileAppender$Builder.build(RollingRandomAccessFileAppender.java:53)\n",
      "\tat org.apache.logging.log4j.core.config.plugins.util.PluginBuilder.build(PluginBuilder.java:124)\n",
      "\tat org.apache.logging.log4j.core.config.AbstractConfiguration.createPluginObject(AbstractConfiguration.java:1138)\n",
      "\tat org.apache.logging.log4j.core.config.AbstractConfiguration.createConfiguration(AbstractConfiguration.java:1063)\n",
      "\tat org.apache.logging.log4j.core.config.AbstractConfiguration.createConfiguration(AbstractConfiguration.java:1055)\n",
      "\tat org.apache.logging.log4j.core.config.AbstractConfiguration.doConfigure(AbstractConfiguration.java:664)\n",
      "\tat org.apache.logging.log4j.core.config.AbstractConfiguration.initialize(AbstractConfiguration.java:258)\n",
      "\tat org.apache.logging.log4j.core.config.AbstractConfiguration.start(AbstractConfiguration.java:304)\n",
      "\tat org.apache.logging.log4j.core.LoggerContext.setConfiguration(LoggerContext.java:621)\n",
      "\tat org.apache.logging.log4j.core.LoggerContext.reconfigure(LoggerContext.java:694)\n",
      "\tat org.apache.logging.log4j.core.LoggerContext.reconfigure(LoggerContext.java:711)\n",
      "\tat org.apache.logging.log4j.core.LoggerContext.start(LoggerContext.java:253)\n",
      "\tat org.apache.logging.log4j.core.impl.Log4jContextFactory.getContext(Log4jContextFactory.java:155)\n",
      "\tat org.apache.logging.log4j.core.impl.Log4jContextFactory.getContext(Log4jContextFactory.java:47)\n",
      "\tat org.apache.logging.log4j.LogManager.getContext(LogManager.java:309)\n",
      "\tat org.apache.log4j.Hierarchy$PrivateLogManager.getContext(Hierarchy.java:86)\n",
      "\tat org.apache.log4j.Hierarchy.getContext(Hierarchy.java:99)\n",
      "\tat org.apache.log4j.Category.<init>(Category.java:188)\n",
      "\tat org.apache.log4j.Logger.<init>(Logger.java:57)\n",
      "\tat org.apache.log4j.spi.RootLogger.<init>(RootLogger.java:39)\n",
      "\tat org.apache.log4j.LogManager.<clinit>(LogManager.java:72)\n",
      "\tat org.apache.log4j.Logger.getLogger(Logger.java:40)\n",
      "\tat org.apache.commons.logging.impl.Log4JLogger.getLogger(Log4JLogger.java:262)\n",
      "\tat org.apache.commons.logging.impl.Log4JLogger.<init>(Log4JLogger.java:108)\n",
      "\tat sun.reflect.NativeConstructorAccessorImpl.newInstance0(Native Method)\n",
      "\tat sun.reflect.NativeConstructorAccessorImpl.newInstance(NativeConstructorAccessorImpl.java:62)\n",
      "\tat sun.reflect.DelegatingConstructorAccessorImpl.newInstance(DelegatingConstructorAccessorImpl.java:45)\n",
      "\tat java.lang.reflect.Constructor.newInstance(Constructor.java:423)\n",
      "\tat org.apache.commons.logging.impl.LogFactoryImpl.createLogFromClass(LogFactoryImpl.java:1025)\n",
      "\tat org.apache.commons.logging.impl.LogFactoryImpl.discoverLogImplementation(LogFactoryImpl.java:844)\n",
      "\tat org.apache.commons.logging.impl.LogFactoryImpl.newInstance(LogFactoryImpl.java:541)\n",
      "\tat org.apache.commons.logging.impl.LogFactoryImpl.getInstance(LogFactoryImpl.java:292)\n",
      "\tat org.apache.commons.logging.impl.LogFactoryImpl.getInstance(LogFactoryImpl.java:269)\n",
      "\tat org.apache.commons.logging.LogFactory.getLog(LogFactory.java:657)\n",
      "\tat org.apache.hadoop.fs.FileSystem.<clinit>(FileSystem.java:139)\n",
      "\n",
      "2024-02-21 12:14:03,451 main ERROR Unable to invoke factory method in class org.apache.logging.log4j.core.appender.RollingRandomAccessFileAppender for element RollingRandomAccessFile: java.lang.IllegalStateException: No factory method found for class org.apache.logging.log4j.core.appender.RollingRandomAccessFileAppender java.lang.IllegalStateException: No factory method found for class org.apache.logging.log4j.core.appender.RollingRandomAccessFileAppender\n",
      "\tat org.apache.logging.log4j.core.config.plugins.util.PluginBuilder.findFactoryMethod(PluginBuilder.java:260)\n",
      "\tat org.apache.logging.log4j.core.config.plugins.util.PluginBuilder.build(PluginBuilder.java:136)\n",
      "\tat org.apache.logging.log4j.core.config.AbstractConfiguration.createPluginObject(AbstractConfiguration.java:1138)\n",
      "\tat org.apache.logging.log4j.core.config.AbstractConfiguration.createConfiguration(AbstractConfiguration.java:1063)\n",
      "\tat org.apache.logging.log4j.core.config.AbstractConfiguration.createConfiguration(AbstractConfiguration.java:1055)\n",
      "\tat org.apache.logging.log4j.core.config.AbstractConfiguration.doConfigure(AbstractConfiguration.java:664)\n",
      "\tat org.apache.logging.log4j.core.config.AbstractConfiguration.initialize(AbstractConfiguration.java:258)\n",
      "\tat org.apache.logging.log4j.core.config.AbstractConfiguration.start(AbstractConfiguration.java:304)\n",
      "\tat org.apache.logging.log4j.core.LoggerContext.setConfiguration(LoggerContext.java:621)\n",
      "\tat org.apache.logging.log4j.core.LoggerContext.reconfigure(LoggerContext.java:694)\n",
      "\tat org.apache.logging.log4j.core.LoggerContext.reconfigure(LoggerContext.java:711)\n",
      "\tat org.apache.logging.log4j.core.LoggerContext.start(LoggerContext.java:253)\n",
      "\tat org.apache.logging.log4j.core.impl.Log4jContextFactory.getContext(Log4jContextFactory.java:155)\n",
      "\tat org.apache.logging.log4j.core.impl.Log4jContextFactory.getContext(Log4jContextFactory.java:47)\n",
      "\tat org.apache.logging.log4j.LogManager.getContext(LogManager.java:309)\n",
      "\tat org.apache.log4j.Hierarchy$PrivateLogManager.getContext(Hierarchy.java:86)\n",
      "\tat org.apache.log4j.Hierarchy.getContext(Hierarchy.java:99)\n",
      "\tat org.apache.log4j.Category.<init>(Category.java:188)\n",
      "\tat org.apache.log4j.Logger.<init>(Logger.java:57)\n",
      "\tat org.apache.log4j.spi.RootLogger.<init>(RootLogger.java:39)\n",
      "\tat org.apache.log4j.LogManager.<clinit>(LogManager.java:72)\n",
      "\tat org.apache.log4j.Logger.getLogger(Logger.java:40)\n",
      "\tat org.apache.commons.logging.impl.Log4JLogger.getLogger(Log4JLogger.java:262)\n",
      "\tat org.apache.commons.logging.impl.Log4JLogger.<init>(Log4JLogger.java:108)\n",
      "\tat sun.reflect.NativeConstructorAccessorImpl.newInstance0(Native Method)\n",
      "\tat sun.reflect.NativeConstructorAccessorImpl.newInstance(NativeConstructorAccessorImpl.java:62)\n",
      "\tat sun.reflect.DelegatingConstructorAccessorImpl.newInstance(DelegatingConstructorAccessorImpl.java:45)\n",
      "\tat java.lang.reflect.Constructor.newInstance(Constructor.java:423)\n",
      "\tat org.apache.commons.logging.impl.LogFactoryImpl.createLogFromClass(LogFactoryImpl.java:1025)\n",
      "\tat org.apache.commons.logging.impl.LogFactoryImpl.discoverLogImplementation(LogFactoryImpl.java:844)\n",
      "\tat org.apache.commons.logging.impl.LogFactoryImpl.newInstance(LogFactoryImpl.java:541)\n",
      "\tat org.apache.commons.logging.impl.LogFactoryImpl.getInstance(LogFactoryImpl.java:292)\n",
      "\tat org.apache.commons.logging.impl.LogFactoryImpl.getInstance(LogFactoryImpl.java:269)\n",
      "\tat org.apache.commons.logging.LogFactory.getLog(LogFactory.java:657)\n",
      "\tat org.apache.hadoop.fs.FileSystem.<clinit>(FileSystem.java:139)\n",
      "\n",
      "2024-02-21 12:14:03,452 main ERROR Null object returned for RollingRandomAccessFile in Appenders.\n"
     ]
    },
    {
     "name": "stderr",
     "output_type": "stream",
     "text": [
      "SLF4J: Class path contains multiple SLF4J bindings.\n",
      "SLF4J: Found binding in [jar:file:/srv/hops/hadoop-3.2.0.12-EE-RC0/share/hadoop/common/lib/log4j-slf4j-impl-2.19.0.jar!/org/slf4j/impl/StaticLoggerBinder.class]\n",
      "SLF4J: Found binding in [jar:file:/srv/hops/hadoop-3.2.0.12-EE-RC0/share/hadoop/hdfs/lib/log4j-slf4j-impl-2.19.0.jar!/org/slf4j/impl/StaticLoggerBinder.class]\n",
      "SLF4J: See http://www.slf4j.org/codes.html#multiple_bindings for an explanation.\n",
      "SLF4J: Actual binding is of type [org.apache.logging.slf4j.Log4jLoggerFactory]\n"
     ]
    },
    {
     "name": "stdout",
     "output_type": "stream",
     "text": [
      "Downloading model artifact (0 dirs, 6 files)... DONE\r"
     ]
    }
   ],
   "source": [
    "# Retrieve the 'air_quality_xgboost_model' from the model registry\n",
    "retrieved_model = mr.get_model(\n",
    "    name=\"air_quality_xgboost_model\",\n",
    "    version=1,\n",
    ")\n",
    "\n",
    "# Download the saved model artifacts to a local directory\n",
    "saved_model_dir = retrieved_model.download()"
   ]
  },
  {
   "cell_type": "code",
   "execution_count": 6,
   "id": "08d3163c",
   "metadata": {},
   "outputs": [
    {
     "data": {
      "text/html": [
       "<style>#sk-container-id-1 {color: black;background-color: white;}#sk-container-id-1 pre{padding: 0;}#sk-container-id-1 div.sk-toggleable {background-color: white;}#sk-container-id-1 label.sk-toggleable__label {cursor: pointer;display: block;width: 100%;margin-bottom: 0;padding: 0.3em;box-sizing: border-box;text-align: center;}#sk-container-id-1 label.sk-toggleable__label-arrow:before {content: \"▸\";float: left;margin-right: 0.25em;color: #696969;}#sk-container-id-1 label.sk-toggleable__label-arrow:hover:before {color: black;}#sk-container-id-1 div.sk-estimator:hover label.sk-toggleable__label-arrow:before {color: black;}#sk-container-id-1 div.sk-toggleable__content {max-height: 0;max-width: 0;overflow: hidden;text-align: left;background-color: #f0f8ff;}#sk-container-id-1 div.sk-toggleable__content pre {margin: 0.2em;color: black;border-radius: 0.25em;background-color: #f0f8ff;}#sk-container-id-1 input.sk-toggleable__control:checked~div.sk-toggleable__content {max-height: 200px;max-width: 100%;overflow: auto;}#sk-container-id-1 input.sk-toggleable__control:checked~label.sk-toggleable__label-arrow:before {content: \"▾\";}#sk-container-id-1 div.sk-estimator input.sk-toggleable__control:checked~label.sk-toggleable__label {background-color: #d4ebff;}#sk-container-id-1 div.sk-label input.sk-toggleable__control:checked~label.sk-toggleable__label {background-color: #d4ebff;}#sk-container-id-1 input.sk-hidden--visually {border: 0;clip: rect(1px 1px 1px 1px);clip: rect(1px, 1px, 1px, 1px);height: 1px;margin: -1px;overflow: hidden;padding: 0;position: absolute;width: 1px;}#sk-container-id-1 div.sk-estimator {font-family: monospace;background-color: #f0f8ff;border: 1px dotted black;border-radius: 0.25em;box-sizing: border-box;margin-bottom: 0.5em;}#sk-container-id-1 div.sk-estimator:hover {background-color: #d4ebff;}#sk-container-id-1 div.sk-parallel-item::after {content: \"\";width: 100%;border-bottom: 1px solid gray;flex-grow: 1;}#sk-container-id-1 div.sk-label:hover label.sk-toggleable__label {background-color: #d4ebff;}#sk-container-id-1 div.sk-serial::before {content: \"\";position: absolute;border-left: 1px solid gray;box-sizing: border-box;top: 0;bottom: 0;left: 50%;z-index: 0;}#sk-container-id-1 div.sk-serial {display: flex;flex-direction: column;align-items: center;background-color: white;padding-right: 0.2em;padding-left: 0.2em;position: relative;}#sk-container-id-1 div.sk-item {position: relative;z-index: 1;}#sk-container-id-1 div.sk-parallel {display: flex;align-items: stretch;justify-content: center;background-color: white;position: relative;}#sk-container-id-1 div.sk-item::before, #sk-container-id-1 div.sk-parallel-item::before {content: \"\";position: absolute;border-left: 1px solid gray;box-sizing: border-box;top: 0;bottom: 0;left: 50%;z-index: -1;}#sk-container-id-1 div.sk-parallel-item {display: flex;flex-direction: column;z-index: 1;position: relative;background-color: white;}#sk-container-id-1 div.sk-parallel-item:first-child::after {align-self: flex-end;width: 50%;}#sk-container-id-1 div.sk-parallel-item:last-child::after {align-self: flex-start;width: 50%;}#sk-container-id-1 div.sk-parallel-item:only-child::after {width: 0;}#sk-container-id-1 div.sk-dashed-wrapped {border: 1px dashed gray;margin: 0 0.4em 0.5em 0.4em;box-sizing: border-box;padding-bottom: 0.4em;background-color: white;}#sk-container-id-1 div.sk-label label {font-family: monospace;font-weight: bold;display: inline-block;line-height: 1.2em;}#sk-container-id-1 div.sk-label-container {text-align: center;}#sk-container-id-1 div.sk-container {/* jupyter's `normalize.less` sets `[hidden] { display: none; }` but bootstrap.min.css set `[hidden] { display: none !important; }` so we also need the `!important` here to be able to override the default hidden behavior on the sphinx rendered scikit-learn.org. See: https://github.com/scikit-learn/scikit-learn/issues/21755 */display: inline-block !important;position: relative;}#sk-container-id-1 div.sk-text-repr-fallback {display: none;}</style><div id=\"sk-container-id-1\" class=\"sk-top-container\"><div class=\"sk-text-repr-fallback\"><pre>XGBRegressor(base_score=None, booster=None, callbacks=None,\n",
       "             colsample_bylevel=None, colsample_bynode=None,\n",
       "             colsample_bytree=None, device=None, early_stopping_rounds=None,\n",
       "             enable_categorical=False, eval_metric=None, feature_types=None,\n",
       "             gamma=None, grow_policy=None, importance_type=None,\n",
       "             interaction_constraints=None, learning_rate=None, max_bin=None,\n",
       "             max_cat_threshold=None, max_cat_to_onehot=None,\n",
       "             max_delta_step=None, max_depth=None, max_leaves=None,\n",
       "             min_child_weight=None, missing=nan, monotone_constraints=None,\n",
       "             multi_strategy=None, n_estimators=None, n_jobs=None,\n",
       "             num_parallel_tree=None, random_state=None, ...)</pre><b>In a Jupyter environment, please rerun this cell to show the HTML representation or trust the notebook. <br />On GitHub, the HTML representation is unable to render, please try loading this page with nbviewer.org.</b></div><div class=\"sk-container\" hidden><div class=\"sk-item\"><div class=\"sk-estimator sk-toggleable\"><input class=\"sk-toggleable__control sk-hidden--visually\" id=\"sk-estimator-id-1\" type=\"checkbox\" checked><label for=\"sk-estimator-id-1\" class=\"sk-toggleable__label sk-toggleable__label-arrow\">XGBRegressor</label><div class=\"sk-toggleable__content\"><pre>XGBRegressor(base_score=None, booster=None, callbacks=None,\n",
       "             colsample_bylevel=None, colsample_bynode=None,\n",
       "             colsample_bytree=None, device=None, early_stopping_rounds=None,\n",
       "             enable_categorical=False, eval_metric=None, feature_types=None,\n",
       "             gamma=None, grow_policy=None, importance_type=None,\n",
       "             interaction_constraints=None, learning_rate=None, max_bin=None,\n",
       "             max_cat_threshold=None, max_cat_to_onehot=None,\n",
       "             max_delta_step=None, max_depth=None, max_leaves=None,\n",
       "             min_child_weight=None, missing=nan, monotone_constraints=None,\n",
       "             multi_strategy=None, n_estimators=None, n_jobs=None,\n",
       "             num_parallel_tree=None, random_state=None, ...)</pre></div></div></div></div></div>"
      ],
      "text/plain": [
       "XGBRegressor(base_score=None, booster=None, callbacks=None,\n",
       "             colsample_bylevel=None, colsample_bynode=None,\n",
       "             colsample_bytree=None, device=None, early_stopping_rounds=None,\n",
       "             enable_categorical=False, eval_metric=None, feature_types=None,\n",
       "             gamma=None, grow_policy=None, importance_type=None,\n",
       "             interaction_constraints=None, learning_rate=None, max_bin=None,\n",
       "             max_cat_threshold=None, max_cat_to_onehot=None,\n",
       "             max_delta_step=None, max_depth=None, max_leaves=None,\n",
       "             min_child_weight=None, missing=nan, monotone_constraints=None,\n",
       "             multi_strategy=None, n_estimators=None, n_jobs=None,\n",
       "             num_parallel_tree=None, random_state=None, ...)"
      ]
     },
     "execution_count": 6,
     "metadata": {},
     "output_type": "execute_result"
    }
   ],
   "source": [
    "# Load the XGBoost regressor model and label encoder from the saved model directory\n",
    "retrieved_xgboost_model = joblib.load(saved_model_dir + \"/xgboost_regressor.pkl\")\n",
    "retrieved_encoder = joblib.load(saved_model_dir + \"/label_encoder.pkl\")\n",
    "\n",
    "# Display the retrieved XGBoost regressor model\n",
    "retrieved_xgboost_model"
   ]
  },
  {
   "cell_type": "markdown",
   "id": "5cebaf44",
   "metadata": {},
   "source": [
    "## <span style=\"color:#ff5f27;\">✨ Load Batch Data of last days</span>\n",
    "\n",
    "First, you will need to fetch the training dataset that you created in the previous notebook."
   ]
  },
  {
   "cell_type": "code",
   "execution_count": 7,
   "id": "80fe3f50",
   "metadata": {},
   "outputs": [
    {
     "data": {
      "text/plain": [
       "'2024-01-22'"
      ]
     },
     "execution_count": 7,
     "metadata": {},
     "output_type": "execute_result"
    }
   ],
   "source": [
    "# Get the current date\n",
    "today = datetime.date.today()\n",
    "\n",
    "# Calculate a date threshold 30 days ago from the current date\n",
    "date_threshold = today - datetime.timedelta(days=30)\n",
    "\n",
    "# Convert the date threshold to a string format\n",
    "str(date_threshold)"
   ]
  },
  {
   "cell_type": "code",
   "execution_count": 8,
   "id": "a12b7a70",
   "metadata": {},
   "outputs": [
    {
     "name": "stdout",
     "output_type": "stream",
     "text": [
      "Finished: Reading data from Hopsworks, using ArrowFlight (7.95s) \n"
     ]
    }
   ],
   "source": [
    "# Initialize batch scoring\n",
    "feature_view.init_batch_scoring(1)\n",
    "\n",
    "# Retrieve batch data from the feature view with a start time set to the date threshold\n",
    "batch_data = feature_view.get_batch_data(\n",
    "    start_time=date_threshold,\n",
    ")"
   ]
  },
  {
   "cell_type": "markdown",
   "id": "3ad3a21b",
   "metadata": {},
   "source": [
    "### <span style=\"color:#ff5f27;\">🤖 Making the predictions</span>"
   ]
  },
  {
   "cell_type": "code",
   "execution_count": 12,
   "id": "c503ca0c",
   "metadata": {},
   "outputs": [
    {
     "data": {
      "text/html": [
       "<div>\n",
       "<style scoped>\n",
       "    .dataframe tbody tr th:only-of-type {\n",
       "        vertical-align: middle;\n",
       "    }\n",
       "\n",
       "    .dataframe tbody tr th {\n",
       "        vertical-align: top;\n",
       "    }\n",
       "\n",
       "    .dataframe thead th {\n",
       "        text-align: right;\n",
       "    }\n",
       "</style>\n",
       "<table border=\"1\" class=\"dataframe\">\n",
       "  <thead>\n",
       "    <tr style=\"text-align: right;\">\n",
       "      <th></th>\n",
       "      <th>pm_2_5_previous_1_day</th>\n",
       "      <th>pm_2_5_previous_2_day</th>\n",
       "      <th>pm_2_5_previous_3_day</th>\n",
       "      <th>pm_2_5_previous_4_day</th>\n",
       "      <th>pm_2_5_previous_5_day</th>\n",
       "      <th>pm_2_5_previous_6_day</th>\n",
       "      <th>pm_2_5_previous_7_day</th>\n",
       "      <th>mean_7_days</th>\n",
       "      <th>mean_14_days</th>\n",
       "      <th>mean_28_days</th>\n",
       "      <th>...</th>\n",
       "      <th>temperature_max</th>\n",
       "      <th>temperature_min</th>\n",
       "      <th>precipitation_sum</th>\n",
       "      <th>rain_sum</th>\n",
       "      <th>snowfall_sum</th>\n",
       "      <th>precipitation_hours</th>\n",
       "      <th>wind_speed_max</th>\n",
       "      <th>wind_gusts_max</th>\n",
       "      <th>wind_direction_dominant</th>\n",
       "      <th>city_name_encoded</th>\n",
       "    </tr>\n",
       "  </thead>\n",
       "  <tbody>\n",
       "    <tr>\n",
       "      <th>0</th>\n",
       "      <td>7.7</td>\n",
       "      <td>7.4</td>\n",
       "      <td>6.8</td>\n",
       "      <td>22.9</td>\n",
       "      <td>8.6</td>\n",
       "      <td>11.1</td>\n",
       "      <td>8.5</td>\n",
       "      <td>10.428571</td>\n",
       "      <td>9.150000</td>\n",
       "      <td>9.610714</td>\n",
       "      <td>...</td>\n",
       "      <td>8.8</td>\n",
       "      <td>-3.9</td>\n",
       "      <td>0.0</td>\n",
       "      <td>0.0</td>\n",
       "      <td>0.0</td>\n",
       "      <td>0.0</td>\n",
       "      <td>15.1</td>\n",
       "      <td>32.4</td>\n",
       "      <td>108</td>\n",
       "      <td>3</td>\n",
       "    </tr>\n",
       "    <tr>\n",
       "      <th>1</th>\n",
       "      <td>13.9</td>\n",
       "      <td>11.9</td>\n",
       "      <td>15.2</td>\n",
       "      <td>19.1</td>\n",
       "      <td>14.8</td>\n",
       "      <td>10.6</td>\n",
       "      <td>6.4</td>\n",
       "      <td>13.128571</td>\n",
       "      <td>9.600000</td>\n",
       "      <td>11.667857</td>\n",
       "      <td>...</td>\n",
       "      <td>7.9</td>\n",
       "      <td>2.5</td>\n",
       "      <td>0.0</td>\n",
       "      <td>0.0</td>\n",
       "      <td>0.0</td>\n",
       "      <td>0.0</td>\n",
       "      <td>13.0</td>\n",
       "      <td>19.4</td>\n",
       "      <td>83</td>\n",
       "      <td>31</td>\n",
       "    </tr>\n",
       "    <tr>\n",
       "      <th>2</th>\n",
       "      <td>2.7</td>\n",
       "      <td>5.1</td>\n",
       "      <td>6.9</td>\n",
       "      <td>3.7</td>\n",
       "      <td>5.1</td>\n",
       "      <td>7.6</td>\n",
       "      <td>10.5</td>\n",
       "      <td>5.942857</td>\n",
       "      <td>5.307143</td>\n",
       "      <td>5.285714</td>\n",
       "      <td>...</td>\n",
       "      <td>10.7</td>\n",
       "      <td>7.5</td>\n",
       "      <td>1.9</td>\n",
       "      <td>1.9</td>\n",
       "      <td>0.0</td>\n",
       "      <td>4.0</td>\n",
       "      <td>18.5</td>\n",
       "      <td>39.2</td>\n",
       "      <td>225</td>\n",
       "      <td>37</td>\n",
       "    </tr>\n",
       "  </tbody>\n",
       "</table>\n",
       "<p>3 rows × 38 columns</p>\n",
       "</div>"
      ],
      "text/plain": [
       "   pm_2_5_previous_1_day  pm_2_5_previous_2_day  pm_2_5_previous_3_day  \\\n",
       "0                    7.7                    7.4                    6.8   \n",
       "1                   13.9                   11.9                   15.2   \n",
       "2                    2.7                    5.1                    6.9   \n",
       "\n",
       "   pm_2_5_previous_4_day  pm_2_5_previous_5_day  pm_2_5_previous_6_day  \\\n",
       "0                   22.9                    8.6                   11.1   \n",
       "1                   19.1                   14.8                   10.6   \n",
       "2                    3.7                    5.1                    7.6   \n",
       "\n",
       "   pm_2_5_previous_7_day  mean_7_days  mean_14_days  mean_28_days  ...  \\\n",
       "0                    8.5    10.428571      9.150000      9.610714  ...   \n",
       "1                    6.4    13.128571      9.600000     11.667857  ...   \n",
       "2                   10.5     5.942857      5.307143      5.285714  ...   \n",
       "\n",
       "   temperature_max  temperature_min  precipitation_sum  rain_sum  \\\n",
       "0              8.8             -3.9                0.0       0.0   \n",
       "1              7.9              2.5                0.0       0.0   \n",
       "2             10.7              7.5                1.9       1.9   \n",
       "\n",
       "   snowfall_sum  precipitation_hours  wind_speed_max  wind_gusts_max  \\\n",
       "0           0.0                  0.0            15.1            32.4   \n",
       "1           0.0                  0.0            13.0            19.4   \n",
       "2           0.0                  4.0            18.5            39.2   \n",
       "\n",
       "   wind_direction_dominant  city_name_encoded  \n",
       "0                      108                  3  \n",
       "1                       83                 31  \n",
       "2                      225                 37  \n",
       "\n",
       "[3 rows x 38 columns]"
      ]
     },
     "execution_count": 12,
     "metadata": {},
     "output_type": "execute_result"
    }
   ],
   "source": [
    "# Transform the 'city_name' column in the batch data using the retrieved label encoder\n",
    "encoded = retrieved_encoder.transform(batch_data['city_name'])\n",
    "\n",
    "# Concatenate the label-encoded 'city_name' with the original batch data\n",
    "X_batch = pd.concat([batch_data, pd.DataFrame(encoded)], axis=1)\n",
    "\n",
    "# Drop unnecessary columns ('date', 'city_name', 'unix_time') from the batch data\n",
    "X_batch = X_batch.drop(columns=['date', 'city_name', 'unix_time'])\n",
    "\n",
    "# Rename the newly added column with label-encoded city names to 'city_name_encoded'\n",
    "X_batch = X_batch.rename(columns={0: 'city_name_encoded'})\n",
    "\n",
    "# Extract the target variable 'pm2_5' from the batch data\n",
    "y_batch = X_batch.pop('pm2_5')\n",
    "\n",
    "X_batch.head(3)"
   ]
  },
  {
   "cell_type": "code",
   "execution_count": 10,
   "id": "776d5f3e",
   "metadata": {},
   "outputs": [
    {
     "data": {
      "text/plain": [
       "array([11.763566 , 12.726435 ,  3.3570244,  5.7458963,  5.986775 ],\n",
       "      dtype=float32)"
      ]
     },
     "execution_count": 10,
     "metadata": {},
     "output_type": "execute_result"
    }
   ],
   "source": [
    "# Make predictions on the batch data using the retrieved XGBoost regressor model\n",
    "predictions = retrieved_xgboost_model.predict(X_batch)\n",
    "\n",
    "# Display the first 5 predictions\n",
    "predictions[:5]"
   ]
  },
  {
   "cell_type": "markdown",
   "id": "d2fc393e",
   "metadata": {},
   "source": [
    "---\n",
    "## <span style=\"color:#ff5f27;\">👾 Now try out the Streamlit App!</span>"
   ]
  },
  {
   "cell_type": "code",
   "execution_count": 11,
   "id": "421d3a33",
   "metadata": {},
   "outputs": [],
   "source": [
    "# !python3 -m streamlit run streamlit_app.py"
   ]
  },
  {
   "cell_type": "markdown",
   "id": "e83d324f",
   "metadata": {},
   "source": [
    "---\n",
    "\n",
    "### <span style=\"color:#ff5f27;\">🥳 <b> Next Steps  </b> </span>\n",
    "Congratulations you've now completed the Air Quality tutorial for Managed Hopsworks.\n",
    "\n",
    "Check out our other tutorials on ➡ https://github.com/logicalclocks/hopsworks-tutorials\n",
    "\n",
    "Or documentation at ➡ https://docs.hopsworks.ai"
   ]
  }
 ],
 "metadata": {
  "kernelspec": {
   "display_name": "Python 3",
   "language": "python",
   "name": "python3"
  },
  "language_info": {
   "codemirror_mode": {
    "name": "ipython",
    "version": 3
   },
   "file_extension": ".py",
   "mimetype": "text/x-python",
   "name": "python",
   "nbconvert_exporter": "python",
   "pygments_lexer": "ipython3",
   "version": "3.9.12"
  }
 },
 "nbformat": 4,
 "nbformat_minor": 5
}
