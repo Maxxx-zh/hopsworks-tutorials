{
 "cells": [
  {
   "cell_type": "markdown",
   "id": "edc89049",
   "metadata": {},
   "source": [
    "# <span style=\"font-width:bold; font-size: 3rem; color:#1EB182;\"><img src=\"../images/icon102.png\" width=\"38px\"></img> **Hopsworks Feature Store** </span><span style=\"font-width:bold; font-size: 3rem; color:#333;\">- Part 04: Batch Inference</span>\n",
    "\n",
    "## 🗒️ This notebook is divided into the following sections:\n",
    "\n",
    "1. Load batch data.\n",
    "2. Retrieve your trained model from the Model Registry.\n",
    "3. Load batch data.\n",
    "4. Predict batch data."
   ]
  },
  {
   "cell_type": "markdown",
   "id": "0cbefa72",
   "metadata": {},
   "source": [
    "## <span style='color:#ff5f27'> 📝 Imports"
   ]
  },
  {
   "cell_type": "code",
   "execution_count": null,
   "id": "2635641d",
   "metadata": {},
   "outputs": [],
   "source": [
    "import joblib\n",
    "import datetime\n",
    "import pandas as pd"
   ]
  },
  {
   "cell_type": "markdown",
   "id": "97e466ff",
   "metadata": {},
   "source": [
    "## <span style=\"color:#ff5f27;\"> 📡 Connect to Hopsworks Model Registry </span>"
   ]
  },
  {
   "cell_type": "code",
   "execution_count": null,
   "id": "dd83456c",
   "metadata": {},
   "outputs": [],
   "source": [
    "import hopsworks\n",
    "\n",
    "project = hopsworks.login()\n",
    "\n",
    "# Retrieve the model registry\n",
    "mr = project.get_model_registry()"
   ]
  },
  {
   "cell_type": "markdown",
   "id": "f887c4ba",
   "metadata": {},
   "source": [
    "## <span style=\"color:#ff5f27;\">🪝 Retrieve model from Model Registry</span>"
   ]
  },
  {
   "cell_type": "code",
   "execution_count": null,
   "id": "9f52593a",
   "metadata": {},
   "outputs": [],
   "source": [
    "# Retrieve the 'air_quality_xgboost_model' from the model registry\n",
    "retrieved_model = mr.get_model(\n",
    "    name=\"air_quality_xgboost_model\",\n",
    "    version=1,\n",
    ")\n",
    "\n",
    "# Download the saved model artifacts to a local directory\n",
    "saved_model_dir = retrieved_model.download()"
   ]
  },
  {
   "cell_type": "code",
   "execution_count": null,
   "id": "020d13b0",
   "metadata": {},
   "outputs": [],
   "source": [
    "# Load the XGBoost regressor model and label encoder from the saved model directory\n",
    "xgboost_model = joblib.load(saved_model_dir + \"/xgboost_regressor.pkl\")\n",
    "encoder = joblib.load(saved_model_dir + \"/label_encoder.pkl\")"
   ]
  },
  {
   "cell_type": "markdown",
   "id": "0c5fdb49-b99e-40b0-8697-bfcdc15ce251",
   "metadata": {},
   "source": [
    "## <span style=\"color:#ff5f27;\"> ⚙️ Feature View Retrieval</span>"
   ]
  },
  {
   "cell_type": "code",
   "execution_count": null,
   "id": "f2f709a1-4abb-4c08-b9d8-1e084f51bb43",
   "metadata": {},
   "outputs": [],
   "source": [
    "# Retrieve the 'air_quality_fv' feature view\n",
    "feature_view = retrieved_model.get_feature_view()\n",
    "feature_view.name, feature_view.version"
   ]
  },
  {
   "cell_type": "markdown",
   "id": "b8e37bb1",
   "metadata": {},
   "source": [
    "## <span style=\"color:#ff5f27;\">✨ Load Batch Data of last days</span>\n",
    "\n",
    "First, you will need to fetch the training dataset that you created in the previous notebook."
   ]
  },
  {
   "cell_type": "code",
   "execution_count": null,
   "id": "733a1355",
   "metadata": {},
   "outputs": [],
   "source": [
    "# Get the current date\n",
    "today = datetime.date.today()\n",
    "\n",
    "# Calculate a date threshold 30 days ago from the current date\n",
    "date_threshold = today - datetime.timedelta(days=30)\n",
    "\n",
    "# Convert the date threshold to a string format\n",
    "str(date_threshold)"
   ]
  },
  {
   "cell_type": "code",
   "execution_count": null,
   "id": "5a5c283b",
   "metadata": {},
   "outputs": [],
   "source": [
    "# Retrieve batch data from the feature view with a start time set to the date threshold\n",
    "batch_data = feature_view.get_batch_data(\n",
    "    start_time=date_threshold,\n",
    ")"
   ]
  },
  {
   "cell_type": "markdown",
   "id": "00a46a76",
   "metadata": {},
   "source": [
    "### <span style=\"color:#ff5f27;\">🤖 Making the predictions</span>"
   ]
  },
  {
   "cell_type": "code",
   "execution_count": null,
   "id": "f1e09066",
   "metadata": {},
   "outputs": [],
   "source": [
    "# Transform the 'city_name' column in the batch data using the retrieved label encoder\n",
    "encoded = encoder.transform(batch_data['city_name'])\n",
    "\n",
    "# Concatenate the label-encoded 'city_name' with the original batch data\n",
    "X_batch = pd.concat([batch_data, pd.DataFrame(encoded)], axis=1)\n",
    "\n",
    "# Drop unnecessary columns ('date', 'city_name', 'unix_time') from the batch data\n",
    "X_batch = X_batch.drop(columns=['date', 'city_name', 'unix_time'])\n",
    "\n",
    "# Rename the newly added column with label-encoded city names to 'city_name_encoded'\n",
    "X_batch = X_batch.rename(columns={0: 'city_name_encoded'})\n",
    "\n",
    "# Extract the target variable 'pm2_5' from the batch data\n",
    "y_batch = X_batch.pop('pm2_5')\n",
    "\n",
    "X_batch.head(3)"
   ]
  },
  {
   "cell_type": "code",
   "execution_count": null,
   "id": "5149127e",
   "metadata": {},
   "outputs": [],
   "source": [
    "# Make predictions on the batch data using the retrieved XGBoost regressor model\n",
    "predictions = xgboost_model.predict(X_batch)\n",
    "\n",
    "# Display the first 5 predictions\n",
    "predictions[:5]"
   ]
  },
  {
   "cell_type": "markdown",
   "id": "ccbc0bb6",
   "metadata": {},
   "source": [
    "---\n",
    "## <span style=\"color:#ff5f27;\">👾 Now try out the Streamlit App!</span>"
   ]
  },
  {
   "cell_type": "code",
   "execution_count": null,
   "id": "d784e05e",
   "metadata": {},
   "outputs": [],
   "source": [
    "# !python3 -m streamlit run streamlit_app.py"
   ]
  },
  {
   "cell_type": "markdown",
   "id": "569fc146",
   "metadata": {},
   "source": [
    "---\n",
    "\n",
    "### <span style=\"color:#ff5f27;\">🥳 <b> Next Steps  </b> </span>\n",
    "Congratulations you've now completed the Air Quality tutorial for Managed Hopsworks.\n",
    "\n",
    "Check out our other tutorials on ➡ https://github.com/logicalclocks/hopsworks-tutorials\n",
    "\n",
    "Or documentation at ➡ https://docs.hopsworks.ai"
   ]
  }
 ],
 "metadata": {
  "kernelspec": {
   "display_name": "Python",
   "language": "python",
   "name": "python3"
  },
  "language_info": {
   "codemirror_mode": {
    "name": "ipython",
    "version": 3
   },
   "file_extension": ".py",
   "mimetype": "text/x-python",
   "name": "python",
   "nbconvert_exporter": "python",
   "pygments_lexer": "ipython3",
   "version": "3.10.11"
  }
 },
 "nbformat": 4,
 "nbformat_minor": 5
}
