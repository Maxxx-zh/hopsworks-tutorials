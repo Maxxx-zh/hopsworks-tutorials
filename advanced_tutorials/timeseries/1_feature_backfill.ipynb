{
 "cells": [
  {
   "cell_type": "markdown",
   "id": "3e80dec4",
   "metadata": {},
   "source": [
    "## <span style=\"color:#ff5f27\">📝 Imports </span>"
   ]
  },
  {
   "cell_type": "code",
   "execution_count": null,
   "id": "27d37094",
   "metadata": {},
   "outputs": [],
   "source": [
    "import datetime\n",
    "from features.price import generate_historical_data, to_wide_format, plot_historical_id\n",
    "from features.averages import calculate_second_order_features\n",
    "\n",
    "import great_expectations as ge\n",
    "from great_expectations.core import ExpectationSuite, ExpectationConfiguration\n",
    "\n",
    "import warnings\n",
    "warnings.filterwarnings('ignore')"
   ]
  },
  {
   "cell_type": "markdown",
   "id": "cfae4d6e",
   "metadata": {},
   "source": [
    "## <span style=\"color:#ff5f27\">⚙️ Data Generation </span>\n",
    "\n",
    "Let's define the `START_DATE` variable (format: %Y-%m-%d) which will indicate the start date for data generation."
   ]
  },
  {
   "cell_type": "code",
   "execution_count": null,
   "id": "b7bee036",
   "metadata": {},
   "outputs": [],
   "source": [
    "START_DATE = datetime.date(2022, 9, 1)"
   ]
  },
  {
   "cell_type": "code",
   "execution_count": null,
   "id": "b610580b",
   "metadata": {},
   "outputs": [],
   "source": [
    "data_generated = generate_historical_data(\n",
    "    START_DATE,\n",
    ")\n",
    "data_generated.head(3)"
   ]
  },
  {
   "cell_type": "markdown",
   "id": "3e8bacfa",
   "metadata": {},
   "source": [
    "Look at historical values for 1 and 2 IDs."
   ]
  },
  {
   "cell_type": "code",
   "execution_count": null,
   "id": "5e229269",
   "metadata": {},
   "outputs": [],
   "source": [
    "plot_historical_id([1,2], data_generated)"
   ]
  },
  {
   "cell_type": "markdown",
   "id": "c83e00ef",
   "metadata": {},
   "source": [
    "## <span style=\"color:#ff5f27\"> 👮🏻‍♂️ Great Expectations </span>"
   ]
  },
  {
   "cell_type": "code",
   "execution_count": null,
   "id": "4d644fc1",
   "metadata": {},
   "outputs": [],
   "source": [
    "ge_price_df = ge.from_pandas(data_generated)\n",
    "expectation_suite_price = ge_price_df.get_expectation_suite()\n",
    "expectation_suite_price.expectation_suite_name = \"price_suite\""
   ]
  },
  {
   "cell_type": "code",
   "execution_count": null,
   "id": "21ea95d9",
   "metadata": {},
   "outputs": [],
   "source": [
    "expectation_suite_price.add_expectation(\n",
    "    ExpectationConfiguration(\n",
    "        expectation_type=\"expect_column_values_to_be_between\",\n",
    "        kwargs={\n",
    "            \"column\": \"id\",\n",
    "            \"min_value\": 0,\n",
    "            \"max_value\": 5000,\n",
    "        }\n",
    "    )\n",
    ")\n",
    "\n",
    "expectation_suite_price.add_expectation(\n",
    "    ExpectationConfiguration(\n",
    "        expectation_type=\"expect_column_values_to_be_between\",\n",
    "        kwargs={\n",
    "            \"column\": \"price\",\n",
    "            \"min_value\": 0,\n",
    "            \"max_value\": 1000,\n",
    "        }\n",
    "    )\n",
    ")\n",
    "\n",
    "for column in ['date', 'id', 'price']:\n",
    "    expectation_suite_price.add_expectation(\n",
    "        ExpectationConfiguration(\n",
    "            expectation_type=\"expect_column_values_to_be_null\",\n",
    "            kwargs={\n",
    "                \"column\": column,\n",
    "                \"mostly\": 0.0,\n",
    "            }\n",
    "        )\n",
    "    )"
   ]
  },
  {
   "cell_type": "markdown",
   "id": "6148b5e6",
   "metadata": {},
   "source": [
    "## <span style=\"color:#ff5f27\">🔮 Connect to Hopsworks Feature Store </span>"
   ]
  },
  {
   "cell_type": "code",
   "execution_count": null,
   "id": "e8d98244",
   "metadata": {},
   "outputs": [],
   "source": [
    "import hopsworks\n",
    "\n",
    "project = hopsworks.login()\n",
    "\n",
    "fs = project.get_feature_store() "
   ]
  },
  {
   "cell_type": "markdown",
   "id": "9471bceb",
   "metadata": {},
   "source": [
    "## <span style=\"color:#ff5f27\">🪄 Feature Group Creation </span>"
   ]
  },
  {
   "cell_type": "code",
   "execution_count": null,
   "id": "b13b302d",
   "metadata": {},
   "outputs": [],
   "source": [
    "price_fg = fs.get_or_create_feature_group(\n",
    "    name='price',\n",
    "    description='Price Data',\n",
    "    version=1,\n",
    "    primary_key=['id'],\n",
    "    event_time='date',\n",
    "    online_enabled=True,\n",
    "    expectation_suite=expectation_suite_price,\n",
    ")    \n",
    "price_fg.insert(data_generated)"
   ]
  },
  {
   "cell_type": "markdown",
   "id": "d46f8a6b",
   "metadata": {},
   "source": [
    "## <span style=\"color:#ff5f27\"> 👩🏻‍🔬 Data Transformation to Wide Format </span>"
   ]
  },
  {
   "cell_type": "code",
   "execution_count": null,
   "id": "05d1f67f",
   "metadata": {},
   "outputs": [],
   "source": [
    "price_fg = fs.get_feature_group(\n",
    "    name='price',\n",
    "    version=1,\n",
    ")\n",
    "price_df = price_fg.read()\n",
    "price_df.head(5)"
   ]
  },
  {
   "cell_type": "code",
   "execution_count": null,
   "id": "3ca4e8f1",
   "metadata": {},
   "outputs": [],
   "source": [
    "price_df_wide = to_wide_format(price_df)\n",
    "price_df_wide.head(3)"
   ]
  },
  {
   "cell_type": "markdown",
   "id": "ecb792ca",
   "metadata": {},
   "source": [
    "Let's show missing data per ID.\n",
    "\n",
    "You will filter missing data using `.isna()`."
   ]
  },
  {
   "cell_type": "code",
   "execution_count": null,
   "id": "d9369cf4",
   "metadata": {},
   "outputs": [],
   "source": [
    "price_df_wide.isna().sum()[price_df_wide.isna().sum() > 0]"
   ]
  },
  {
   "cell_type": "markdown",
   "id": "b7ad450b",
   "metadata": {},
   "source": [
    "## <span style=\"color:#ff5f27\">⚙️ Feature Engineering  </span>\n",
    "\n",
    "We will engineer the next features:\n",
    "\n",
    "- `ma_7`: This feature represents the 7-day moving average of the 'price' data, providing a smoothed representation of short-term price trends.\n",
    "\n",
    "- `ma_14`: This feature represents the 14-day moving average of the 'price' data, offering a slightly longer-term smoothed price trend.\n",
    "\n",
    "- `ma_30`: This feature represents the 30-day moving average of the 'price' data, providing a longer-term smoothed representation of price trends.\n",
    "\n",
    "- `daily_rate_of_change`: This feature calculates the daily rate of change in prices as a percentage change, indicating how much the price has changed from the previous day.\n",
    "\n",
    "- `volatility_30_day`: This feature measures the volatility of prices over a 30-day window using the standard deviation. Higher values indicate greater price fluctuations.\n",
    "\n",
    "- `ema_02`: This feature calculates the exponential moving average (EMA) of 'price' with a smoothing factor of 0.2, giving more weight to recent data points in the calculation.\n",
    "\n",
    "- `ema_05`: Similar to ema_02, this feature calculates the EMA of 'price' with a smoothing factor of 0.5, providing a different degree of responsiveness to recent data.\n",
    "\n",
    "- `rsi`: The Relative Strength Index (RSI) is a momentum oscillator that measures the speed and change of price movements. It ranges from 0 to 100, with values above 70 indicating overbought conditions and values below 30 indicating oversold conditions."
   ]
  },
  {
   "cell_type": "code",
   "execution_count": null,
   "id": "2b3f9bbe",
   "metadata": {},
   "outputs": [],
   "source": [
    "averages_df = calculate_second_order_features(price_df)\n",
    "averages_df.head()"
   ]
  },
  {
   "cell_type": "markdown",
   "id": "b8496432",
   "metadata": {},
   "source": [
    "## <span style=\"color:#ff5f27\">🪄 Feature Group Creation </span>"
   ]
  },
  {
   "cell_type": "code",
   "execution_count": null,
   "id": "e4c0dbab",
   "metadata": {},
   "outputs": [],
   "source": [
    "averages_fg = fs.get_or_create_feature_group(\n",
    "    name='averages',\n",
    "    description='Calculated second order features',\n",
    "    version=1,\n",
    "    primary_key=['id'],\n",
    "    event_time='date',\n",
    "    online_enabled=True,\n",
    "    parents=[price_fg],\n",
    ")\n",
    "averages_fg.insert(averages_df)"
   ]
  },
  {
   "cell_type": "markdown",
   "id": "6fdf0327",
   "metadata": {},
   "source": [
    "---"
   ]
  }
 ],
 "metadata": {
  "kernelspec": {
   "display_name": "Python 3 (ipykernel)",
   "language": "python",
   "name": "python3"
  },
  "language_info": {
   "codemirror_mode": {
    "name": "ipython",
    "version": 3
   },
   "file_extension": ".py",
   "mimetype": "text/x-python",
   "name": "python",
   "nbconvert_exporter": "python",
   "pygments_lexer": "ipython3",
   "version": "3.9.13"
  }
 },
 "nbformat": 4,
 "nbformat_minor": 5
}
