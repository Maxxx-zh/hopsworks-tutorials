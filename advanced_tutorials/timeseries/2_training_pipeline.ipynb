{
 "cells": [
  {
   "cell_type": "markdown",
   "id": "83dd6e7e",
   "metadata": {},
   "source": [
    "## <span style=\"color:#ff5f27\">📝 Imports </span>"
   ]
  },
  {
   "cell_type": "code",
   "execution_count": null,
   "id": "5c5b0a68",
   "metadata": {},
   "outputs": [],
   "source": [
    "!pip install -U kaleido # For Plotly Image export"
   ]
  },
  {
   "cell_type": "code",
   "execution_count": null,
   "id": "8355be0e",
   "metadata": {},
   "outputs": [],
   "source": [
    "import pandas as pd\n",
    "import numpy as np\n",
    "import xgboost as xgb\n",
    "from sklearn.metrics import mean_squared_error\n",
    "import os\n",
    "import joblib\n",
    "from features.price import plot_prediction_test\n",
    "from functions import predict_id\n",
    "from datetime import datetime\n",
    "import warnings\n",
    "warnings.filterwarnings('ignore')"
   ]
  },
  {
   "cell_type": "markdown",
   "id": "9dbea0ad",
   "metadata": {},
   "source": [
    "## <span style=\"color:#ff5f27\">🔮 Connect to Hopsworks Feature Store </span>"
   ]
  },
  {
   "cell_type": "code",
   "execution_count": null,
   "id": "e499f528",
   "metadata": {},
   "outputs": [],
   "source": [
    "import hopsworks\n",
    "\n",
    "project = hopsworks.login()\n",
    "\n",
    "fs = project.get_feature_store() "
   ]
  },
  {
   "cell_type": "code",
   "execution_count": null,
   "id": "b9c6c942",
   "metadata": {},
   "outputs": [],
   "source": [
    "averages_fg = fs.get_feature_group(\n",
    "    name='averages',\n",
    "    version=1,\n",
    ")\n",
    "\n",
    "price_fg = fs.get_feature_group(\n",
    "    name='price',\n",
    "    version=1,\n",
    ")"
   ]
  },
  {
   "cell_type": "markdown",
   "id": "7e72db48",
   "metadata": {},
   "source": [
    "## <span style=\"color:#ff5f27\">🔪 Feature Selection </span>"
   ]
  },
  {
   "cell_type": "code",
   "execution_count": null,
   "id": "0740ac7f",
   "metadata": {},
   "outputs": [],
   "source": [
    "query = price_fg.select_all() \\\n",
    "    .join(averages_fg.select_except(['date']))\n",
    "query.show(5)"
   ]
  },
  {
   "cell_type": "markdown",
   "id": "1334a4cb",
   "metadata": {},
   "source": [
    "## <span style=\"color:#ff5f27\">🤖 Transformation Functions </span>"
   ]
  },
  {
   "cell_type": "code",
   "execution_count": null,
   "id": "bccb7d00",
   "metadata": {},
   "outputs": [],
   "source": [
    "# Load transformation function\n",
    "min_max_scaler = fs.get_transformation_function(name=\"min_max_scaler\")\n",
    "\n",
    "feature_names = [\n",
    "    'ma_7', 'ma_14', 'ma_30', 'daily_rate_of_change', 'volatility_30_day', 'ema_02', 'ema_05', 'rsi'\n",
    "]\n",
    "\n",
    "# Map features to transformations\n",
    "transformation_functions = {\n",
    "    feature_name: min_max_scaler\n",
    "    for feature_name in feature_names\n",
    "}\n",
    "transformation_functions"
   ]
  },
  {
   "cell_type": "markdown",
   "id": "925ad679",
   "metadata": {},
   "source": [
    "## <span style=\"color:#ff5f27\">⚙️ Feature View Creation </span>"
   ]
  },
  {
   "cell_type": "code",
   "execution_count": null,
   "id": "ffdfda5e",
   "metadata": {},
   "outputs": [],
   "source": [
    "feature_view = fs.get_or_create_feature_view(\n",
    "    name='price_fv',\n",
    "    version=1,\n",
    "    query=query,\n",
    "    labels=[\"price\"],\n",
    "    transformation_functions=transformation_functions,\n",
    ")"
   ]
  },
  {
   "cell_type": "markdown",
   "id": "3e1e1170",
   "metadata": {},
   "source": [
    "## <span style=\"color:#ff5f27\">🏋️ Training Dataset Creation </span>"
   ]
  },
  {
   "cell_type": "code",
   "execution_count": null,
   "id": "554cbace",
   "metadata": {},
   "outputs": [],
   "source": [
    "X_train, X_test, y_train, y_test = feature_view.train_test_split(\n",
    "    description='Prices Dataset',\n",
    "    train_start='2022-09-01',\n",
    "    train_end='2023-07-01',\n",
    "    test_start='2023-07-01',\n",
    "    test_end=datetime.today().strftime(\"%Y-%m-%d\"),\n",
    ")"
   ]
  },
  {
   "cell_type": "code",
   "execution_count": null,
   "id": "041666ce",
   "metadata": {},
   "outputs": [],
   "source": [
    "X_train.head()"
   ]
  },
  {
   "cell_type": "code",
   "execution_count": null,
   "id": "d7315f14",
   "metadata": {},
   "outputs": [],
   "source": [
    "y_train.head()"
   ]
  },
  {
   "cell_type": "code",
   "execution_count": null,
   "id": "af817399",
   "metadata": {},
   "outputs": [],
   "source": [
    "X_train = X_train.sort_values(\"date\")\n",
    "y_train = y_train.reindex(X_train.index)\n",
    "\n",
    "X_test = X_test.sort_values(\"date\")\n",
    "y_test = y_test.reindex(X_test.index)\n",
    "\n",
    "train_date = pd.DataFrame(X_train.pop(\"date\"))\n",
    "test_date = pd.DataFrame(X_test.pop(\"date\"))"
   ]
  },
  {
   "cell_type": "markdown",
   "id": "4e7d0253",
   "metadata": {},
   "source": [
    "## <span style=\"color:#ff5f27\">🧬 Modeling </span>\n",
    "\n",
    "We will use the XGBoost Regressor. XGBoost regressor is a powerful and highly effective machine learning algorithm for regression problems. XGBoost is known for its ability to handle complex relationships in the data, handle missing values, and provide accurate predictions. It's a popular choice in the data science community due to its robustness and excellent predictive performance, making it well-suited for our specific problem."
   ]
  },
  {
   "cell_type": "code",
   "execution_count": null,
   "id": "a999d119",
   "metadata": {},
   "outputs": [],
   "source": [
    "# Initialize the XGBoost regressor\n",
    "model = xgb.XGBRegressor()\n",
    "\n",
    "# Train the model on the training data\n",
    "model.fit(X_train, y_train)\n",
    "\n",
    "# Make predictions on the validation set\n",
    "y_test_pred = model.predict(X_test)\n",
    "\n",
    "# Calculate RMSE on the validation set\n",
    "mse = mean_squared_error(y_test, y_test_pred, squared=False)\n",
    "print(f\"Mean Squared Error (MSE): {mse}\")"
   ]
  },
  {
   "cell_type": "code",
   "execution_count": null,
   "id": "3b0f556d",
   "metadata": {},
   "outputs": [],
   "source": [
    "prediction_for_id = predict_id(1, X_test, model)\n",
    "\n",
    "fig = plot_prediction_test(1, X_train, X_test, y_train, y_test, train_date, test_date, prediction_for_id)\n",
    "fig.show()"
   ]
  },
  {
   "cell_type": "markdown",
   "id": "558799fa",
   "metadata": {},
   "source": [
    "## <span style=\"color:#ff5f27\">⚙️ Model Schema </span>"
   ]
  },
  {
   "cell_type": "code",
   "execution_count": null,
   "id": "3b490e4d",
   "metadata": {},
   "outputs": [],
   "source": [
    "from hsml.schema import Schema\n",
    "from hsml.model_schema import ModelSchema\n",
    "\n",
    "input_schema = Schema(X_train.values)\n",
    "output_schema = Schema(y_train)\n",
    "model_schema = ModelSchema(input_schema=input_schema, output_schema=output_schema)\n",
    "\n",
    "model_schema.to_dict()"
   ]
  },
  {
   "cell_type": "markdown",
   "id": "44e8f511",
   "metadata": {},
   "source": [
    "## <span style=\"color:#ff5f27\">📝 Register model </span>"
   ]
  },
  {
   "cell_type": "code",
   "execution_count": null,
   "id": "fb397a64",
   "metadata": {},
   "outputs": [],
   "source": [
    "model_dir=\"price_model\"\n",
    "if os.path.isdir(model_dir) == False:\n",
    "    os.mkdir(model_dir)\n",
    "\n",
    "joblib.dump(model, model_dir + '/xgboost_price_model.pkl')\n",
    "fig.write_image(f'{model_dir}/model_prediction.png')"
   ]
  },
  {
   "cell_type": "code",
   "execution_count": null,
   "id": "782f9731",
   "metadata": {},
   "outputs": [],
   "source": [
    "mr = project.get_model_registry()\n",
    "\n",
    "price_model = mr.python.create_model(\n",
    "    name=\"xgboost_price_model\", \n",
    "    metrics={\"MSE\": mse},\n",
    "    model_schema=model_schema,\n",
    "    input_example=X_train.sample(), \n",
    "    description=\"Price Predictor\",\n",
    ")\n",
    "\n",
    "price_model.save(model_dir)"
   ]
  },
  {
   "cell_type": "markdown",
   "id": "88bfb99f",
   "metadata": {},
   "source": [
    "## <span style=\"color:#ff5f27\">🚀 Model Deployment</span>\n",
    "\n",
    "**About Model Serving**\n",
    "\n",
    "Models can be served via KFServing or \"default\" serving, which means a Docker container exposing a Flask server. For KFServing models, or models written in Tensorflow, you do not need to write a prediction file (see the section below). However, for sklearn models using default serving, you do need to proceed to write a prediction file.\n",
    "\n",
    "In order to use KFServing, you must have Kubernetes installed and enabled on your cluster."
   ]
  },
  {
   "cell_type": "markdown",
   "id": "4017c8e4",
   "metadata": {},
   "source": [
    "## <span style=\"color:#ff5f27\">📎 Predictor script for Python models</span>\n",
    "\n",
    "Scikit-learn and XGBoost models are deployed as Python models, in which case you need to provide a Predict class that implements the predict method. The `predict()` method invokes the model on the inputs and returns the prediction as a list.\n",
    "\n",
    "The `init()` method is run when the predictor is loaded into memory, loading the model from the local directory it is materialized to, ARTIFACT_FILES_PATH.\n",
    "\n",
    "The directive **\"%%writefile\"** writes out the cell before to the given Python file. We will use the **predict_example.py** file to create a deployment for our model."
   ]
  },
  {
   "cell_type": "code",
   "execution_count": null,
   "id": "79a97ca9",
   "metadata": {},
   "outputs": [],
   "source": [
    "%%writefile predict_example.py\n",
    "import os\n",
    "import numpy as np\n",
    "import pandas as pd\n",
    "import hsfs\n",
    "import joblib\n",
    "\n",
    "\n",
    "class Predict(object):\n",
    "\n",
    "    def __init__(self):\n",
    "        \"\"\" Initializes the serving state, reads a trained model\"\"\"        \n",
    "        # get feature store handle\n",
    "        fs_conn = hsfs.connection()\n",
    "        self.fs = fs_conn.get_feature_store()\n",
    "        \n",
    "        # get feature view\n",
    "        self.fv = self.fs.get_feature_view(\"price_fv\", 1)\n",
    "        \n",
    "        # initialize serving\n",
    "        self.fv.init_serving(1)\n",
    "\n",
    "        # load the trained model\n",
    "        self.model = joblib.load(os.environ[\"ARTIFACT_FILES_PATH\"] + \"/xgboost_price_model.pkl\")\n",
    "        print(\"Initialization Complete\")\n",
    "\n",
    "    \n",
    "    def predict(self, id_value):\n",
    "        \"\"\" Serves a prediction request usign a trained model\"\"\"\n",
    "        # Retrieve feature vectors\n",
    "        feature_vector = self.fv.get_feature_vector(\n",
    "            entry = {'id': id_value[0]}\n",
    "        )\n",
    "        return self.model.predict(np.asarray(feature_vector[1:]).reshape(1, -1)).tolist()"
   ]
  },
  {
   "cell_type": "markdown",
   "id": "b979582c",
   "metadata": {},
   "source": [
    "This script needs to be put into a known location in the Hopsworks file system. Let's call the file predict_example.py and put it in the Models directory."
   ]
  },
  {
   "cell_type": "code",
   "execution_count": null,
   "id": "a64048e9",
   "metadata": {},
   "outputs": [],
   "source": [
    "dataset_api = project.get_dataset_api()\n",
    "\n",
    "uploaded_file_path = dataset_api.upload(\"predict_example.py\", \"Models\", overwrite=True)\n",
    "predictor_script_path = os.path.join(\"/Projects\", project.name, uploaded_file_path)"
   ]
  },
  {
   "cell_type": "markdown",
   "id": "7d7cea10",
   "metadata": {},
   "source": [
    "---"
   ]
  },
  {
   "cell_type": "markdown",
   "id": "cf59ec95",
   "metadata": {},
   "source": [
    "## <span style=\"color:#ff5f27\">🚀 Create the deployment</span>\n",
    "\n",
    "Here, you fetch the model you want from the model registry and define a configuration for the deployment. For the configuration, you need to specify the serving type (default or KFserving)."
   ]
  },
  {
   "cell_type": "code",
   "execution_count": null,
   "id": "9f98e2dd",
   "metadata": {},
   "outputs": [],
   "source": [
    "deployment = price_model.deploy(\n",
    "    name=\"priceonlinemodeldeployment\",\n",
    "    script_file=predictor_script_path,\n",
    ")"
   ]
  },
  {
   "cell_type": "code",
   "execution_count": null,
   "id": "86154683",
   "metadata": {},
   "outputs": [],
   "source": [
    "deployment.start(await_running=180)"
   ]
  },
  {
   "cell_type": "code",
   "execution_count": null,
   "id": "80e5b6ec",
   "metadata": {},
   "outputs": [],
   "source": [
    "deployment.get_state().describe()"
   ]
  },
  {
   "cell_type": "code",
   "execution_count": null,
   "id": "ea906d47",
   "metadata": {},
   "outputs": [],
   "source": [
    "# Predict price for the 1 ID\n",
    "deployment.predict({'instances': [1]})"
   ]
  },
  {
   "cell_type": "markdown",
   "id": "1354c27a",
   "metadata": {},
   "source": [
    "---"
   ]
  }
 ],
 "metadata": {
  "kernelspec": {
   "display_name": "Python 3 (ipykernel)",
   "language": "python",
   "name": "python3"
  },
  "language_info": {
   "codemirror_mode": {
    "name": "ipython",
    "version": 3
   },
   "file_extension": ".py",
   "mimetype": "text/x-python",
   "name": "python",
   "nbconvert_exporter": "python",
   "pygments_lexer": "ipython3",
   "version": "3.9.13"
  }
 },
 "nbformat": 4,
 "nbformat_minor": 5
}
